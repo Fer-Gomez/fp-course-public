{
 "cells": [
  {
   "cell_type": "markdown",
   "metadata": {},
   "source": [
    "# Exploring Exoplanets with Type Providers and Plotly\n",
    "\n",
    "This is a new three parts episode of the course [Make F# your first functional programming language](https://github.com/fcolavecchia/fp-course-public). In the first part  we review the use of a Type Provider (thanks to [`FSharp.Data`](https://fsprojects.github.io/FSharp.Data/)), while we explore how to plot the data using [Plotly](https://plotly.com/fsharp/). This is a typical workflow for Data Sciences processing. \n"
   ]
  },
  {
   "cell_type": "markdown",
   "metadata": {},
   "source": [
    "## Getting the data\n",
    "\n",
    "We are going to space! \n",
    "\n",
    "Yes, the Earth is not alone in the Universe, since there are thousands of planets orbiting stars in our galaxy, not so far away. These planets, called exoplanets, were first discovered in 1992. For this episode, we are going to use the data from the [NASA Exoplanet Archive](https://exoplanetarchive.ipac.caltech.edu/index.html). The data is stored in a database that can be accessed using an API, for example with `wget` or directly in the browser. I downloaded a curated version of that data to play with, in a [csv file](data/consolidatedExoPlanets.csv). \n",
    "\n",
    "Let us recall that a Type Provider is an implementation in F# that enables one to create a `type` from some structured data read from a file. This data can be in html, csv, json or xml format, that are ubiquitous in the web. To this end, we neeed to install the package in this notebook and open it:"
   ]
  },
  {
   "cell_type": "code",
   "execution_count": 1,
   "metadata": {
    "dotnet_interactive": {
     "language": "fsharp"
    },
    "polyglot_notebook": {
     "kernelName": "fsharp"
    },
    "vscode": {
     "languageId": "polyglot-notebook"
    }
   },
   "outputs": [
    {
     "data": {
      "text/html": [
       "<div><div></div><div></div><div><strong>Installed Packages</strong><ul><li><span>FSharp.Data, 6.3.0</span></li></ul></div></div>"
      ]
     },
     "metadata": {},
     "output_type": "display_data"
    }
   ],
   "source": [
    "#r \"nuget: FSharp.Data\"\n",
    "\n",
    "open FSharp.Data"
   ]
  },
  {
   "cell_type": "markdown",
   "metadata": {},
   "source": [
    "The type provider needs a structured data source to build the type, in our case we have the data in a file:"
   ]
  },
  {
   "cell_type": "code",
   "execution_count": 2,
   "metadata": {
    "dotnet_interactive": {
     "language": "fsharp"
    },
    "polyglot_notebook": {
     "kernelName": "fsharp"
    },
    "vscode": {
     "languageId": "polyglot-notebook"
    }
   },
   "outputs": [],
   "source": [
    "[<Literal>]\n",
    "let exoplanetsFile = \"../data/exoplanets.csv\""
   ]
  },
  {
   "cell_type": "markdown",
   "metadata": {},
   "source": [
    "Creating the type is as easy as"
   ]
  },
  {
   "cell_type": "code",
   "execution_count": 3,
   "metadata": {
    "dotnet_interactive": {
     "language": "fsharp"
    },
    "polyglot_notebook": {
     "kernelName": "fsharp"
    },
    "vscode": {
     "languageId": "polyglot-notebook"
    }
   },
   "outputs": [],
   "source": [
    "type ExoPlanetTypeProvider = FSharp.Data.CsvProvider<exoplanetsFile, HasHeaders=true>"
   ]
  },
  {
   "cell_type": "markdown",
   "metadata": {},
   "source": [
    "As usual in data science, one takes a glimpse of the data to have an overall feeling on what the data is about, while leaving the details to the code. One can notice that the file has the column names in the first row, that is why we use the argument `HasHeaders=true`.\n",
    "\n",
    "> Check more details on how the Type Provider works in [this episode](https://github.com/fcolavecchia/fp-course-public/blob/main/en/80_TypeProviders.ipynb).\n",
    "\n",
    "Now we effectively create the data and the type with:"
   ]
  },
  {
   "cell_type": "code",
   "execution_count": 4,
   "metadata": {
    "dotnet_interactive": {
     "language": "fsharp"
    },
    "polyglot_notebook": {
     "kernelName": "fsharp"
    },
    "vscode": {
     "languageId": "polyglot-notebook"
    }
   },
   "outputs": [],
   "source": [
    "let exoplanets = ExoPlanetTypeProvider.GetSample()"
   ]
  },
  {
   "cell_type": "markdown",
   "metadata": {},
   "source": [
    "Let us see what we have inside:"
   ]
  },
  {
   "cell_type": "code",
   "execution_count": 5,
   "metadata": {
    "dotnet_interactive": {
     "language": "fsharp"
    },
    "polyglot_notebook": {
     "kernelName": "fsharp"
    },
    "vscode": {
     "languageId": "polyglot-notebook"
    }
   },
   "outputs": [
    {
     "data": {
      "text/html": [
       "<details open=\"open\" class=\"dni-treeview\"><summary><span class=\"dni-code-hint\"><code>Some(System.String[])</code></span></summary><div><table><thead><tr></tr></thead><tbody><tr><td>Value</td><td><div class=\"dni-plaintext\"><pre>[ pl_name, soltype, disc_refname, hd_name, pl_masse, pl_orbper, discoverymethod, cb_flag, sy_dist, pl_insol ]</pre></div></td></tr></tbody></table></div></details><style>\r\n",
       ".dni-code-hint {\r\n",
       "    font-style: italic;\r\n",
       "    overflow: hidden;\r\n",
       "    white-space: nowrap;\r\n",
       "}\r\n",
       ".dni-treeview {\r\n",
       "    white-space: nowrap;\r\n",
       "}\r\n",
       ".dni-treeview td {\r\n",
       "    vertical-align: top;\r\n",
       "    text-align: start;\r\n",
       "}\r\n",
       "details.dni-treeview {\r\n",
       "    padding-left: 1em;\r\n",
       "}\r\n",
       "table td {\r\n",
       "    text-align: start;\r\n",
       "}\r\n",
       "table tr { \r\n",
       "    vertical-align: top; \r\n",
       "    margin: 0em 0px;\r\n",
       "}\r\n",
       "table tr td pre \r\n",
       "{ \r\n",
       "    vertical-align: top !important; \r\n",
       "    margin: 0em 0px !important;\r\n",
       "} \r\n",
       "table th {\r\n",
       "    text-align: start;\r\n",
       "}\r\n",
       "</style>"
      ]
     },
     "metadata": {},
     "output_type": "display_data"
    }
   ],
   "source": [
    "exoplanets.Headers"
   ]
  },
  {
   "cell_type": "markdown",
   "metadata": {},
   "source": [
    "This gives us an `Option` type with the names of the data in it. Let us print it more clearly iterating the `seq`uence of headers:"
   ]
  },
  {
   "cell_type": "code",
   "execution_count": 6,
   "metadata": {
    "dotnet_interactive": {
     "language": "fsharp"
    },
    "polyglot_notebook": {
     "kernelName": "fsharp"
    },
    "vscode": {
     "languageId": "polyglot-notebook"
    }
   },
   "outputs": [
    {
     "name": "stdout",
     "output_type": "stream",
     "text": [
      "Item 1: pl_name\n",
      "Item 2: soltype\n",
      "Item 3: disc_refname\n",
      "Item 4: hd_name\n",
      "Item 5: pl_masse\n",
      "Item 6: pl_orbper\n",
      "Item 7: discoverymethod\n",
      "Item 8: cb_flag\n",
      "Item 9: sy_dist\n",
      "Item 10: pl_insol\n"
     ]
    },
    {
     "data": {
      "text/html": [
       "<details open=\"open\" class=\"dni-treeview\"><summary><span class=\"dni-code-hint\"><code>Some(null)</code></span></summary><div><table><thead><tr></tr></thead><tbody><tr><td>Value</td><td><div class=\"dni-plaintext\"><pre>&lt;null&gt;</pre></div></td></tr></tbody></table></div></details><style>\r\n",
       ".dni-code-hint {\r\n",
       "    font-style: italic;\r\n",
       "    overflow: hidden;\r\n",
       "    white-space: nowrap;\r\n",
       "}\r\n",
       ".dni-treeview {\r\n",
       "    white-space: nowrap;\r\n",
       "}\r\n",
       ".dni-treeview td {\r\n",
       "    vertical-align: top;\r\n",
       "    text-align: start;\r\n",
       "}\r\n",
       "details.dni-treeview {\r\n",
       "    padding-left: 1em;\r\n",
       "}\r\n",
       "table td {\r\n",
       "    text-align: start;\r\n",
       "}\r\n",
       "table tr { \r\n",
       "    vertical-align: top; \r\n",
       "    margin: 0em 0px;\r\n",
       "}\r\n",
       "table tr td pre \r\n",
       "{ \r\n",
       "    vertical-align: top !important; \r\n",
       "    margin: 0em 0px !important;\r\n",
       "} \r\n",
       "table th {\r\n",
       "    text-align: start;\r\n",
       "}\r\n",
       "</style>"
      ]
     },
     "metadata": {},
     "output_type": "display_data"
    }
   ],
   "source": [
    "exoplanets.Headers\n",
    "|> Option.map (fun h -> \n",
    "                h\n",
    "                |> Seq.iteri (fun i name -> printfn \"Item %d: %s\" (i+1) name)\n",
    ")"
   ]
  },
  {
   "cell_type": "markdown",
   "metadata": {},
   "source": [
    "There are ten columns that corresponds to the following information, according to the NASA site:\n",
    "\n",
    "- `pl_name`: This is the exoplanet name\n",
    "- `soltype`: The status of the exoplanet referred to the full set of planets\n",
    "- `disc_refname`: An HTML piece with the url to the published reference of the discovery\n",
    "- `hd_name`: The name of the star that hosts the planet\n",
    "- `pl_masse`: The planetary mass, measured in units of the mass of the Earth (i.e.: `pl_masse` of Earth is equal to one)\n",
    "- `pl_orbper`: The orbital period (that is, the exoplanet duration of its year) measured in Earth years\n",
    "- `discoverymethod`: The method used in the discovery\n",
    "- `cb_flag`: Whether the planet orbits a binary system (now that would be a view!)\n",
    "- `sy_dist`: Distance to the planetary system in units of parsecs (one parsec is about 3.26 light years)\n",
    "- `pl_insol`: Insolation flux, the amount of energy the planet receives from the hosting star, given in units relative to the flux measured for the Earth from the Sun.\n",
    "\n",
    "These are the main features of an exoplanet. The idea behind this research is to find Earth-like planets that can host life as we know it. Therefore, it is important to know the mass of the planet (large planets tend to be gaseous ones like Jupyter or Saturn); the distance from the hosting star (too far is to cold, too close would be hot) and the amount of energy the planet receives from the star (stars can be really big and bright, so even though the planet can be far away, it could still receive a lot of light from the hosting star, preventing life formation as we know it). "
   ]
  },
  {
   "cell_type": "markdown",
   "metadata": {},
   "source": [
    "Good! Remember also that the provider returns the data as a sequence in the `.Rows` property:"
   ]
  },
  {
   "cell_type": "code",
   "execution_count": 7,
   "metadata": {
    "dotnet_interactive": {
     "language": "fsharp"
    },
    "polyglot_notebook": {
     "kernelName": "fsharp"
    },
    "vscode": {
     "languageId": "polyglot-notebook"
    }
   },
   "outputs": [
    {
     "name": "stdout",
     "output_type": "stream",
     "text": [
      "0: (\"OGLE-TR-10 b\", \"Published Confirmed\",\n",
      " \"<a refstr=KONACKI_ET_AL__2005 href=https://ui.adsabs.harvard.edu/abs/2005ApJ...624..372K/abstract target=ref> Konacki et al. 2005 </a>\",\n",
      " \"\", 197.046, 3.101278, \"Transit\", false, 1344.97, nan)\n",
      "1: (\"HD 210702 b\", \"Published Confirmed\",\n",
      " \"<a refstr=JOHNSON_ET_AL__2007 href=https://ui.adsabs.harvard.edu/abs/2007ApJ...665..785J/abstract target=ref> Johnson et al. 2007 </a>\",\n",
      " \"HD 210702\", nan, 354.29, \"Radial Velocity\", false, 54.1963, nan)\n"
     ]
    }
   ],
   "source": [
    "exoplanets.Rows \n",
    "|> Seq.take 2\n",
    "|> Seq.iteri (fun i s ->  printfn $\"{i}: %A{s}\")"
   ]
  },
  {
   "cell_type": "markdown",
   "metadata": {},
   "source": [
    "Let us extract the first one into a value:"
   ]
  },
  {
   "cell_type": "code",
   "execution_count": null,
   "metadata": {
    "dotnet_interactive": {
     "language": "fsharp"
    },
    "polyglot_notebook": {
     "kernelName": "fsharp"
    },
    "vscode": {
     "languageId": "polyglot-notebook"
    }
   },
   "outputs": [],
   "source": [
    "let exo0 = exoplanets.Rows |> Seq.item 0"
   ]
  },
  {
   "cell_type": "markdown",
   "metadata": {},
   "source": [
    "Recall also that although the column name of the file is, for example, `pl_name`, one can access this value of a particular planet with `Pl_name` field of the type. Here the F# compiler will help you to determine the name of each field of the current row, when trying to access one of them, just go ahead and write down the value and it will pop up the possible fields:\n",
    "\n",
    "<img src=\"../data/Fields of Exoplanet type.png\" alt=\"\" width=\"400\"/>\n"
   ]
  },
  {
   "cell_type": "markdown",
   "metadata": {},
   "source": [
    "Going back to the data, it looks like some columns are read as `nan`! (A data science classic...). Not to worry, the type provider let us change that field to an `Option` type, giving `Some value` when there is one, and `None`, instead of `nan. However, we need to recreate the type with the option `PreferOptionals=true`:"
   ]
  },
  {
   "cell_type": "code",
   "execution_count": 9,
   "metadata": {
    "dotnet_interactive": {
     "language": "fsharp"
    },
    "polyglot_notebook": {
     "kernelName": "fsharp"
    },
    "vscode": {
     "languageId": "polyglot-notebook"
    }
   },
   "outputs": [],
   "source": [
    "type ExoPlanetType = FSharp.Data.CsvProvider<exoplanetsFile, HasHeaders=true, PreferOptionals=true>"
   ]
  },
  {
   "cell_type": "code",
   "execution_count": 10,
   "metadata": {
    "dotnet_interactive": {
     "language": "fsharp"
    },
    "polyglot_notebook": {
     "kernelName": "fsharp"
    },
    "vscode": {
     "languageId": "polyglot-notebook"
    }
   },
   "outputs": [],
   "source": [
    "let exoplanets2 = ExoPlanetType.GetSample()"
   ]
  },
  {
   "cell_type": "markdown",
   "metadata": {},
   "source": [
    "> We could have use the same name for the value here, like `let exoplanets = ExoPlanetType.GetSample()`  because the notebook allows us to do so. However, to keep things cleaner, I use `exoplanets2`.\n",
    "\n",
    "Now our first exoplanet in the list is:"
   ]
  },
  {
   "cell_type": "code",
   "execution_count": 11,
   "metadata": {
    "dotnet_interactive": {
     "language": "fsharp"
    },
    "polyglot_notebook": {
     "kernelName": "fsharp"
    },
    "vscode": {
     "languageId": "polyglot-notebook"
    }
   },
   "outputs": [
    {
     "name": "stdout",
     "output_type": "stream",
     "text": [
      "Name: \"OGLE-TR-10 b\"\n",
      "Insolation: None\n"
     ]
    }
   ],
   "source": [
    "let ogleTR10b = \n",
    "    exoplanets2.Rows \n",
    "    |> Seq.item 0\n",
    "\n",
    "printfn \"Name: %A\" ogleTR10b.Pl_name\n",
    "printfn \"Insolation: %A\" ogleTR10b.Pl_insol"
   ]
  },
  {
   "cell_type": "markdown",
   "metadata": {},
   "source": [
    "Now we are talking! Let us see the types of each field in the `ExoPlanetType`:"
   ]
  },
  {
   "cell_type": "code",
   "execution_count": 12,
   "metadata": {
    "dotnet_interactive": {
     "language": "fsharp"
    },
    "polyglot_notebook": {
     "kernelName": "fsharp"
    },
    "vscode": {
     "languageId": "polyglot-notebook"
    }
   },
   "outputs": [
    {
     "name": "stdout",
     "output_type": "stream",
     "text": [
      "System.String\n",
      "System.String\n",
      "System.String\n",
      "Microsoft.FSharp.Core.FSharpOption`1[System.String]\n",
      "Microsoft.FSharp.Core.FSharpOption`1[System.Decimal]\n",
      "Microsoft.FSharp.Core.FSharpOption`1[System.Decimal]\n",
      "System.String\n",
      "System.Tuple`3[System.Boolean,Microsoft.FSharp.Core.FSharpOption`1[System.Decimal],Microsoft.FSharp.Core.FSharpOption`1[System.Decimal]]\n"
     ]
    }
   ],
   "source": [
    "ogleTR10b.GetType().GetProperties()\n",
    "|> Seq.iter (fun p -> printfn $\"{p.PropertyType}\")"
   ]
  },
  {
   "cell_type": "markdown",
   "metadata": {},
   "source": [
    "There is a nice function to see the data as a table, `.DisplayTable()` in this interactive environment:"
   ]
  },
  {
   "cell_type": "code",
   "execution_count": 13,
   "metadata": {
    "dotnet_interactive": {
     "language": "fsharp"
    },
    "polyglot_notebook": {
     "kernelName": "fsharp"
    },
    "vscode": {
     "languageId": "polyglot-notebook"
    }
   },
   "outputs": [
    {
     "data": {
      "text/csv": [
       "Item1,Item2,Item3,Item4,Item5,Item6,Item7,Rest\n",
       "\"OGLE-TR-10 b\",\"Published Confirmed\",\"<a refstr=KONACKI_ET_AL__2005 href=https://ui.adsabs.harvard.edu/abs/2005ApJ...624..372K/abstract target=ref> Konacki et al. 2005 </a>\",,Some(197.04600),Some(3.10127800),Transit,\"(False, Some(1344.9700000), )\"\n",
       "\"HD 210702 b\",\"Published Confirmed\",\"<a refstr=JOHNSON_ET_AL__2007 href=https://ui.adsabs.harvard.edu/abs/2007ApJ...665..785J/abstract target=ref> Johnson et al. 2007 </a>\",\"Some(HD 210702)\",,Some(354.29000000),\"Radial Velocity\",\"(False, Some(54.1963000), )\"\n",
       "\"BD-08 2823 b\",\"Published Confirmed\",\"<a refstr=HEBRARD_ET_AL__2010 href=https://ui.adsabs.harvard.edu/abs/2010A%26A...512A..46H/abstract target=ref> H&eacute;brard et al. 2010 </a>\",,,Some(5.60000000),\"Radial Velocity\",\"(False, Some(41.3342000), )\"\n",
       "\"BD-08 2823 c\",\"Published Confirmed\",\"<a refstr=HEBRARD_ET_AL__2010 href=https://ui.adsabs.harvard.edu/abs/2010A%26A...512A..46H/abstract target=ref> H&eacute;brard et al. 2010 </a>\",,,Some(237.60000000),\"Radial Velocity\",\"(False, Some(41.3342000), )\"\n"
      ],
      "text/html": [
       "<table><thead><tr><td><span>Item1</span></td><td><span>Item2</span></td><td><span>Item3</span></td><td><span>Item4</span></td><td><span>Item5</span></td><td><span>Item6</span></td><td><span>Item7</span></td><td><span>Rest</span></td></tr></thead><tbody><tr><td>OGLE-TR-10 b</td><td>Published Confirmed</td><td>&lt;a refstr=KONACKI_ET_AL__2005 href=https://ui.adsabs.harvard.edu/abs/2005ApJ...624..372K/abstract target=ref&gt; Konacki et al. 2005 &lt;/a&gt;</td><td><div class=\"dni-plaintext\"><pre>&lt;null&gt;</pre></div></td><td><details class=\"dni-treeview\"><summary><span class=\"dni-code-hint\"><code>Some(197.04600)</code></span></summary><div><table><thead><tr></tr></thead><tbody><tr><td>Value</td><td><div class=\"dni-plaintext\"><pre>197.04600</pre></div></td></tr></tbody></table></div></details></td><td><details class=\"dni-treeview\"><summary><span class=\"dni-code-hint\"><code>Some(3.10127800)</code></span></summary><div><table><thead><tr></tr></thead><tbody><tr><td>Value</td><td><div class=\"dni-plaintext\"><pre>3.10127800</pre></div></td></tr></tbody></table></div></details></td><td>Transit</td><td><details class=\"dni-treeview\"><summary><span class=\"dni-code-hint\"><code>(False, Some(1344.9700000), )</code></span></summary><div><table><thead><tr></tr></thead><tbody><tr><td>Item1</td><td><div class=\"dni-plaintext\"><pre>False</pre></div></td></tr><tr><td>Item2</td><td><details class=\"dni-treeview\"><summary><span class=\"dni-code-hint\"><code>Some(1344.9700000)</code></span></summary><div><table><thead><tr></tr></thead><tbody><tr><td>Value</td><td><div class=\"dni-plaintext\"><pre>1344.9700000</pre></div></td></tr></tbody></table></div></details></td></tr><tr><td>Item3</td><td><div class=\"dni-plaintext\"><pre>&lt;null&gt;</pre></div></td></tr></tbody></table></div></details></td></tr><tr><td>HD 210702 b</td><td>Published Confirmed</td><td>&lt;a refstr=JOHNSON_ET_AL__2007 href=https://ui.adsabs.harvard.edu/abs/2007ApJ...665..785J/abstract target=ref&gt; Johnson et al. 2007 &lt;/a&gt;</td><td><details class=\"dni-treeview\"><summary><span class=\"dni-code-hint\"><code>Some(HD 210702)</code></span></summary><div><table><thead><tr></tr></thead><tbody><tr><td>Value</td><td><div class=\"dni-plaintext\"><pre>HD 210702</pre></div></td></tr></tbody></table></div></details></td><td><div class=\"dni-plaintext\"><pre>&lt;null&gt;</pre></div></td><td><details class=\"dni-treeview\"><summary><span class=\"dni-code-hint\"><code>Some(354.29000000)</code></span></summary><div><table><thead><tr></tr></thead><tbody><tr><td>Value</td><td><div class=\"dni-plaintext\"><pre>354.29000000</pre></div></td></tr></tbody></table></div></details></td><td>Radial Velocity</td><td><details class=\"dni-treeview\"><summary><span class=\"dni-code-hint\"><code>(False, Some(54.1963000), )</code></span></summary><div><table><thead><tr></tr></thead><tbody><tr><td>Item1</td><td><div class=\"dni-plaintext\"><pre>False</pre></div></td></tr><tr><td>Item2</td><td><details class=\"dni-treeview\"><summary><span class=\"dni-code-hint\"><code>Some(54.1963000)</code></span></summary><div><table><thead><tr></tr></thead><tbody><tr><td>Value</td><td><div class=\"dni-plaintext\"><pre>54.1963000</pre></div></td></tr></tbody></table></div></details></td></tr><tr><td>Item3</td><td><div class=\"dni-plaintext\"><pre>&lt;null&gt;</pre></div></td></tr></tbody></table></div></details></td></tr><tr><td>BD-08 2823 b</td><td>Published Confirmed</td><td>&lt;a refstr=HEBRARD_ET_AL__2010 href=https://ui.adsabs.harvard.edu/abs/2010A%26A...512A..46H/abstract target=ref&gt; H&amp;eacute;brard et al. 2010 &lt;/a&gt;</td><td><div class=\"dni-plaintext\"><pre>&lt;null&gt;</pre></div></td><td><div class=\"dni-plaintext\"><pre>&lt;null&gt;</pre></div></td><td><details class=\"dni-treeview\"><summary><span class=\"dni-code-hint\"><code>Some(5.60000000)</code></span></summary><div><table><thead><tr></tr></thead><tbody><tr><td>Value</td><td><div class=\"dni-plaintext\"><pre>5.60000000</pre></div></td></tr></tbody></table></div></details></td><td>Radial Velocity</td><td><details class=\"dni-treeview\"><summary><span class=\"dni-code-hint\"><code>(False, Some(41.3342000), )</code></span></summary><div><table><thead><tr></tr></thead><tbody><tr><td>Item1</td><td><div class=\"dni-plaintext\"><pre>False</pre></div></td></tr><tr><td>Item2</td><td><details class=\"dni-treeview\"><summary><span class=\"dni-code-hint\"><code>Some(41.3342000)</code></span></summary><div><table><thead><tr></tr></thead><tbody><tr><td>Value</td><td><div class=\"dni-plaintext\"><pre>41.3342000</pre></div></td></tr></tbody></table></div></details></td></tr><tr><td>Item3</td><td><div class=\"dni-plaintext\"><pre>&lt;null&gt;</pre></div></td></tr></tbody></table></div></details></td></tr><tr><td>BD-08 2823 c</td><td>Published Confirmed</td><td>&lt;a refstr=HEBRARD_ET_AL__2010 href=https://ui.adsabs.harvard.edu/abs/2010A%26A...512A..46H/abstract target=ref&gt; H&amp;eacute;brard et al. 2010 &lt;/a&gt;</td><td><div class=\"dni-plaintext\"><pre>&lt;null&gt;</pre></div></td><td><div class=\"dni-plaintext\"><pre>&lt;null&gt;</pre></div></td><td><details class=\"dni-treeview\"><summary><span class=\"dni-code-hint\"><code>Some(237.60000000)</code></span></summary><div><table><thead><tr></tr></thead><tbody><tr><td>Value</td><td><div class=\"dni-plaintext\"><pre>237.60000000</pre></div></td></tr></tbody></table></div></details></td><td>Radial Velocity</td><td><details class=\"dni-treeview\"><summary><span class=\"dni-code-hint\"><code>(False, Some(41.3342000), )</code></span></summary><div><table><thead><tr></tr></thead><tbody><tr><td>Item1</td><td><div class=\"dni-plaintext\"><pre>False</pre></div></td></tr><tr><td>Item2</td><td><details class=\"dni-treeview\"><summary><span class=\"dni-code-hint\"><code>Some(41.3342000)</code></span></summary><div><table><thead><tr></tr></thead><tbody><tr><td>Value</td><td><div class=\"dni-plaintext\"><pre>41.3342000</pre></div></td></tr></tbody></table></div></details></td></tr><tr><td>Item3</td><td><div class=\"dni-plaintext\"><pre>&lt;null&gt;</pre></div></td></tr></tbody></table></div></details></td></tr></tbody></table><style>\r\n",
       ".dni-code-hint {\r\n",
       "    font-style: italic;\r\n",
       "    overflow: hidden;\r\n",
       "    white-space: nowrap;\r\n",
       "}\r\n",
       ".dni-treeview {\r\n",
       "    white-space: nowrap;\r\n",
       "}\r\n",
       ".dni-treeview td {\r\n",
       "    vertical-align: top;\r\n",
       "    text-align: start;\r\n",
       "}\r\n",
       "details.dni-treeview {\r\n",
       "    padding-left: 1em;\r\n",
       "}\r\n",
       "table td {\r\n",
       "    text-align: start;\r\n",
       "}\r\n",
       "table tr { \r\n",
       "    vertical-align: top; \r\n",
       "    margin: 0em 0px;\r\n",
       "}\r\n",
       "table tr td pre \r\n",
       "{ \r\n",
       "    vertical-align: top !important; \r\n",
       "    margin: 0em 0px !important;\r\n",
       "} \r\n",
       "table th {\r\n",
       "    text-align: start;\r\n",
       "}\r\n",
       "</style>"
      ]
     },
     "metadata": {},
     "output_type": "display_data"
    }
   ],
   "source": [
    "exoplanets2.Rows\n",
    "|> Seq.take 4\n",
    "|> fun r -> r.DisplayTable()"
   ]
  },
  {
   "cell_type": "markdown",
   "metadata": {},
   "source": [
    "You see that `DisplayTable()` shows the `None` values printed as `<null>`. \n",
    "The second column is the status of discovery of the exoplanet, and we can count how many planets for each status type the list has:"
   ]
  },
  {
   "cell_type": "code",
   "execution_count": 14,
   "metadata": {
    "dotnet_interactive": {
     "language": "fsharp"
    },
    "polyglot_notebook": {
     "kernelName": "fsharp"
    },
    "vscode": {
     "languageId": "polyglot-notebook"
    }
   },
   "outputs": [
    {
     "name": "stdout",
     "output_type": "stream",
     "text": [
      "Published Confirmed: 17420\n",
      "Kepler Project Candidate (q1_q8_koi): 2310\n",
      "TESS Project Candidate: 877\n",
      "Published Candidate: 776\n",
      "Kepler Project Candidate (q1_q17_dr24_koi): 2705\n",
      "Kepler Project Candidate (q1_q12_koi): 2683\n",
      "Kepler Project Candidate (q1_q16_koi): 2725\n",
      "Kepler Project Candidate (q1_q17_dr25_koi): 2719\n",
      "Kepler Project Candidate (q1_q17_dr25_sup_koi): 2736\n"
     ]
    }
   ],
   "source": [
    "exoplanets2.Rows \n",
    "|> Seq.countBy (fun x -> x.Soltype)\n",
    "|> Seq.iter (fun (k,v) -> printfn $\"{k}: {v}\")"
   ]
  },
  {
   "cell_type": "markdown",
   "metadata": {
    "vscode": {
     "languageId": "polyglot-notebook"
    }
   },
   "source": [
    "Let us work with the confirmed exoplanets only, creating a sequence by filtering the original data:"
   ]
  },
  {
   "cell_type": "code",
   "execution_count": 15,
   "metadata": {
    "dotnet_interactive": {
     "language": "fsharp"
    },
    "polyglot_notebook": {
     "kernelName": "fsharp"
    },
    "vscode": {
     "languageId": "polyglot-notebook"
    }
   },
   "outputs": [
    {
     "data": {
      "text/html": [
       "<div class=\"dni-plaintext\"><pre>17420</pre></div><style>\r\n",
       ".dni-code-hint {\r\n",
       "    font-style: italic;\r\n",
       "    overflow: hidden;\r\n",
       "    white-space: nowrap;\r\n",
       "}\r\n",
       ".dni-treeview {\r\n",
       "    white-space: nowrap;\r\n",
       "}\r\n",
       ".dni-treeview td {\r\n",
       "    vertical-align: top;\r\n",
       "    text-align: start;\r\n",
       "}\r\n",
       "details.dni-treeview {\r\n",
       "    padding-left: 1em;\r\n",
       "}\r\n",
       "table td {\r\n",
       "    text-align: start;\r\n",
       "}\r\n",
       "table tr { \r\n",
       "    vertical-align: top; \r\n",
       "    margin: 0em 0px;\r\n",
       "}\r\n",
       "table tr td pre \r\n",
       "{ \r\n",
       "    vertical-align: top !important; \r\n",
       "    margin: 0em 0px !important;\r\n",
       "} \r\n",
       "table th {\r\n",
       "    text-align: start;\r\n",
       "}\r\n",
       "</style>"
      ]
     },
     "metadata": {},
     "output_type": "display_data"
    }
   ],
   "source": [
    "let confirmed = \n",
    "    exoplanets2.Rows \n",
    "    |> Seq.filter (fun x -> x.Soltype = \"Published Confirmed\")\n",
    "\n",
    "confirmed |> Seq.length    "
   ]
  },
  {
   "cell_type": "markdown",
   "metadata": {},
   "source": [
    "This is weird, since the NASA site talks about 5 thousand-ish planets. There must be some data that is repeated. Let us group the data by the planet name, that can be assumed to be a good unique key:"
   ]
  },
  {
   "cell_type": "code",
   "execution_count": 16,
   "metadata": {
    "dotnet_interactive": {
     "language": "fsharp"
    },
    "polyglot_notebook": {
     "kernelName": "fsharp"
    },
    "vscode": {
     "languageId": "polyglot-notebook"
    }
   },
   "outputs": [
    {
     "data": {
      "text/html": [
       "<div class=\"dni-plaintext\"><pre>5483</pre></div><style>\r\n",
       ".dni-code-hint {\r\n",
       "    font-style: italic;\r\n",
       "    overflow: hidden;\r\n",
       "    white-space: nowrap;\r\n",
       "}\r\n",
       ".dni-treeview {\r\n",
       "    white-space: nowrap;\r\n",
       "}\r\n",
       ".dni-treeview td {\r\n",
       "    vertical-align: top;\r\n",
       "    text-align: start;\r\n",
       "}\r\n",
       "details.dni-treeview {\r\n",
       "    padding-left: 1em;\r\n",
       "}\r\n",
       "table td {\r\n",
       "    text-align: start;\r\n",
       "}\r\n",
       "table tr { \r\n",
       "    vertical-align: top; \r\n",
       "    margin: 0em 0px;\r\n",
       "}\r\n",
       "table tr td pre \r\n",
       "{ \r\n",
       "    vertical-align: top !important; \r\n",
       "    margin: 0em 0px !important;\r\n",
       "} \r\n",
       "table th {\r\n",
       "    text-align: start;\r\n",
       "}\r\n",
       "</style>"
      ]
     },
     "metadata": {},
     "output_type": "display_data"
    }
   ],
   "source": [
    "confirmed\n",
    "|> Seq.groupBy (fun x -> x.Pl_name)\n",
    "|> Seq.length"
   ]
  },
  {
   "cell_type": "markdown",
   "metadata": {},
   "source": [
    "That is ok! (for August 2023...) So, we need to see what is going on with the repetitions. Let us group together by planet name, and take the one that is most repeated:"
   ]
  },
  {
   "cell_type": "code",
   "execution_count": 17,
   "metadata": {
    "dotnet_interactive": {
     "language": "fsharp"
    },
    "polyglot_notebook": {
     "kernelName": "fsharp"
    },
    "vscode": {
     "languageId": "polyglot-notebook"
    }
   },
   "outputs": [
    {
     "name": "stdout",
     "output_type": "stream",
     "text": [
      "Planet TrES-2 b has 25 entries\n"
     ]
    }
   ],
   "source": [
    "let exoWithMaxEntriesName, exoWithMaxEntries =\n",
    "    confirmed\n",
    "    |> Seq.groupBy (fun x -> x.Pl_name) // Group by name \n",
    "    |> Seq.map (fun (name, seq) -> name, seq |> Seq.length, seq) // Map into a tuple of name, count and values\n",
    "    |> Seq.maxBy (fun (name, count, seq) -> count) // Find the tuple with the highest count\n",
    "    |> fun (name, count, seq) -> name, seq // Return the name and count\n",
    "\n",
    "printfn $\"Planet {exoWithMaxEntriesName} has {exoWithMaxEntries |> Seq.length} entries\"\n",
    "\n"
   ]
  },
  {
   "cell_type": "markdown",
   "metadata": {},
   "source": [
    "We created two values at once (a tuple) from processing the sequence of `confirmed` planets. The first value `exoWithMaxEntriesName` contains the name of the exoplanet that is most repeated, while the second one, `exoWithMaxEntries` is the list of the different rows corresponding to that planet. It looks like the planet _TrES-2 b_ has 25 entries! Let us see what that data looks like:"
   ]
  },
  {
   "cell_type": "code",
   "execution_count": 18,
   "metadata": {
    "dotnet_interactive": {
     "language": "fsharp"
    },
    "polyglot_notebook": {
     "kernelName": "fsharp"
    },
    "vscode": {
     "languageId": "polyglot-notebook"
    }
   },
   "outputs": [
    {
     "data": {
      "text/csv": [
       "Item1,Item2,Item3,Item4,Item5,Item6,Item7,Rest\n",
       "\"TrES-2 b\",\"Published Confirmed\",\"<a refstr=O_DONOVAN_ET_AL__2006 href=https://ui.adsabs.harvard.edu/abs/2006ApJ...651L..61O/abstract target=ref> O'Donovan et al. 2006 </a>\",,Some(381.39600),Some(2.47063000),Transit,\"(False, Some(215.3200000), )\"\n",
       "\"TrES-2 b\",\"Published Confirmed\",\"<a refstr=O_DONOVAN_ET_AL__2006 href=https://ui.adsabs.harvard.edu/abs/2006ApJ...651L..61O/abstract target=ref> O'Donovan et al. 2006 </a>\",,Some(381.10000),Some(2.47063000),Transit,\"(False, Some(215.3200000), )\"\n",
       "\"TrES-2 b\",\"Published Confirmed\",\"<a refstr=O_DONOVAN_ET_AL__2006 href=https://ui.adsabs.harvard.edu/abs/2006ApJ...651L..61O/abstract target=ref> O'Donovan et al. 2006 </a>\",,Some(380.44251),Some(2.47061317),Transit,\"(False, Some(215.3200000), )\"\n",
       "\"TrES-2 b\",\"Published Confirmed\",\"<a refstr=O_DONOVAN_ET_AL__2006 href=https://ui.adsabs.harvard.edu/abs/2006ApJ...651L..61O/abstract target=ref> O'Donovan et al. 2006 </a>\",,Some(457.67520),Some(2.47061320),Transit,\"(False, Some(215.3200000), )\"\n",
       "\"TrES-2 b\",\"Published Confirmed\",\"<a refstr=O_DONOVAN_ET_AL__2006 href=https://ui.adsabs.harvard.edu/abs/2006ApJ...651L..61O/abstract target=ref> O'Donovan et al. 2006 </a>\",,Some(383.30298),Some(2.47061323),Transit,\"(False, Some(215.3200000), )\"\n",
       "\"TrES-2 b\",\"Published Confirmed\",\"<a refstr=O_DONOVAN_ET_AL__2006 href=https://ui.adsabs.harvard.edu/abs/2006ApJ...651L..61O/abstract target=ref> O'Donovan et al. 2006 </a>\",,Some(380.76034),Some(2.47062100),Transit,\"(False, Some(215.3200000), )\"\n",
       "\"TrES-2 b\",\"Published Confirmed\",\"<a refstr=O_DONOVAN_ET_AL__2006 href=https://ui.adsabs.harvard.edu/abs/2006ApJ...651L..61O/abstract target=ref> O'Donovan et al. 2006 </a>\",,Some(380.76034),,Transit,\"(False, Some(215.3200000), )\"\n",
       "\"TrES-2 b\",\"Published Confirmed\",\"<a refstr=O_DONOVAN_ET_AL__2006 href=https://ui.adsabs.harvard.edu/abs/2006ApJ...651L..61O/abstract target=ref> O'Donovan et al. 2006 </a>\",,Some(457.67520),Some(2.47061320),Transit,\"(False, Some(215.3200000), )\"\n",
       "\"TrES-2 b\",\"Published Confirmed\",\"<a refstr=O_DONOVAN_ET_AL__2006 href=https://ui.adsabs.harvard.edu/abs/2006ApJ...651L..61O/abstract target=ref> O'Donovan et al. 2006 </a>\",,,Some(2.47061010),Transit,\"(False, Some(215.3200000), )\"\n",
       "\"TrES-2 b\",\"Published Confirmed\",\"<a refstr=O_DONOVAN_ET_AL__2006 href=https://ui.adsabs.harvard.edu/abs/2006ApJ...651L..61O/abstract target=ref> O'Donovan et al. 2006 </a>\",,,Some(2.47061340),Transit,\"(False, Some(215.3200000), )\"\n",
       "\"TrES-2 b\",\"Published Confirmed\",\"<a refstr=O_DONOVAN_ET_AL__2006 href=https://ui.adsabs.harvard.edu/abs/2006ApJ...651L..61O/abstract target=ref> O'Donovan et al. 2006 </a>\",,Some(382.03166),Some(2.47061892),Transit,\"(False, Some(215.3200000), )\"\n",
       "\"TrES-2 b\",\"Published Confirmed\",\"<a refstr=O_DONOVAN_ET_AL__2006 href=https://ui.adsabs.harvard.edu/abs/2006ApJ...651L..61O/abstract target=ref> O'Donovan et al. 2006 </a>\",,,Some(2.47061337),Transit,\"(False, Some(215.3200000), )\"\n",
       "\"TrES-2 b\",\"Published Confirmed\",\"<a refstr=O_DONOVAN_ET_AL__2006 href=https://ui.adsabs.harvard.edu/abs/2006ApJ...651L..61O/abstract target=ref> O'Donovan et al. 2006 </a>\",,Some(380.74400),Some(2.47061344),Transit,\"(False, Some(215.3200000), )\"\n",
       "\"TrES-2 b\",\"Published Confirmed\",\"<a refstr=O_DONOVAN_ET_AL__2006 href=https://ui.adsabs.harvard.edu/abs/2006ApJ...651L..61O/abstract target=ref> O'Donovan et al. 2006 </a>\",,Some(398.24099),Some(2.47061010),Transit,\"(False, Some(215.3200000), )\"\n",
       "\"TrES-2 b\",\"Published Confirmed\",\"<a refstr=O_DONOVAN_ET_AL__2006 href=https://ui.adsabs.harvard.edu/abs/2006ApJ...651L..61O/abstract target=ref> O'Donovan et al. 2006 </a>\",,Some(367.72931),,Transit,\"(False, Some(215.3200000), )\"\n",
       "\"TrES-2 b\",\"Published Confirmed\",\"<a refstr=O_DONOVAN_ET_AL__2006 href=https://ui.adsabs.harvard.edu/abs/2006ApJ...651L..61O/abstract target=ref> O'Donovan et al. 2006 </a>\",,Some(380.76034),Some(2.47062100),Transit,\"(False, Some(215.3200000), )\"\n",
       "\"TrES-2 b\",\"Published Confirmed\",\"<a refstr=O_DONOVAN_ET_AL__2006 href=https://ui.adsabs.harvard.edu/abs/2006ApJ...651L..61O/abstract target=ref> O'Donovan et al. 2006 </a>\",,Some(406.82240),Some(2.47063000),Transit,\"(False, Some(215.3200000), )\"\n",
       "\"TrES-2 b\",\"Published Confirmed\",\"<a refstr=O_DONOVAN_ET_AL__2006 href=https://ui.adsabs.harvard.edu/abs/2006ApJ...651L..61O/abstract target=ref> O'Donovan et al. 2006 </a>\",,,Some(2.47061339),Transit,\"(False, Some(215.3200000), )\"\n",
       "\"TrES-2 b\",\"Published Confirmed\",\"<a refstr=O_DONOVAN_ET_AL__2006 href=https://ui.adsabs.harvard.edu/abs/2006ApJ...651L..61O/abstract target=ref> O'Donovan et al. 2006 </a>\",,,Some(2.47061338),Transit,\"(False, Some(215.3200000), )\"\n",
       "\"TrES-2 b\",\"Published Confirmed\",\"<a refstr=O_DONOVAN_ET_AL__2006 href=https://ui.adsabs.harvard.edu/abs/2006ApJ...651L..61O/abstract target=ref> O'Donovan et al. 2006 </a>\",,,Some(2.47061350),Transit,\"(False, Some(215.3200000), )\"\n",
       "\"TrES-2 b\",\"Published Confirmed\",\"<a refstr=O_DONOVAN_ET_AL__2006 href=https://ui.adsabs.harvard.edu/abs/2006ApJ...651L..61O/abstract target=ref> O'Donovan et al. 2006 </a>\",,Some(385.20996),Some(2.47061337),Transit,\"(False, Some(215.3200000), )\"\n",
       "\"TrES-2 b\",\"Published Confirmed\",\"<a refstr=O_DONOVAN_ET_AL__2006 href=https://ui.adsabs.harvard.edu/abs/2006ApJ...651L..61O/abstract target=ref> O'Donovan et al. 2006 </a>\",,Some(398.24099),Some(2.47061437),Transit,\"(False, Some(215.3200000), )\"\n",
       "\"TrES-2 b\",\"Published Confirmed\",\"<a refstr=O_DONOVAN_ET_AL__2006 href=https://ui.adsabs.harvard.edu/abs/2006ApJ...651L..61O/abstract target=ref> O'Donovan et al. 2006 </a>\",,,,Transit,\"(False, Some(215.3200000), Some(903.86))\"\n",
       "\"TrES-2 b\",\"Published Confirmed\",\"<a refstr=O_DONOVAN_ET_AL__2006 href=https://ui.adsabs.harvard.edu/abs/2006ApJ...651L..61O/abstract target=ref> O'Donovan et al. 2006 </a>\",,Some(473.56670),Some(2.47063000),Transit,\"(False, Some(215.3200000), )\"\n",
       "\"TrES-2 b\",\"Published Confirmed\",\"<a refstr=O_DONOVAN_ET_AL__2006 href=https://ui.adsabs.harvard.edu/abs/2006ApJ...651L..61O/abstract target=ref> O'Donovan et al. 2006 </a>\",,,Some(2.47061373),Transit,\"(False, Some(215.3200000), )\"\n"
      ],
      "text/html": [
       "<table><thead><tr><td><span>Item1</span></td><td><span>Item2</span></td><td><span>Item3</span></td><td><span>Item4</span></td><td><span>Item5</span></td><td><span>Item6</span></td><td><span>Item7</span></td><td><span>Rest</span></td></tr></thead><tbody><tr><td>TrES-2 b</td><td>Published Confirmed</td><td>&lt;a refstr=O_DONOVAN_ET_AL__2006 href=https://ui.adsabs.harvard.edu/abs/2006ApJ...651L..61O/abstract target=ref&gt; O&#39;Donovan et al. 2006 &lt;/a&gt;</td><td><div class=\"dni-plaintext\"><pre>&lt;null&gt;</pre></div></td><td><details class=\"dni-treeview\"><summary><span class=\"dni-code-hint\"><code>Some(381.39600)</code></span></summary><div><table><thead><tr></tr></thead><tbody><tr><td>Value</td><td><div class=\"dni-plaintext\"><pre>381.39600</pre></div></td></tr></tbody></table></div></details></td><td><details class=\"dni-treeview\"><summary><span class=\"dni-code-hint\"><code>Some(2.47063000)</code></span></summary><div><table><thead><tr></tr></thead><tbody><tr><td>Value</td><td><div class=\"dni-plaintext\"><pre>2.47063000</pre></div></td></tr></tbody></table></div></details></td><td>Transit</td><td><details class=\"dni-treeview\"><summary><span class=\"dni-code-hint\"><code>(False, Some(215.3200000), )</code></span></summary><div><table><thead><tr></tr></thead><tbody><tr><td>Item1</td><td><div class=\"dni-plaintext\"><pre>False</pre></div></td></tr><tr><td>Item2</td><td><details class=\"dni-treeview\"><summary><span class=\"dni-code-hint\"><code>Some(215.3200000)</code></span></summary><div><table><thead><tr></tr></thead><tbody><tr><td>Value</td><td><div class=\"dni-plaintext\"><pre>215.3200000</pre></div></td></tr></tbody></table></div></details></td></tr><tr><td>Item3</td><td><div class=\"dni-plaintext\"><pre>&lt;null&gt;</pre></div></td></tr></tbody></table></div></details></td></tr><tr><td>TrES-2 b</td><td>Published Confirmed</td><td>&lt;a refstr=O_DONOVAN_ET_AL__2006 href=https://ui.adsabs.harvard.edu/abs/2006ApJ...651L..61O/abstract target=ref&gt; O&#39;Donovan et al. 2006 &lt;/a&gt;</td><td><div class=\"dni-plaintext\"><pre>&lt;null&gt;</pre></div></td><td><details class=\"dni-treeview\"><summary><span class=\"dni-code-hint\"><code>Some(381.10000)</code></span></summary><div><table><thead><tr></tr></thead><tbody><tr><td>Value</td><td><div class=\"dni-plaintext\"><pre>381.10000</pre></div></td></tr></tbody></table></div></details></td><td><details class=\"dni-treeview\"><summary><span class=\"dni-code-hint\"><code>Some(2.47063000)</code></span></summary><div><table><thead><tr></tr></thead><tbody><tr><td>Value</td><td><div class=\"dni-plaintext\"><pre>2.47063000</pre></div></td></tr></tbody></table></div></details></td><td>Transit</td><td><details class=\"dni-treeview\"><summary><span class=\"dni-code-hint\"><code>(False, Some(215.3200000), )</code></span></summary><div><table><thead><tr></tr></thead><tbody><tr><td>Item1</td><td><div class=\"dni-plaintext\"><pre>False</pre></div></td></tr><tr><td>Item2</td><td><details class=\"dni-treeview\"><summary><span class=\"dni-code-hint\"><code>Some(215.3200000)</code></span></summary><div><table><thead><tr></tr></thead><tbody><tr><td>Value</td><td><div class=\"dni-plaintext\"><pre>215.3200000</pre></div></td></tr></tbody></table></div></details></td></tr><tr><td>Item3</td><td><div class=\"dni-plaintext\"><pre>&lt;null&gt;</pre></div></td></tr></tbody></table></div></details></td></tr><tr><td>TrES-2 b</td><td>Published Confirmed</td><td>&lt;a refstr=O_DONOVAN_ET_AL__2006 href=https://ui.adsabs.harvard.edu/abs/2006ApJ...651L..61O/abstract target=ref&gt; O&#39;Donovan et al. 2006 &lt;/a&gt;</td><td><div class=\"dni-plaintext\"><pre>&lt;null&gt;</pre></div></td><td><details class=\"dni-treeview\"><summary><span class=\"dni-code-hint\"><code>Some(380.44251)</code></span></summary><div><table><thead><tr></tr></thead><tbody><tr><td>Value</td><td><div class=\"dni-plaintext\"><pre>380.44251</pre></div></td></tr></tbody></table></div></details></td><td><details class=\"dni-treeview\"><summary><span class=\"dni-code-hint\"><code>Some(2.47061317)</code></span></summary><div><table><thead><tr></tr></thead><tbody><tr><td>Value</td><td><div class=\"dni-plaintext\"><pre>2.47061317</pre></div></td></tr></tbody></table></div></details></td><td>Transit</td><td><details class=\"dni-treeview\"><summary><span class=\"dni-code-hint\"><code>(False, Some(215.3200000), )</code></span></summary><div><table><thead><tr></tr></thead><tbody><tr><td>Item1</td><td><div class=\"dni-plaintext\"><pre>False</pre></div></td></tr><tr><td>Item2</td><td><details class=\"dni-treeview\"><summary><span class=\"dni-code-hint\"><code>Some(215.3200000)</code></span></summary><div><table><thead><tr></tr></thead><tbody><tr><td>Value</td><td><div class=\"dni-plaintext\"><pre>215.3200000</pre></div></td></tr></tbody></table></div></details></td></tr><tr><td>Item3</td><td><div class=\"dni-plaintext\"><pre>&lt;null&gt;</pre></div></td></tr></tbody></table></div></details></td></tr><tr><td>TrES-2 b</td><td>Published Confirmed</td><td>&lt;a refstr=O_DONOVAN_ET_AL__2006 href=https://ui.adsabs.harvard.edu/abs/2006ApJ...651L..61O/abstract target=ref&gt; O&#39;Donovan et al. 2006 &lt;/a&gt;</td><td><div class=\"dni-plaintext\"><pre>&lt;null&gt;</pre></div></td><td><details class=\"dni-treeview\"><summary><span class=\"dni-code-hint\"><code>Some(457.67520)</code></span></summary><div><table><thead><tr></tr></thead><tbody><tr><td>Value</td><td><div class=\"dni-plaintext\"><pre>457.67520</pre></div></td></tr></tbody></table></div></details></td><td><details class=\"dni-treeview\"><summary><span class=\"dni-code-hint\"><code>Some(2.47061320)</code></span></summary><div><table><thead><tr></tr></thead><tbody><tr><td>Value</td><td><div class=\"dni-plaintext\"><pre>2.47061320</pre></div></td></tr></tbody></table></div></details></td><td>Transit</td><td><details class=\"dni-treeview\"><summary><span class=\"dni-code-hint\"><code>(False, Some(215.3200000), )</code></span></summary><div><table><thead><tr></tr></thead><tbody><tr><td>Item1</td><td><div class=\"dni-plaintext\"><pre>False</pre></div></td></tr><tr><td>Item2</td><td><details class=\"dni-treeview\"><summary><span class=\"dni-code-hint\"><code>Some(215.3200000)</code></span></summary><div><table><thead><tr></tr></thead><tbody><tr><td>Value</td><td><div class=\"dni-plaintext\"><pre>215.3200000</pre></div></td></tr></tbody></table></div></details></td></tr><tr><td>Item3</td><td><div class=\"dni-plaintext\"><pre>&lt;null&gt;</pre></div></td></tr></tbody></table></div></details></td></tr><tr><td>TrES-2 b</td><td>Published Confirmed</td><td>&lt;a refstr=O_DONOVAN_ET_AL__2006 href=https://ui.adsabs.harvard.edu/abs/2006ApJ...651L..61O/abstract target=ref&gt; O&#39;Donovan et al. 2006 &lt;/a&gt;</td><td><div class=\"dni-plaintext\"><pre>&lt;null&gt;</pre></div></td><td><details class=\"dni-treeview\"><summary><span class=\"dni-code-hint\"><code>Some(383.30298)</code></span></summary><div><table><thead><tr></tr></thead><tbody><tr><td>Value</td><td><div class=\"dni-plaintext\"><pre>383.30298</pre></div></td></tr></tbody></table></div></details></td><td><details class=\"dni-treeview\"><summary><span class=\"dni-code-hint\"><code>Some(2.47061323)</code></span></summary><div><table><thead><tr></tr></thead><tbody><tr><td>Value</td><td><div class=\"dni-plaintext\"><pre>2.47061323</pre></div></td></tr></tbody></table></div></details></td><td>Transit</td><td><details class=\"dni-treeview\"><summary><span class=\"dni-code-hint\"><code>(False, Some(215.3200000), )</code></span></summary><div><table><thead><tr></tr></thead><tbody><tr><td>Item1</td><td><div class=\"dni-plaintext\"><pre>False</pre></div></td></tr><tr><td>Item2</td><td><details class=\"dni-treeview\"><summary><span class=\"dni-code-hint\"><code>Some(215.3200000)</code></span></summary><div><table><thead><tr></tr></thead><tbody><tr><td>Value</td><td><div class=\"dni-plaintext\"><pre>215.3200000</pre></div></td></tr></tbody></table></div></details></td></tr><tr><td>Item3</td><td><div class=\"dni-plaintext\"><pre>&lt;null&gt;</pre></div></td></tr></tbody></table></div></details></td></tr><tr><td>TrES-2 b</td><td>Published Confirmed</td><td>&lt;a refstr=O_DONOVAN_ET_AL__2006 href=https://ui.adsabs.harvard.edu/abs/2006ApJ...651L..61O/abstract target=ref&gt; O&#39;Donovan et al. 2006 &lt;/a&gt;</td><td><div class=\"dni-plaintext\"><pre>&lt;null&gt;</pre></div></td><td><details class=\"dni-treeview\"><summary><span class=\"dni-code-hint\"><code>Some(380.76034)</code></span></summary><div><table><thead><tr></tr></thead><tbody><tr><td>Value</td><td><div class=\"dni-plaintext\"><pre>380.76034</pre></div></td></tr></tbody></table></div></details></td><td><details class=\"dni-treeview\"><summary><span class=\"dni-code-hint\"><code>Some(2.47062100)</code></span></summary><div><table><thead><tr></tr></thead><tbody><tr><td>Value</td><td><div class=\"dni-plaintext\"><pre>2.47062100</pre></div></td></tr></tbody></table></div></details></td><td>Transit</td><td><details class=\"dni-treeview\"><summary><span class=\"dni-code-hint\"><code>(False, Some(215.3200000), )</code></span></summary><div><table><thead><tr></tr></thead><tbody><tr><td>Item1</td><td><div class=\"dni-plaintext\"><pre>False</pre></div></td></tr><tr><td>Item2</td><td><details class=\"dni-treeview\"><summary><span class=\"dni-code-hint\"><code>Some(215.3200000)</code></span></summary><div><table><thead><tr></tr></thead><tbody><tr><td>Value</td><td><div class=\"dni-plaintext\"><pre>215.3200000</pre></div></td></tr></tbody></table></div></details></td></tr><tr><td>Item3</td><td><div class=\"dni-plaintext\"><pre>&lt;null&gt;</pre></div></td></tr></tbody></table></div></details></td></tr><tr><td>TrES-2 b</td><td>Published Confirmed</td><td>&lt;a refstr=O_DONOVAN_ET_AL__2006 href=https://ui.adsabs.harvard.edu/abs/2006ApJ...651L..61O/abstract target=ref&gt; O&#39;Donovan et al. 2006 &lt;/a&gt;</td><td><div class=\"dni-plaintext\"><pre>&lt;null&gt;</pre></div></td><td><details class=\"dni-treeview\"><summary><span class=\"dni-code-hint\"><code>Some(380.76034)</code></span></summary><div><table><thead><tr></tr></thead><tbody><tr><td>Value</td><td><div class=\"dni-plaintext\"><pre>380.76034</pre></div></td></tr></tbody></table></div></details></td><td><div class=\"dni-plaintext\"><pre>&lt;null&gt;</pre></div></td><td>Transit</td><td><details class=\"dni-treeview\"><summary><span class=\"dni-code-hint\"><code>(False, Some(215.3200000), )</code></span></summary><div><table><thead><tr></tr></thead><tbody><tr><td>Item1</td><td><div class=\"dni-plaintext\"><pre>False</pre></div></td></tr><tr><td>Item2</td><td><details class=\"dni-treeview\"><summary><span class=\"dni-code-hint\"><code>Some(215.3200000)</code></span></summary><div><table><thead><tr></tr></thead><tbody><tr><td>Value</td><td><div class=\"dni-plaintext\"><pre>215.3200000</pre></div></td></tr></tbody></table></div></details></td></tr><tr><td>Item3</td><td><div class=\"dni-plaintext\"><pre>&lt;null&gt;</pre></div></td></tr></tbody></table></div></details></td></tr><tr><td>TrES-2 b</td><td>Published Confirmed</td><td>&lt;a refstr=O_DONOVAN_ET_AL__2006 href=https://ui.adsabs.harvard.edu/abs/2006ApJ...651L..61O/abstract target=ref&gt; O&#39;Donovan et al. 2006 &lt;/a&gt;</td><td><div class=\"dni-plaintext\"><pre>&lt;null&gt;</pre></div></td><td><details class=\"dni-treeview\"><summary><span class=\"dni-code-hint\"><code>Some(457.67520)</code></span></summary><div><table><thead><tr></tr></thead><tbody><tr><td>Value</td><td><div class=\"dni-plaintext\"><pre>457.67520</pre></div></td></tr></tbody></table></div></details></td><td><details class=\"dni-treeview\"><summary><span class=\"dni-code-hint\"><code>Some(2.47061320)</code></span></summary><div><table><thead><tr></tr></thead><tbody><tr><td>Value</td><td><div class=\"dni-plaintext\"><pre>2.47061320</pre></div></td></tr></tbody></table></div></details></td><td>Transit</td><td><details class=\"dni-treeview\"><summary><span class=\"dni-code-hint\"><code>(False, Some(215.3200000), )</code></span></summary><div><table><thead><tr></tr></thead><tbody><tr><td>Item1</td><td><div class=\"dni-plaintext\"><pre>False</pre></div></td></tr><tr><td>Item2</td><td><details class=\"dni-treeview\"><summary><span class=\"dni-code-hint\"><code>Some(215.3200000)</code></span></summary><div><table><thead><tr></tr></thead><tbody><tr><td>Value</td><td><div class=\"dni-plaintext\"><pre>215.3200000</pre></div></td></tr></tbody></table></div></details></td></tr><tr><td>Item3</td><td><div class=\"dni-plaintext\"><pre>&lt;null&gt;</pre></div></td></tr></tbody></table></div></details></td></tr><tr><td>TrES-2 b</td><td>Published Confirmed</td><td>&lt;a refstr=O_DONOVAN_ET_AL__2006 href=https://ui.adsabs.harvard.edu/abs/2006ApJ...651L..61O/abstract target=ref&gt; O&#39;Donovan et al. 2006 &lt;/a&gt;</td><td><div class=\"dni-plaintext\"><pre>&lt;null&gt;</pre></div></td><td><div class=\"dni-plaintext\"><pre>&lt;null&gt;</pre></div></td><td><details class=\"dni-treeview\"><summary><span class=\"dni-code-hint\"><code>Some(2.47061010)</code></span></summary><div><table><thead><tr></tr></thead><tbody><tr><td>Value</td><td><div class=\"dni-plaintext\"><pre>2.47061010</pre></div></td></tr></tbody></table></div></details></td><td>Transit</td><td><details class=\"dni-treeview\"><summary><span class=\"dni-code-hint\"><code>(False, Some(215.3200000), )</code></span></summary><div><table><thead><tr></tr></thead><tbody><tr><td>Item1</td><td><div class=\"dni-plaintext\"><pre>False</pre></div></td></tr><tr><td>Item2</td><td><details class=\"dni-treeview\"><summary><span class=\"dni-code-hint\"><code>Some(215.3200000)</code></span></summary><div><table><thead><tr></tr></thead><tbody><tr><td>Value</td><td><div class=\"dni-plaintext\"><pre>215.3200000</pre></div></td></tr></tbody></table></div></details></td></tr><tr><td>Item3</td><td><div class=\"dni-plaintext\"><pre>&lt;null&gt;</pre></div></td></tr></tbody></table></div></details></td></tr><tr><td>TrES-2 b</td><td>Published Confirmed</td><td>&lt;a refstr=O_DONOVAN_ET_AL__2006 href=https://ui.adsabs.harvard.edu/abs/2006ApJ...651L..61O/abstract target=ref&gt; O&#39;Donovan et al. 2006 &lt;/a&gt;</td><td><div class=\"dni-plaintext\"><pre>&lt;null&gt;</pre></div></td><td><div class=\"dni-plaintext\"><pre>&lt;null&gt;</pre></div></td><td><details class=\"dni-treeview\"><summary><span class=\"dni-code-hint\"><code>Some(2.47061340)</code></span></summary><div><table><thead><tr></tr></thead><tbody><tr><td>Value</td><td><div class=\"dni-plaintext\"><pre>2.47061340</pre></div></td></tr></tbody></table></div></details></td><td>Transit</td><td><details class=\"dni-treeview\"><summary><span class=\"dni-code-hint\"><code>(False, Some(215.3200000), )</code></span></summary><div><table><thead><tr></tr></thead><tbody><tr><td>Item1</td><td><div class=\"dni-plaintext\"><pre>False</pre></div></td></tr><tr><td>Item2</td><td><details class=\"dni-treeview\"><summary><span class=\"dni-code-hint\"><code>Some(215.3200000)</code></span></summary><div><table><thead><tr></tr></thead><tbody><tr><td>Value</td><td><div class=\"dni-plaintext\"><pre>215.3200000</pre></div></td></tr></tbody></table></div></details></td></tr><tr><td>Item3</td><td><div class=\"dni-plaintext\"><pre>&lt;null&gt;</pre></div></td></tr></tbody></table></div></details></td></tr><tr><td>TrES-2 b</td><td>Published Confirmed</td><td>&lt;a refstr=O_DONOVAN_ET_AL__2006 href=https://ui.adsabs.harvard.edu/abs/2006ApJ...651L..61O/abstract target=ref&gt; O&#39;Donovan et al. 2006 &lt;/a&gt;</td><td><div class=\"dni-plaintext\"><pre>&lt;null&gt;</pre></div></td><td><details class=\"dni-treeview\"><summary><span class=\"dni-code-hint\"><code>Some(382.03166)</code></span></summary><div><table><thead><tr></tr></thead><tbody><tr><td>Value</td><td><div class=\"dni-plaintext\"><pre>382.03166</pre></div></td></tr></tbody></table></div></details></td><td><details class=\"dni-treeview\"><summary><span class=\"dni-code-hint\"><code>Some(2.47061892)</code></span></summary><div><table><thead><tr></tr></thead><tbody><tr><td>Value</td><td><div class=\"dni-plaintext\"><pre>2.47061892</pre></div></td></tr></tbody></table></div></details></td><td>Transit</td><td><details class=\"dni-treeview\"><summary><span class=\"dni-code-hint\"><code>(False, Some(215.3200000), )</code></span></summary><div><table><thead><tr></tr></thead><tbody><tr><td>Item1</td><td><div class=\"dni-plaintext\"><pre>False</pre></div></td></tr><tr><td>Item2</td><td><details class=\"dni-treeview\"><summary><span class=\"dni-code-hint\"><code>Some(215.3200000)</code></span></summary><div><table><thead><tr></tr></thead><tbody><tr><td>Value</td><td><div class=\"dni-plaintext\"><pre>215.3200000</pre></div></td></tr></tbody></table></div></details></td></tr><tr><td>Item3</td><td><div class=\"dni-plaintext\"><pre>&lt;null&gt;</pre></div></td></tr></tbody></table></div></details></td></tr><tr><td>TrES-2 b</td><td>Published Confirmed</td><td>&lt;a refstr=O_DONOVAN_ET_AL__2006 href=https://ui.adsabs.harvard.edu/abs/2006ApJ...651L..61O/abstract target=ref&gt; O&#39;Donovan et al. 2006 &lt;/a&gt;</td><td><div class=\"dni-plaintext\"><pre>&lt;null&gt;</pre></div></td><td><div class=\"dni-plaintext\"><pre>&lt;null&gt;</pre></div></td><td><details class=\"dni-treeview\"><summary><span class=\"dni-code-hint\"><code>Some(2.47061337)</code></span></summary><div><table><thead><tr></tr></thead><tbody><tr><td>Value</td><td><div class=\"dni-plaintext\"><pre>2.47061337</pre></div></td></tr></tbody></table></div></details></td><td>Transit</td><td><details class=\"dni-treeview\"><summary><span class=\"dni-code-hint\"><code>(False, Some(215.3200000), )</code></span></summary><div><table><thead><tr></tr></thead><tbody><tr><td>Item1</td><td><div class=\"dni-plaintext\"><pre>False</pre></div></td></tr><tr><td>Item2</td><td><details class=\"dni-treeview\"><summary><span class=\"dni-code-hint\"><code>Some(215.3200000)</code></span></summary><div><table><thead><tr></tr></thead><tbody><tr><td>Value</td><td><div class=\"dni-plaintext\"><pre>215.3200000</pre></div></td></tr></tbody></table></div></details></td></tr><tr><td>Item3</td><td><div class=\"dni-plaintext\"><pre>&lt;null&gt;</pre></div></td></tr></tbody></table></div></details></td></tr><tr><td>TrES-2 b</td><td>Published Confirmed</td><td>&lt;a refstr=O_DONOVAN_ET_AL__2006 href=https://ui.adsabs.harvard.edu/abs/2006ApJ...651L..61O/abstract target=ref&gt; O&#39;Donovan et al. 2006 &lt;/a&gt;</td><td><div class=\"dni-plaintext\"><pre>&lt;null&gt;</pre></div></td><td><details class=\"dni-treeview\"><summary><span class=\"dni-code-hint\"><code>Some(380.74400)</code></span></summary><div><table><thead><tr></tr></thead><tbody><tr><td>Value</td><td><div class=\"dni-plaintext\"><pre>380.74400</pre></div></td></tr></tbody></table></div></details></td><td><details class=\"dni-treeview\"><summary><span class=\"dni-code-hint\"><code>Some(2.47061344)</code></span></summary><div><table><thead><tr></tr></thead><tbody><tr><td>Value</td><td><div class=\"dni-plaintext\"><pre>2.47061344</pre></div></td></tr></tbody></table></div></details></td><td>Transit</td><td><details class=\"dni-treeview\"><summary><span class=\"dni-code-hint\"><code>(False, Some(215.3200000), )</code></span></summary><div><table><thead><tr></tr></thead><tbody><tr><td>Item1</td><td><div class=\"dni-plaintext\"><pre>False</pre></div></td></tr><tr><td>Item2</td><td><details class=\"dni-treeview\"><summary><span class=\"dni-code-hint\"><code>Some(215.3200000)</code></span></summary><div><table><thead><tr></tr></thead><tbody><tr><td>Value</td><td><div class=\"dni-plaintext\"><pre>215.3200000</pre></div></td></tr></tbody></table></div></details></td></tr><tr><td>Item3</td><td><div class=\"dni-plaintext\"><pre>&lt;null&gt;</pre></div></td></tr></tbody></table></div></details></td></tr><tr><td>TrES-2 b</td><td>Published Confirmed</td><td>&lt;a refstr=O_DONOVAN_ET_AL__2006 href=https://ui.adsabs.harvard.edu/abs/2006ApJ...651L..61O/abstract target=ref&gt; O&#39;Donovan et al. 2006 &lt;/a&gt;</td><td><div class=\"dni-plaintext\"><pre>&lt;null&gt;</pre></div></td><td><details class=\"dni-treeview\"><summary><span class=\"dni-code-hint\"><code>Some(398.24099)</code></span></summary><div><table><thead><tr></tr></thead><tbody><tr><td>Value</td><td><div class=\"dni-plaintext\"><pre>398.24099</pre></div></td></tr></tbody></table></div></details></td><td><details class=\"dni-treeview\"><summary><span class=\"dni-code-hint\"><code>Some(2.47061010)</code></span></summary><div><table><thead><tr></tr></thead><tbody><tr><td>Value</td><td><div class=\"dni-plaintext\"><pre>2.47061010</pre></div></td></tr></tbody></table></div></details></td><td>Transit</td><td><details class=\"dni-treeview\"><summary><span class=\"dni-code-hint\"><code>(False, Some(215.3200000), )</code></span></summary><div><table><thead><tr></tr></thead><tbody><tr><td>Item1</td><td><div class=\"dni-plaintext\"><pre>False</pre></div></td></tr><tr><td>Item2</td><td><details class=\"dni-treeview\"><summary><span class=\"dni-code-hint\"><code>Some(215.3200000)</code></span></summary><div><table><thead><tr></tr></thead><tbody><tr><td>Value</td><td><div class=\"dni-plaintext\"><pre>215.3200000</pre></div></td></tr></tbody></table></div></details></td></tr><tr><td>Item3</td><td><div class=\"dni-plaintext\"><pre>&lt;null&gt;</pre></div></td></tr></tbody></table></div></details></td></tr><tr><td>TrES-2 b</td><td>Published Confirmed</td><td>&lt;a refstr=O_DONOVAN_ET_AL__2006 href=https://ui.adsabs.harvard.edu/abs/2006ApJ...651L..61O/abstract target=ref&gt; O&#39;Donovan et al. 2006 &lt;/a&gt;</td><td><div class=\"dni-plaintext\"><pre>&lt;null&gt;</pre></div></td><td><details class=\"dni-treeview\"><summary><span class=\"dni-code-hint\"><code>Some(367.72931)</code></span></summary><div><table><thead><tr></tr></thead><tbody><tr><td>Value</td><td><div class=\"dni-plaintext\"><pre>367.72931</pre></div></td></tr></tbody></table></div></details></td><td><div class=\"dni-plaintext\"><pre>&lt;null&gt;</pre></div></td><td>Transit</td><td><details class=\"dni-treeview\"><summary><span class=\"dni-code-hint\"><code>(False, Some(215.3200000), )</code></span></summary><div><table><thead><tr></tr></thead><tbody><tr><td>Item1</td><td><div class=\"dni-plaintext\"><pre>False</pre></div></td></tr><tr><td>Item2</td><td><details class=\"dni-treeview\"><summary><span class=\"dni-code-hint\"><code>Some(215.3200000)</code></span></summary><div><table><thead><tr></tr></thead><tbody><tr><td>Value</td><td><div class=\"dni-plaintext\"><pre>215.3200000</pre></div></td></tr></tbody></table></div></details></td></tr><tr><td>Item3</td><td><div class=\"dni-plaintext\"><pre>&lt;null&gt;</pre></div></td></tr></tbody></table></div></details></td></tr><tr><td>TrES-2 b</td><td>Published Confirmed</td><td>&lt;a refstr=O_DONOVAN_ET_AL__2006 href=https://ui.adsabs.harvard.edu/abs/2006ApJ...651L..61O/abstract target=ref&gt; O&#39;Donovan et al. 2006 &lt;/a&gt;</td><td><div class=\"dni-plaintext\"><pre>&lt;null&gt;</pre></div></td><td><details class=\"dni-treeview\"><summary><span class=\"dni-code-hint\"><code>Some(380.76034)</code></span></summary><div><table><thead><tr></tr></thead><tbody><tr><td>Value</td><td><div class=\"dni-plaintext\"><pre>380.76034</pre></div></td></tr></tbody></table></div></details></td><td><details class=\"dni-treeview\"><summary><span class=\"dni-code-hint\"><code>Some(2.47062100)</code></span></summary><div><table><thead><tr></tr></thead><tbody><tr><td>Value</td><td><div class=\"dni-plaintext\"><pre>2.47062100</pre></div></td></tr></tbody></table></div></details></td><td>Transit</td><td><details class=\"dni-treeview\"><summary><span class=\"dni-code-hint\"><code>(False, Some(215.3200000), )</code></span></summary><div><table><thead><tr></tr></thead><tbody><tr><td>Item1</td><td><div class=\"dni-plaintext\"><pre>False</pre></div></td></tr><tr><td>Item2</td><td><details class=\"dni-treeview\"><summary><span class=\"dni-code-hint\"><code>Some(215.3200000)</code></span></summary><div><table><thead><tr></tr></thead><tbody><tr><td>Value</td><td><div class=\"dni-plaintext\"><pre>215.3200000</pre></div></td></tr></tbody></table></div></details></td></tr><tr><td>Item3</td><td><div class=\"dni-plaintext\"><pre>&lt;null&gt;</pre></div></td></tr></tbody></table></div></details></td></tr><tr><td>TrES-2 b</td><td>Published Confirmed</td><td>&lt;a refstr=O_DONOVAN_ET_AL__2006 href=https://ui.adsabs.harvard.edu/abs/2006ApJ...651L..61O/abstract target=ref&gt; O&#39;Donovan et al. 2006 &lt;/a&gt;</td><td><div class=\"dni-plaintext\"><pre>&lt;null&gt;</pre></div></td><td><details class=\"dni-treeview\"><summary><span class=\"dni-code-hint\"><code>Some(406.82240)</code></span></summary><div><table><thead><tr></tr></thead><tbody><tr><td>Value</td><td><div class=\"dni-plaintext\"><pre>406.82240</pre></div></td></tr></tbody></table></div></details></td><td><details class=\"dni-treeview\"><summary><span class=\"dni-code-hint\"><code>Some(2.47063000)</code></span></summary><div><table><thead><tr></tr></thead><tbody><tr><td>Value</td><td><div class=\"dni-plaintext\"><pre>2.47063000</pre></div></td></tr></tbody></table></div></details></td><td>Transit</td><td><details class=\"dni-treeview\"><summary><span class=\"dni-code-hint\"><code>(False, Some(215.3200000), )</code></span></summary><div><table><thead><tr></tr></thead><tbody><tr><td>Item1</td><td><div class=\"dni-plaintext\"><pre>False</pre></div></td></tr><tr><td>Item2</td><td><details class=\"dni-treeview\"><summary><span class=\"dni-code-hint\"><code>Some(215.3200000)</code></span></summary><div><table><thead><tr></tr></thead><tbody><tr><td>Value</td><td><div class=\"dni-plaintext\"><pre>215.3200000</pre></div></td></tr></tbody></table></div></details></td></tr><tr><td>Item3</td><td><div class=\"dni-plaintext\"><pre>&lt;null&gt;</pre></div></td></tr></tbody></table></div></details></td></tr><tr><td>TrES-2 b</td><td>Published Confirmed</td><td>&lt;a refstr=O_DONOVAN_ET_AL__2006 href=https://ui.adsabs.harvard.edu/abs/2006ApJ...651L..61O/abstract target=ref&gt; O&#39;Donovan et al. 2006 &lt;/a&gt;</td><td><div class=\"dni-plaintext\"><pre>&lt;null&gt;</pre></div></td><td><div class=\"dni-plaintext\"><pre>&lt;null&gt;</pre></div></td><td><details class=\"dni-treeview\"><summary><span class=\"dni-code-hint\"><code>Some(2.47061339)</code></span></summary><div><table><thead><tr></tr></thead><tbody><tr><td>Value</td><td><div class=\"dni-plaintext\"><pre>2.47061339</pre></div></td></tr></tbody></table></div></details></td><td>Transit</td><td><details class=\"dni-treeview\"><summary><span class=\"dni-code-hint\"><code>(False, Some(215.3200000), )</code></span></summary><div><table><thead><tr></tr></thead><tbody><tr><td>Item1</td><td><div class=\"dni-plaintext\"><pre>False</pre></div></td></tr><tr><td>Item2</td><td><details class=\"dni-treeview\"><summary><span class=\"dni-code-hint\"><code>Some(215.3200000)</code></span></summary><div><table><thead><tr></tr></thead><tbody><tr><td>Value</td><td><div class=\"dni-plaintext\"><pre>215.3200000</pre></div></td></tr></tbody></table></div></details></td></tr><tr><td>Item3</td><td><div class=\"dni-plaintext\"><pre>&lt;null&gt;</pre></div></td></tr></tbody></table></div></details></td></tr><tr><td>TrES-2 b</td><td>Published Confirmed</td><td>&lt;a refstr=O_DONOVAN_ET_AL__2006 href=https://ui.adsabs.harvard.edu/abs/2006ApJ...651L..61O/abstract target=ref&gt; O&#39;Donovan et al. 2006 &lt;/a&gt;</td><td><div class=\"dni-plaintext\"><pre>&lt;null&gt;</pre></div></td><td><div class=\"dni-plaintext\"><pre>&lt;null&gt;</pre></div></td><td><details class=\"dni-treeview\"><summary><span class=\"dni-code-hint\"><code>Some(2.47061338)</code></span></summary><div><table><thead><tr></tr></thead><tbody><tr><td>Value</td><td><div class=\"dni-plaintext\"><pre>2.47061338</pre></div></td></tr></tbody></table></div></details></td><td>Transit</td><td><details class=\"dni-treeview\"><summary><span class=\"dni-code-hint\"><code>(False, Some(215.3200000), )</code></span></summary><div><table><thead><tr></tr></thead><tbody><tr><td>Item1</td><td><div class=\"dni-plaintext\"><pre>False</pre></div></td></tr><tr><td>Item2</td><td><details class=\"dni-treeview\"><summary><span class=\"dni-code-hint\"><code>Some(215.3200000)</code></span></summary><div><table><thead><tr></tr></thead><tbody><tr><td>Value</td><td><div class=\"dni-plaintext\"><pre>215.3200000</pre></div></td></tr></tbody></table></div></details></td></tr><tr><td>Item3</td><td><div class=\"dni-plaintext\"><pre>&lt;null&gt;</pre></div></td></tr></tbody></table></div></details></td></tr><tr><td>TrES-2 b</td><td>Published Confirmed</td><td>&lt;a refstr=O_DONOVAN_ET_AL__2006 href=https://ui.adsabs.harvard.edu/abs/2006ApJ...651L..61O/abstract target=ref&gt; O&#39;Donovan et al. 2006 &lt;/a&gt;</td><td><div class=\"dni-plaintext\"><pre>&lt;null&gt;</pre></div></td><td><div class=\"dni-plaintext\"><pre>&lt;null&gt;</pre></div></td><td><details class=\"dni-treeview\"><summary><span class=\"dni-code-hint\"><code>Some(2.47061350)</code></span></summary><div><table><thead><tr></tr></thead><tbody><tr><td>Value</td><td><div class=\"dni-plaintext\"><pre>2.47061350</pre></div></td></tr></tbody></table></div></details></td><td>Transit</td><td><details class=\"dni-treeview\"><summary><span class=\"dni-code-hint\"><code>(False, Some(215.3200000), )</code></span></summary><div><table><thead><tr></tr></thead><tbody><tr><td>Item1</td><td><div class=\"dni-plaintext\"><pre>False</pre></div></td></tr><tr><td>Item2</td><td><details class=\"dni-treeview\"><summary><span class=\"dni-code-hint\"><code>Some(215.3200000)</code></span></summary><div><table><thead><tr></tr></thead><tbody><tr><td>Value</td><td><div class=\"dni-plaintext\"><pre>215.3200000</pre></div></td></tr></tbody></table></div></details></td></tr><tr><td>Item3</td><td><div class=\"dni-plaintext\"><pre>&lt;null&gt;</pre></div></td></tr></tbody></table></div></details></td></tr><tr><td colspan=\"8\"><i>(5 more)</i></td></tr></tbody></table><style>\r\n",
       ".dni-code-hint {\r\n",
       "    font-style: italic;\r\n",
       "    overflow: hidden;\r\n",
       "    white-space: nowrap;\r\n",
       "}\r\n",
       ".dni-treeview {\r\n",
       "    white-space: nowrap;\r\n",
       "}\r\n",
       ".dni-treeview td {\r\n",
       "    vertical-align: top;\r\n",
       "    text-align: start;\r\n",
       "}\r\n",
       "details.dni-treeview {\r\n",
       "    padding-left: 1em;\r\n",
       "}\r\n",
       "table td {\r\n",
       "    text-align: start;\r\n",
       "}\r\n",
       "table tr { \r\n",
       "    vertical-align: top; \r\n",
       "    margin: 0em 0px;\r\n",
       "}\r\n",
       "table tr td pre \r\n",
       "{ \r\n",
       "    vertical-align: top !important; \r\n",
       "    margin: 0em 0px !important;\r\n",
       "} \r\n",
       "table th {\r\n",
       "    text-align: start;\r\n",
       "}\r\n",
       "</style>"
      ]
     },
     "metadata": {},
     "output_type": "display_data"
    }
   ],
   "source": [
    "exoWithMaxEntries.DisplayTable()\n"
   ]
  },
  {
   "cell_type": "markdown",
   "metadata": {},
   "source": [
    "It looks like the numeric values for `pl_masse`, `pl_orbper` and (maybe) `pl_insol` can be different for all entries of a given planet. A possible way to deal with this situation is to average each of them.\n",
    "\n",
    "> I am not an exoplanet expert, so maybe there is another proper way to handle this data...\n",
    "\n",
    " Notice that, for example, the values for `pl_masse` are `Options`:"
   ]
  },
  {
   "cell_type": "code",
   "execution_count": 19,
   "metadata": {
    "dotnet_interactive": {
     "language": "fsharp"
    },
    "polyglot_notebook": {
     "kernelName": "fsharp"
    },
    "vscode": {
     "languageId": "polyglot-notebook"
    }
   },
   "outputs": [
    {
     "data": {
      "text/html": [
       "<details open=\"open\" class=\"dni-treeview\"><summary><span class=\"dni-code-hint\"><code>[ Some(381.39600), Some(381.10000), Some(380.44251), Some(457.67520), Some(383.30298), Some(380.76034), Some(380.76034), Some(457.67520), &lt;null&gt;, &lt;null&gt;, Some(382.03166), &lt;null&gt;, Some(380.74400), Some(398.24099), Some(367.72931), Some(380.76034), Some(406.82240), &lt;null&gt;, &lt;null&gt;, &lt;null&gt; ... (more) ]</code></span></summary><div><table><thead><tr></tr></thead><tbody><tr><td>f</td><td><details class=\"dni-treeview\"><summary><span class=\"dni-code-hint\"><code>Microsoft.FSharp.Collections.SeqModule+revamp@728[System.Tuple`8[System.String,System.String,System.String,Microsoft.FSharp.Core.FSharpOption`1[System.String],Microsoft.FSharp.Core.FSharpOption`1[System.Decimal],Microsoft.FSharp.Core.FSharpOption`1[System.Decimal],System.String,System.Tuple`3[System...</code></span></summary><div><table><thead><tr></tr></thead><tbody><tr><td>f</td><td><details class=\"dni-treeview\"><summary><span class=\"dni-code-hint\"><code>Microsoft.FSharp.Collections.SeqModule+Map@748-1[System.Tuple`8[System.String,System.String,System.String,Microsoft.FSharp.Core.FSharpOption`1[System.String],Microsoft.FSharp.Core.FSharpOption`1[System.Decimal],Microsoft.FSharp.Core.FSharpOption`1[System.Decimal],System.String,System.Tuple`3[System....</code></span></summary><div><table><thead><tr></tr></thead><tbody><tr><td>mapping</td><td><details class=\"dni-treeview\"><summary><span class=\"dni-code-hint\"><code>FSI_0023+it@2-8</code></span></summary><div><table><thead><tr></tr></thead><tbody></tbody></table></div></details></td></tr></tbody></table></div></details></td></tr><tr><td>ie</td><td><details class=\"dni-treeview\"><summary><span class=\"dni-code-hint\"><code>[ (TrES-2 b, Published Confirmed, &lt;a refstr=O_DONOVAN_ET_AL__2006 href=https://ui.adsabs.harvard.edu/abs/2006ApJ...651L..61O/abstract target=ref&gt; O&#39;Donovan et al. 2006 &lt;/a&gt;, , Some(381.39600), Some(2.47063000), Transit, False, Some(215.3200000), ), (TrES-2 b, Published Confirmed, &lt;a refstr=O_DONOVAN_ET_AL__2006 href=https://ui.adsabs.harvard.edu/abs/2006ApJ...651L..61O/abstract target=ref&gt; O&#39;Donovan et al. 2006 &lt;/a&gt;, , Some(381.10000), Some(2.47063000), Transit, False, Some(215.3200000), ), (TrES-2 b, Published Confirmed, &lt;a refstr=O_DONOVAN_ET_AL__2006 href=https://ui.adsabs.harvard.edu/abs/2006ApJ...651L..61O/abstract target=ref&gt; O&#39;Donovan et al. 2006 &lt;/a&gt;, , Some(380.44251), Some(2.47061317), Transit, False, Some(215.3200000), ), (TrES-2 b, Published Confirmed, &lt;a refstr=O_DONOVAN_ET_AL__2006 href=https://ui.adsabs.harvard.edu/abs/2006ApJ...651L..61O/abstract target=ref&gt; O&#39;Donovan et al. 2006 &lt;/a&gt;, , Some(457.67520), Some(2.47061320), Transit, False, Some(215.3200000), ), (TrES-2 b, Published Confirmed, &lt;a refstr=O_DONOVAN_ET_AL__2006 href=https://ui.adsabs.harvard.edu/abs/2006ApJ...651L..61O/abstract target=ref&gt; O&#39;Donovan et al. 2006 &lt;/a&gt;, , Some(383.30298), Some(2.47061323), Transit, False, Some(215.3200000), ), (TrES-2 b, Published Confirmed, &lt;a refstr=O_DONOVAN_ET_AL__2006 href=https://ui.adsabs.harvard.edu/abs/2006ApJ...651L..61O/abstract target=ref&gt; O&#39;Donovan et al. 2006 &lt;/a&gt;, , Some(380.76034), Some(2.47062100), Transit, False, Some(215.3200000), ), (TrES-2 b, Published Confirmed, &lt;a refstr=O_DONOVAN_ET_AL__2006 href=https://ui.adsabs.harvard.edu/abs/2006ApJ...651L..61O/abstract target=ref&gt; O&#39;Donovan et al. 2006 &lt;/a&gt;, , Some(380.76034), , Transit, False, Some(215.3200000), ), (TrES-2 b, Published Confirmed, &lt;a refstr=O_DONOVAN_ET_AL__2006 href=https://ui.adsabs.harvard.edu/abs/2006ApJ...651L..61O/abstract target=ref&gt; O&#39;Donovan et al. 2006 &lt;/a&gt;, , Some(457.67520), Some(2.47061320), Transit, False, Some(215.3200000), ), (TrES-2 b, Published Confirmed, &lt;a refstr=O_DONOVAN_ET_AL__2006 href=https://ui.adsabs.harvard.edu/abs/2006ApJ...651L..61O/abstract target=ref&gt; O&#39;Donovan et al. 2006 &lt;/a&gt;, , , Some(2.47061010), Transit, False, Some(215.3200000), ), (TrES-2 b, Published Confirmed, &lt;a refstr=O_DONOVAN_ET_AL__2006 href=https://ui.adsabs.harvard.edu/abs/2006ApJ...651L..61O/abstract target=ref&gt; O&#39;Donovan et al. 2006 &lt;/a&gt;, , , Some(2.47061340), Transit, False, Some(215.3200000), ), (TrES-2 b, Published Confirmed, &lt;a refstr=O_DONOVAN_ET_AL__2006 href=https://ui.adsabs.harvard.edu/abs/2006ApJ...651L..61O/abstract target=ref&gt; O&#39;Donovan et al. 2006 &lt;/a&gt;, , Some(382.03166), Some(2.47061892), Transit, False, Some(215.3200000), ), (TrES-2 b, Published Confirmed, &lt;a refstr=O_DONOVAN_ET_AL__2006 href=https://ui.adsabs.harvard.edu/abs/2006ApJ...651L..61O/abstract target=ref&gt; O&#39;Donovan et al. 2006 &lt;/a&gt;, , , Some(2.47061337), Transit, False, Some(215.3200000), ), (TrES-2 b, Published Confirmed, &lt;a refstr=O_DONOVAN_ET_AL__2006 href=https://ui.adsabs.harvard.edu/abs/2006ApJ...651L..61O/abstract target=ref&gt; O&#39;Donovan et al. 2006 &lt;/a&gt;, , Some(380.74400), Some(2.47061344), Transit, False, Some(215.3200000), ), (TrES-2 b, Published Confirmed, &lt;a refstr=O_DONOVAN_ET_AL__2006 href=https://ui.adsabs.harvard.edu/abs/2006ApJ...651L..61O/abstract target=ref&gt; O&#39;Donovan et al. 2006 &lt;/a&gt;, , Some(398.24099), Some(2.47061010), Transit, False, Some(215.3200000), ), (TrES-2 b, Published Confirmed, &lt;a refstr=O_DONOVAN_ET_AL__2006 href=https://ui.adsabs.harvard.edu/abs/2006ApJ...651L..61O/abstract target=ref&gt; O&#39;Donovan et al. 2006 &lt;/a&gt;, , Some(367.72931), , Transit, False, Some(215.3200000), ), (TrES-2 b, Published Confirmed, &lt;a refstr=O_DONOVAN_ET_AL__2006 href=https://ui.adsabs.harvard.edu/abs/2006ApJ...651L..61O/abstract target=ref&gt; O&#39;Donovan et al. 2006 &lt;/a&gt;, , Some(380.76034), Some(2.47062100), Transit, False, Some(215.3200000), ), (TrES-2 b, Published Confirmed, &lt;a refstr=O_DONOVAN_ET_AL__2006 href=https://ui.adsabs.harvard.edu/abs/2006ApJ...651L..61O/abstract target=ref&gt; O&#39;Donovan et al. 2006 &lt;/a&gt;, , Some(406.82240), Some(2.47063000), Transit, False, Some(215.3200000), ), (TrES-2 b, Published Confirmed, &lt;a refstr=O_DONOVAN_ET_AL__2006 href=https://ui.adsabs.harvard.edu/abs/2006ApJ...651L..61O/abstract target=ref&gt; O&#39;Donovan et al. 2006 &lt;/a&gt;, , , Some(2.47061339), Transit, False, Some(215.3200000), ), (TrES-2 b, Published Confirmed, &lt;a refstr=O_DONOVAN_ET_AL__2006 href=https://ui.adsabs.harvard.edu/abs/2006ApJ...651L..61O/abstract target=ref&gt; O&#39;Donovan et al. 2006 &lt;/a&gt;, , , Some(2.47061338), Transit, False, Some(215.3200000), ), (TrES-2 b, Published Confirmed, &lt;a refstr=O_DONOVAN_ET_AL__2006 href=https://ui.adsabs.harvard.edu/abs/2006ApJ...651L..61O/abstract target=ref&gt; O&#39;Donovan et al. 2006 &lt;/a&gt;, , , Some(2.47061350), Transit, False, Some(215.3200000), ) ... (more) ]</code></span></summary><div><table><thead><tr></tr></thead><tbody><tr><td>f</td><td><details class=\"dni-treeview\"><summary><span class=\"dni-code-hint\"><code>Microsoft.FSharp.Collections.SeqModule+ReadOnly@1294[System.Tuple`8[System.String,System.String,System.String,Microsoft.FSharp.Core.FSharpOption`1[System.String],Microsoft.FSharp.Core.FSharpOption`1[System.Decimal],Microsoft.FSharp.Core.FSharpOption`1[System.Decimal],System.String,System.Tuple`3[Sys...</code></span></summary><div><table><thead><tr></tr></thead><tbody><tr><td>source</td><td><table><thead><tr><th><i>index</i></th><th>value</th></tr></thead><tbody><tr><td>0</td><td><details class=\"dni-treeview\"><summary><span class=\"dni-code-hint\"><code>(TrES-2 b, Published Confirmed, &lt;a refstr=O_DONOVAN_ET_AL__2006 href=https://ui.adsabs.harvard.edu/abs/2006ApJ...651L..61O/abstract target=ref&gt; O&#39;Donovan et al. 2006 &lt;/a&gt;, , Some(381.39600), Some(2.47063000), Transit, False, Some(215.3200000), )</code></span></summary><div><table><thead><tr></tr></thead><tbody><tr><td>Item1</td><td>TrES-2 b</td></tr><tr><td>Item2</td><td>Published Confirmed</td></tr><tr><td>Item3</td><td><a refstr=O_DONOVAN_ET_AL__2006 href=https://ui.adsabs.harvard.edu/abs/2006ApJ...651L..61O/abstract target=ref> O'Donovan et al. 2006 </a></td></tr><tr><td>Item4</td><td><div class=\"dni-plaintext\"><pre>&lt;null&gt;</pre></div></td></tr><tr><td>Item5</td><td>Some(381.39600)</td></tr><tr><td>Item6</td><td>Some(2.47063000)</td></tr><tr><td>Item7</td><td>Transit</td></tr><tr><td>Rest</td><td>(False, Some(215.3200000), )</td></tr></tbody></table></div></details></td></tr><tr><td>1</td><td><details class=\"dni-treeview\"><summary><span class=\"dni-code-hint\"><code>(TrES-2 b, Published Confirmed, &lt;a refstr=O_DONOVAN_ET_AL__2006 href=https://ui.adsabs.harvard.edu/abs/2006ApJ...651L..61O/abstract target=ref&gt; O&#39;Donovan et al. 2006 &lt;/a&gt;, , Some(381.10000), Some(2.47063000), Transit, False, Some(215.3200000), )</code></span></summary><div><table><thead><tr></tr></thead><tbody><tr><td>Item1</td><td>TrES-2 b</td></tr><tr><td>Item2</td><td>Published Confirmed</td></tr><tr><td>Item3</td><td><a refstr=O_DONOVAN_ET_AL__2006 href=https://ui.adsabs.harvard.edu/abs/2006ApJ...651L..61O/abstract target=ref> O'Donovan et al. 2006 </a></td></tr><tr><td>Item4</td><td><div class=\"dni-plaintext\"><pre>&lt;null&gt;</pre></div></td></tr><tr><td>Item5</td><td>Some(381.10000)</td></tr><tr><td>Item6</td><td>Some(2.47063000)</td></tr><tr><td>Item7</td><td>Transit</td></tr><tr><td>Rest</td><td>(False, Some(215.3200000), )</td></tr></tbody></table></div></details></td></tr><tr><td>2</td><td><details class=\"dni-treeview\"><summary><span class=\"dni-code-hint\"><code>(TrES-2 b, Published Confirmed, &lt;a refstr=O_DONOVAN_ET_AL__2006 href=https://ui.adsabs.harvard.edu/abs/2006ApJ...651L..61O/abstract target=ref&gt; O&#39;Donovan et al. 2006 &lt;/a&gt;, , Some(380.44251), Some(2.47061317), Transit, False, Some(215.3200000), )</code></span></summary><div><table><thead><tr></tr></thead><tbody><tr><td>Item1</td><td>TrES-2 b</td></tr><tr><td>Item2</td><td>Published Confirmed</td></tr><tr><td>Item3</td><td><a refstr=O_DONOVAN_ET_AL__2006 href=https://ui.adsabs.harvard.edu/abs/2006ApJ...651L..61O/abstract target=ref> O'Donovan et al. 2006 </a></td></tr><tr><td>Item4</td><td><div class=\"dni-plaintext\"><pre>&lt;null&gt;</pre></div></td></tr><tr><td>Item5</td><td>Some(380.44251)</td></tr><tr><td>Item6</td><td>Some(2.47061317)</td></tr><tr><td>Item7</td><td>Transit</td></tr><tr><td>Rest</td><td>(False, Some(215.3200000), )</td></tr></tbody></table></div></details></td></tr><tr><td>3</td><td><details class=\"dni-treeview\"><summary><span class=\"dni-code-hint\"><code>(TrES-2 b, Published Confirmed, &lt;a refstr=O_DONOVAN_ET_AL__2006 href=https://ui.adsabs.harvard.edu/abs/2006ApJ...651L..61O/abstract target=ref&gt; O&#39;Donovan et al. 2006 &lt;/a&gt;, , Some(457.67520), Some(2.47061320), Transit, False, Some(215.3200000), )</code></span></summary><div><table><thead><tr></tr></thead><tbody><tr><td>Item1</td><td>TrES-2 b</td></tr><tr><td>Item2</td><td>Published Confirmed</td></tr><tr><td>Item3</td><td><a refstr=O_DONOVAN_ET_AL__2006 href=https://ui.adsabs.harvard.edu/abs/2006ApJ...651L..61O/abstract target=ref> O'Donovan et al. 2006 </a></td></tr><tr><td>Item4</td><td><div class=\"dni-plaintext\"><pre>&lt;null&gt;</pre></div></td></tr><tr><td>Item5</td><td>Some(457.67520)</td></tr><tr><td>Item6</td><td>Some(2.47061320)</td></tr><tr><td>Item7</td><td>Transit</td></tr><tr><td>Rest</td><td>(False, Some(215.3200000), )</td></tr></tbody></table></div></details></td></tr><tr><td>4</td><td><details class=\"dni-treeview\"><summary><span class=\"dni-code-hint\"><code>(TrES-2 b, Published Confirmed, &lt;a refstr=O_DONOVAN_ET_AL__2006 href=https://ui.adsabs.harvard.edu/abs/2006ApJ...651L..61O/abstract target=ref&gt; O&#39;Donovan et al. 2006 &lt;/a&gt;, , Some(383.30298), Some(2.47061323), Transit, False, Some(215.3200000), )</code></span></summary><div><table><thead><tr></tr></thead><tbody><tr><td>Item1</td><td>TrES-2 b</td></tr><tr><td>Item2</td><td>Published Confirmed</td></tr><tr><td>Item3</td><td><a refstr=O_DONOVAN_ET_AL__2006 href=https://ui.adsabs.harvard.edu/abs/2006ApJ...651L..61O/abstract target=ref> O'Donovan et al. 2006 </a></td></tr><tr><td>Item4</td><td><div class=\"dni-plaintext\"><pre>&lt;null&gt;</pre></div></td></tr><tr><td>Item5</td><td>Some(383.30298)</td></tr><tr><td>Item6</td><td>Some(2.47061323)</td></tr><tr><td>Item7</td><td>Transit</td></tr><tr><td>Rest</td><td>(False, Some(215.3200000), )</td></tr></tbody></table></div></details></td></tr><tr><td>5</td><td><details class=\"dni-treeview\"><summary><span class=\"dni-code-hint\"><code>(TrES-2 b, Published Confirmed, &lt;a refstr=O_DONOVAN_ET_AL__2006 href=https://ui.adsabs.harvard.edu/abs/2006ApJ...651L..61O/abstract target=ref&gt; O&#39;Donovan et al. 2006 &lt;/a&gt;, , Some(380.76034), Some(2.47062100), Transit, False, Some(215.3200000), )</code></span></summary><div><table><thead><tr></tr></thead><tbody><tr><td>Item1</td><td>TrES-2 b</td></tr><tr><td>Item2</td><td>Published Confirmed</td></tr><tr><td>Item3</td><td><a refstr=O_DONOVAN_ET_AL__2006 href=https://ui.adsabs.harvard.edu/abs/2006ApJ...651L..61O/abstract target=ref> O'Donovan et al. 2006 </a></td></tr><tr><td>Item4</td><td><div class=\"dni-plaintext\"><pre>&lt;null&gt;</pre></div></td></tr><tr><td>Item5</td><td>Some(380.76034)</td></tr><tr><td>Item6</td><td>Some(2.47062100)</td></tr><tr><td>Item7</td><td>Transit</td></tr><tr><td>Rest</td><td>(False, Some(215.3200000), )</td></tr></tbody></table></div></details></td></tr><tr><td>6</td><td><details class=\"dni-treeview\"><summary><span class=\"dni-code-hint\"><code>(TrES-2 b, Published Confirmed, &lt;a refstr=O_DONOVAN_ET_AL__2006 href=https://ui.adsabs.harvard.edu/abs/2006ApJ...651L..61O/abstract target=ref&gt; O&#39;Donovan et al. 2006 &lt;/a&gt;, , Some(380.76034), , Transit, False, Some(215.3200000), )</code></span></summary><div><table><thead><tr></tr></thead><tbody><tr><td>Item1</td><td>TrES-2 b</td></tr><tr><td>Item2</td><td>Published Confirmed</td></tr><tr><td>Item3</td><td><a refstr=O_DONOVAN_ET_AL__2006 href=https://ui.adsabs.harvard.edu/abs/2006ApJ...651L..61O/abstract target=ref> O'Donovan et al. 2006 </a></td></tr><tr><td>Item4</td><td><div class=\"dni-plaintext\"><pre>&lt;null&gt;</pre></div></td></tr><tr><td>Item5</td><td>Some(380.76034)</td></tr><tr><td>Item6</td><td><div class=\"dni-plaintext\"><pre>&lt;null&gt;</pre></div></td></tr><tr><td>Item7</td><td>Transit</td></tr><tr><td>Rest</td><td>(False, Some(215.3200000), )</td></tr></tbody></table></div></details></td></tr><tr><td>7</td><td><details class=\"dni-treeview\"><summary><span class=\"dni-code-hint\"><code>(TrES-2 b, Published Confirmed, &lt;a refstr=O_DONOVAN_ET_AL__2006 href=https://ui.adsabs.harvard.edu/abs/2006ApJ...651L..61O/abstract target=ref&gt; O&#39;Donovan et al. 2006 &lt;/a&gt;, , Some(457.67520), Some(2.47061320), Transit, False, Some(215.3200000), )</code></span></summary><div><table><thead><tr></tr></thead><tbody><tr><td>Item1</td><td>TrES-2 b</td></tr><tr><td>Item2</td><td>Published Confirmed</td></tr><tr><td>Item3</td><td><a refstr=O_DONOVAN_ET_AL__2006 href=https://ui.adsabs.harvard.edu/abs/2006ApJ...651L..61O/abstract target=ref> O'Donovan et al. 2006 </a></td></tr><tr><td>Item4</td><td><div class=\"dni-plaintext\"><pre>&lt;null&gt;</pre></div></td></tr><tr><td>Item5</td><td>Some(457.67520)</td></tr><tr><td>Item6</td><td>Some(2.47061320)</td></tr><tr><td>Item7</td><td>Transit</td></tr><tr><td>Rest</td><td>(False, Some(215.3200000), )</td></tr></tbody></table></div></details></td></tr><tr><td>8</td><td><details class=\"dni-treeview\"><summary><span class=\"dni-code-hint\"><code>(TrES-2 b, Published Confirmed, &lt;a refstr=O_DONOVAN_ET_AL__2006 href=https://ui.adsabs.harvard.edu/abs/2006ApJ...651L..61O/abstract target=ref&gt; O&#39;Donovan et al. 2006 &lt;/a&gt;, , , Some(2.47061010), Transit, False, Some(215.3200000), )</code></span></summary><div><table><thead><tr></tr></thead><tbody><tr><td>Item1</td><td>TrES-2 b</td></tr><tr><td>Item2</td><td>Published Confirmed</td></tr><tr><td>Item3</td><td><a refstr=O_DONOVAN_ET_AL__2006 href=https://ui.adsabs.harvard.edu/abs/2006ApJ...651L..61O/abstract target=ref> O'Donovan et al. 2006 </a></td></tr><tr><td>Item4</td><td><div class=\"dni-plaintext\"><pre>&lt;null&gt;</pre></div></td></tr><tr><td>Item5</td><td><div class=\"dni-plaintext\"><pre>&lt;null&gt;</pre></div></td></tr><tr><td>Item6</td><td>Some(2.47061010)</td></tr><tr><td>Item7</td><td>Transit</td></tr><tr><td>Rest</td><td>(False, Some(215.3200000), )</td></tr></tbody></table></div></details></td></tr><tr><td>9</td><td><details class=\"dni-treeview\"><summary><span class=\"dni-code-hint\"><code>(TrES-2 b, Published Confirmed, &lt;a refstr=O_DONOVAN_ET_AL__2006 href=https://ui.adsabs.harvard.edu/abs/2006ApJ...651L..61O/abstract target=ref&gt; O&#39;Donovan et al. 2006 &lt;/a&gt;, , , Some(2.47061340), Transit, False, Some(215.3200000), )</code></span></summary><div><table><thead><tr></tr></thead><tbody><tr><td>Item1</td><td>TrES-2 b</td></tr><tr><td>Item2</td><td>Published Confirmed</td></tr><tr><td>Item3</td><td><a refstr=O_DONOVAN_ET_AL__2006 href=https://ui.adsabs.harvard.edu/abs/2006ApJ...651L..61O/abstract target=ref> O'Donovan et al. 2006 </a></td></tr><tr><td>Item4</td><td><div class=\"dni-plaintext\"><pre>&lt;null&gt;</pre></div></td></tr><tr><td>Item5</td><td><div class=\"dni-plaintext\"><pre>&lt;null&gt;</pre></div></td></tr><tr><td>Item6</td><td>Some(2.47061340)</td></tr><tr><td>Item7</td><td>Transit</td></tr><tr><td>Rest</td><td>(False, Some(215.3200000), )</td></tr></tbody></table></div></details></td></tr><tr><td>10</td><td><details class=\"dni-treeview\"><summary><span class=\"dni-code-hint\"><code>(TrES-2 b, Published Confirmed, &lt;a refstr=O_DONOVAN_ET_AL__2006 href=https://ui.adsabs.harvard.edu/abs/2006ApJ...651L..61O/abstract target=ref&gt; O&#39;Donovan et al. 2006 &lt;/a&gt;, , Some(382.03166), Some(2.47061892), Transit, False, Some(215.3200000), )</code></span></summary><div><table><thead><tr></tr></thead><tbody><tr><td>Item1</td><td>TrES-2 b</td></tr><tr><td>Item2</td><td>Published Confirmed</td></tr><tr><td>Item3</td><td><a refstr=O_DONOVAN_ET_AL__2006 href=https://ui.adsabs.harvard.edu/abs/2006ApJ...651L..61O/abstract target=ref> O'Donovan et al. 2006 </a></td></tr><tr><td>Item4</td><td><div class=\"dni-plaintext\"><pre>&lt;null&gt;</pre></div></td></tr><tr><td>Item5</td><td>Some(382.03166)</td></tr><tr><td>Item6</td><td>Some(2.47061892)</td></tr><tr><td>Item7</td><td>Transit</td></tr><tr><td>Rest</td><td>(False, Some(215.3200000), )</td></tr></tbody></table></div></details></td></tr><tr><td>11</td><td><details class=\"dni-treeview\"><summary><span class=\"dni-code-hint\"><code>(TrES-2 b, Published Confirmed, &lt;a refstr=O_DONOVAN_ET_AL__2006 href=https://ui.adsabs.harvard.edu/abs/2006ApJ...651L..61O/abstract target=ref&gt; O&#39;Donovan et al. 2006 &lt;/a&gt;, , , Some(2.47061337), Transit, False, Some(215.3200000), )</code></span></summary><div><table><thead><tr></tr></thead><tbody><tr><td>Item1</td><td>TrES-2 b</td></tr><tr><td>Item2</td><td>Published Confirmed</td></tr><tr><td>Item3</td><td><a refstr=O_DONOVAN_ET_AL__2006 href=https://ui.adsabs.harvard.edu/abs/2006ApJ...651L..61O/abstract target=ref> O'Donovan et al. 2006 </a></td></tr><tr><td>Item4</td><td><div class=\"dni-plaintext\"><pre>&lt;null&gt;</pre></div></td></tr><tr><td>Item5</td><td><div class=\"dni-plaintext\"><pre>&lt;null&gt;</pre></div></td></tr><tr><td>Item6</td><td>Some(2.47061337)</td></tr><tr><td>Item7</td><td>Transit</td></tr><tr><td>Rest</td><td>(False, Some(215.3200000), )</td></tr></tbody></table></div></details></td></tr><tr><td>12</td><td><details class=\"dni-treeview\"><summary><span class=\"dni-code-hint\"><code>(TrES-2 b, Published Confirmed, &lt;a refstr=O_DONOVAN_ET_AL__2006 href=https://ui.adsabs.harvard.edu/abs/2006ApJ...651L..61O/abstract target=ref&gt; O&#39;Donovan et al. 2006 &lt;/a&gt;, , Some(380.74400), Some(2.47061344), Transit, False, Some(215.3200000), )</code></span></summary><div><table><thead><tr></tr></thead><tbody><tr><td>Item1</td><td>TrES-2 b</td></tr><tr><td>Item2</td><td>Published Confirmed</td></tr><tr><td>Item3</td><td><a refstr=O_DONOVAN_ET_AL__2006 href=https://ui.adsabs.harvard.edu/abs/2006ApJ...651L..61O/abstract target=ref> O'Donovan et al. 2006 </a></td></tr><tr><td>Item4</td><td><div class=\"dni-plaintext\"><pre>&lt;null&gt;</pre></div></td></tr><tr><td>Item5</td><td>Some(380.74400)</td></tr><tr><td>Item6</td><td>Some(2.47061344)</td></tr><tr><td>Item7</td><td>Transit</td></tr><tr><td>Rest</td><td>(False, Some(215.3200000), )</td></tr></tbody></table></div></details></td></tr><tr><td>13</td><td><details class=\"dni-treeview\"><summary><span class=\"dni-code-hint\"><code>(TrES-2 b, Published Confirmed, &lt;a refstr=O_DONOVAN_ET_AL__2006 href=https://ui.adsabs.harvard.edu/abs/2006ApJ...651L..61O/abstract target=ref&gt; O&#39;Donovan et al. 2006 &lt;/a&gt;, , Some(398.24099), Some(2.47061010), Transit, False, Some(215.3200000), )</code></span></summary><div><table><thead><tr></tr></thead><tbody><tr><td>Item1</td><td>TrES-2 b</td></tr><tr><td>Item2</td><td>Published Confirmed</td></tr><tr><td>Item3</td><td><a refstr=O_DONOVAN_ET_AL__2006 href=https://ui.adsabs.harvard.edu/abs/2006ApJ...651L..61O/abstract target=ref> O'Donovan et al. 2006 </a></td></tr><tr><td>Item4</td><td><div class=\"dni-plaintext\"><pre>&lt;null&gt;</pre></div></td></tr><tr><td>Item5</td><td>Some(398.24099)</td></tr><tr><td>Item6</td><td>Some(2.47061010)</td></tr><tr><td>Item7</td><td>Transit</td></tr><tr><td>Rest</td><td>(False, Some(215.3200000), )</td></tr></tbody></table></div></details></td></tr><tr><td>14</td><td><details class=\"dni-treeview\"><summary><span class=\"dni-code-hint\"><code>(TrES-2 b, Published Confirmed, &lt;a refstr=O_DONOVAN_ET_AL__2006 href=https://ui.adsabs.harvard.edu/abs/2006ApJ...651L..61O/abstract target=ref&gt; O&#39;Donovan et al. 2006 &lt;/a&gt;, , Some(367.72931), , Transit, False, Some(215.3200000), )</code></span></summary><div><table><thead><tr></tr></thead><tbody><tr><td>Item1</td><td>TrES-2 b</td></tr><tr><td>Item2</td><td>Published Confirmed</td></tr><tr><td>Item3</td><td><a refstr=O_DONOVAN_ET_AL__2006 href=https://ui.adsabs.harvard.edu/abs/2006ApJ...651L..61O/abstract target=ref> O'Donovan et al. 2006 </a></td></tr><tr><td>Item4</td><td><div class=\"dni-plaintext\"><pre>&lt;null&gt;</pre></div></td></tr><tr><td>Item5</td><td>Some(367.72931)</td></tr><tr><td>Item6</td><td><div class=\"dni-plaintext\"><pre>&lt;null&gt;</pre></div></td></tr><tr><td>Item7</td><td>Transit</td></tr><tr><td>Rest</td><td>(False, Some(215.3200000), )</td></tr></tbody></table></div></details></td></tr><tr><td>15</td><td><details class=\"dni-treeview\"><summary><span class=\"dni-code-hint\"><code>(TrES-2 b, Published Confirmed, &lt;a refstr=O_DONOVAN_ET_AL__2006 href=https://ui.adsabs.harvard.edu/abs/2006ApJ...651L..61O/abstract target=ref&gt; O&#39;Donovan et al. 2006 &lt;/a&gt;, , Some(380.76034), Some(2.47062100), Transit, False, Some(215.3200000), )</code></span></summary><div><table><thead><tr></tr></thead><tbody><tr><td>Item1</td><td>TrES-2 b</td></tr><tr><td>Item2</td><td>Published Confirmed</td></tr><tr><td>Item3</td><td><a refstr=O_DONOVAN_ET_AL__2006 href=https://ui.adsabs.harvard.edu/abs/2006ApJ...651L..61O/abstract target=ref> O'Donovan et al. 2006 </a></td></tr><tr><td>Item4</td><td><div class=\"dni-plaintext\"><pre>&lt;null&gt;</pre></div></td></tr><tr><td>Item5</td><td>Some(380.76034)</td></tr><tr><td>Item6</td><td>Some(2.47062100)</td></tr><tr><td>Item7</td><td>Transit</td></tr><tr><td>Rest</td><td>(False, Some(215.3200000), )</td></tr></tbody></table></div></details></td></tr><tr><td>16</td><td><details class=\"dni-treeview\"><summary><span class=\"dni-code-hint\"><code>(TrES-2 b, Published Confirmed, &lt;a refstr=O_DONOVAN_ET_AL__2006 href=https://ui.adsabs.harvard.edu/abs/2006ApJ...651L..61O/abstract target=ref&gt; O&#39;Donovan et al. 2006 &lt;/a&gt;, , Some(406.82240), Some(2.47063000), Transit, False, Some(215.3200000), )</code></span></summary><div><table><thead><tr></tr></thead><tbody><tr><td>Item1</td><td>TrES-2 b</td></tr><tr><td>Item2</td><td>Published Confirmed</td></tr><tr><td>Item3</td><td><a refstr=O_DONOVAN_ET_AL__2006 href=https://ui.adsabs.harvard.edu/abs/2006ApJ...651L..61O/abstract target=ref> O'Donovan et al. 2006 </a></td></tr><tr><td>Item4</td><td><div class=\"dni-plaintext\"><pre>&lt;null&gt;</pre></div></td></tr><tr><td>Item5</td><td>Some(406.82240)</td></tr><tr><td>Item6</td><td>Some(2.47063000)</td></tr><tr><td>Item7</td><td>Transit</td></tr><tr><td>Rest</td><td>(False, Some(215.3200000), )</td></tr></tbody></table></div></details></td></tr><tr><td>17</td><td><details class=\"dni-treeview\"><summary><span class=\"dni-code-hint\"><code>(TrES-2 b, Published Confirmed, &lt;a refstr=O_DONOVAN_ET_AL__2006 href=https://ui.adsabs.harvard.edu/abs/2006ApJ...651L..61O/abstract target=ref&gt; O&#39;Donovan et al. 2006 &lt;/a&gt;, , , Some(2.47061339), Transit, False, Some(215.3200000), )</code></span></summary><div><table><thead><tr></tr></thead><tbody><tr><td>Item1</td><td>TrES-2 b</td></tr><tr><td>Item2</td><td>Published Confirmed</td></tr><tr><td>Item3</td><td><a refstr=O_DONOVAN_ET_AL__2006 href=https://ui.adsabs.harvard.edu/abs/2006ApJ...651L..61O/abstract target=ref> O'Donovan et al. 2006 </a></td></tr><tr><td>Item4</td><td><div class=\"dni-plaintext\"><pre>&lt;null&gt;</pre></div></td></tr><tr><td>Item5</td><td><div class=\"dni-plaintext\"><pre>&lt;null&gt;</pre></div></td></tr><tr><td>Item6</td><td>Some(2.47061339)</td></tr><tr><td>Item7</td><td>Transit</td></tr><tr><td>Rest</td><td>(False, Some(215.3200000), )</td></tr></tbody></table></div></details></td></tr><tr><td>18</td><td><details class=\"dni-treeview\"><summary><span class=\"dni-code-hint\"><code>(TrES-2 b, Published Confirmed, &lt;a refstr=O_DONOVAN_ET_AL__2006 href=https://ui.adsabs.harvard.edu/abs/2006ApJ...651L..61O/abstract target=ref&gt; O&#39;Donovan et al. 2006 &lt;/a&gt;, , , Some(2.47061338), Transit, False, Some(215.3200000), )</code></span></summary><div><table><thead><tr></tr></thead><tbody><tr><td>Item1</td><td>TrES-2 b</td></tr><tr><td>Item2</td><td>Published Confirmed</td></tr><tr><td>Item3</td><td><a refstr=O_DONOVAN_ET_AL__2006 href=https://ui.adsabs.harvard.edu/abs/2006ApJ...651L..61O/abstract target=ref> O'Donovan et al. 2006 </a></td></tr><tr><td>Item4</td><td><div class=\"dni-plaintext\"><pre>&lt;null&gt;</pre></div></td></tr><tr><td>Item5</td><td><div class=\"dni-plaintext\"><pre>&lt;null&gt;</pre></div></td></tr><tr><td>Item6</td><td>Some(2.47061338)</td></tr><tr><td>Item7</td><td>Transit</td></tr><tr><td>Rest</td><td>(False, Some(215.3200000), )</td></tr></tbody></table></div></details></td></tr><tr><td>19</td><td><details class=\"dni-treeview\"><summary><span class=\"dni-code-hint\"><code>(TrES-2 b, Published Confirmed, &lt;a refstr=O_DONOVAN_ET_AL__2006 href=https://ui.adsabs.harvard.edu/abs/2006ApJ...651L..61O/abstract target=ref&gt; O&#39;Donovan et al. 2006 &lt;/a&gt;, , , Some(2.47061350), Transit, False, Some(215.3200000), )</code></span></summary><div><table><thead><tr></tr></thead><tbody><tr><td>Item1</td><td>TrES-2 b</td></tr><tr><td>Item2</td><td>Published Confirmed</td></tr><tr><td>Item3</td><td><a refstr=O_DONOVAN_ET_AL__2006 href=https://ui.adsabs.harvard.edu/abs/2006ApJ...651L..61O/abstract target=ref> O'Donovan et al. 2006 </a></td></tr><tr><td>Item4</td><td><div class=\"dni-plaintext\"><pre>&lt;null&gt;</pre></div></td></tr><tr><td>Item5</td><td><div class=\"dni-plaintext\"><pre>&lt;null&gt;</pre></div></td></tr><tr><td>Item6</td><td>Some(2.47061350)</td></tr><tr><td>Item7</td><td>Transit</td></tr><tr><td>Rest</td><td>(False, Some(215.3200000), )</td></tr></tbody></table></div></details></td></tr><tr><td colspan=\"2\"><i>(5 more)</i></td></tr></tbody></table></td></tr></tbody></table></div></details></td></tr><tr><td><i>(values)</i></td><td><table><thead><tr><th><i>index</i></th><th>value</th></tr></thead><tbody><tr><td>0</td><td><details class=\"dni-treeview\"><summary><span class=\"dni-code-hint\"><code>(TrES-2 b, Published Confirmed, &lt;a refstr=O_DONOVAN_ET_AL__2006 href=https://ui.adsabs.harvard.edu/abs/2006ApJ...651L..61O/abstract target=ref&gt; O&#39;Donovan et al. 2006 &lt;/a&gt;, , Some(381.39600), Some(2.47063000), Transit, False, Some(215.3200000), )</code></span></summary><div><table><thead><tr></tr></thead><tbody><tr><td>Item1</td><td><div class=\"dni-plaintext\"><pre>TrES-2 b</pre></div></td></tr><tr><td>Item2</td><td><div class=\"dni-plaintext\"><pre>Published Confirmed</pre></div></td></tr><tr><td>Item3</td><td><div class=\"dni-plaintext\"><pre>&lt;a refstr=O_DONOVAN_ET_AL__2006 href=https://ui.adsabs.harvard.edu/abs/2006ApJ...651L..61O/abstract target=ref&gt; O&#39;Donovan et al. 2006 &lt;/a&gt;</pre></div></td></tr><tr><td>Item4</td><td><div class=\"dni-plaintext\"><pre>&lt;null&gt;</pre></div></td></tr><tr><td>Item5</td><td><details class=\"dni-treeview\"><summary><span class=\"dni-code-hint\"><code>Some(381.39600)</code></span></summary><div><table><thead><tr></tr></thead><tbody><tr><td>Value</td><td><div class=\"dni-plaintext\"><pre>381.39600</pre></div></td></tr></tbody></table></div></details></td></tr><tr><td>Item6</td><td><details class=\"dni-treeview\"><summary><span class=\"dni-code-hint\"><code>Some(2.47063000)</code></span></summary><div><table><thead><tr></tr></thead><tbody><tr><td>Value</td><td><div class=\"dni-plaintext\"><pre>2.47063000</pre></div></td></tr></tbody></table></div></details></td></tr><tr><td>Item7</td><td><div class=\"dni-plaintext\"><pre>Transit</pre></div></td></tr><tr><td>Rest</td><td><details class=\"dni-treeview\"><summary><span class=\"dni-code-hint\"><code>(False, Some(215.3200000), )</code></span></summary><div><table><thead><tr></tr></thead><tbody><tr><td>Item1</td><td><div class=\"dni-plaintext\"><pre>False</pre></div></td></tr><tr><td>Item2</td><td><details class=\"dni-treeview\"><summary><span class=\"dni-code-hint\"><code>Some(215.3200000)</code></span></summary><div><table><thead><tr></tr></thead><tbody><tr><td>Value</td><td>215.3200000</td></tr></tbody></table></div></details></td></tr><tr><td>Item3</td><td><div class=\"dni-plaintext\"><pre>&lt;null&gt;</pre></div></td></tr></tbody></table></div></details></td></tr></tbody></table></div></details></td></tr><tr><td>1</td><td><details class=\"dni-treeview\"><summary><span class=\"dni-code-hint\"><code>(TrES-2 b, Published Confirmed, &lt;a refstr=O_DONOVAN_ET_AL__2006 href=https://ui.adsabs.harvard.edu/abs/2006ApJ...651L..61O/abstract target=ref&gt; O&#39;Donovan et al. 2006 &lt;/a&gt;, , Some(381.10000), Some(2.47063000), Transit, False, Some(215.3200000), )</code></span></summary><div><table><thead><tr></tr></thead><tbody><tr><td>Item1</td><td><div class=\"dni-plaintext\"><pre>TrES-2 b</pre></div></td></tr><tr><td>Item2</td><td><div class=\"dni-plaintext\"><pre>Published Confirmed</pre></div></td></tr><tr><td>Item3</td><td><div class=\"dni-plaintext\"><pre>&lt;a refstr=O_DONOVAN_ET_AL__2006 href=https://ui.adsabs.harvard.edu/abs/2006ApJ...651L..61O/abstract target=ref&gt; O&#39;Donovan et al. 2006 &lt;/a&gt;</pre></div></td></tr><tr><td>Item4</td><td><div class=\"dni-plaintext\"><pre>&lt;null&gt;</pre></div></td></tr><tr><td>Item5</td><td><details class=\"dni-treeview\"><summary><span class=\"dni-code-hint\"><code>Some(381.10000)</code></span></summary><div><table><thead><tr></tr></thead><tbody><tr><td>Value</td><td><div class=\"dni-plaintext\"><pre>381.10000</pre></div></td></tr></tbody></table></div></details></td></tr><tr><td>Item6</td><td><details class=\"dni-treeview\"><summary><span class=\"dni-code-hint\"><code>Some(2.47063000)</code></span></summary><div><table><thead><tr></tr></thead><tbody><tr><td>Value</td><td><div class=\"dni-plaintext\"><pre>2.47063000</pre></div></td></tr></tbody></table></div></details></td></tr><tr><td>Item7</td><td><div class=\"dni-plaintext\"><pre>Transit</pre></div></td></tr><tr><td>Rest</td><td><details class=\"dni-treeview\"><summary><span class=\"dni-code-hint\"><code>(False, Some(215.3200000), )</code></span></summary><div><table><thead><tr></tr></thead><tbody><tr><td>Item1</td><td><div class=\"dni-plaintext\"><pre>False</pre></div></td></tr><tr><td>Item2</td><td><details class=\"dni-treeview\"><summary><span class=\"dni-code-hint\"><code>Some(215.3200000)</code></span></summary><div><table><thead><tr></tr></thead><tbody><tr><td>Value</td><td>215.3200000</td></tr></tbody></table></div></details></td></tr><tr><td>Item3</td><td><div class=\"dni-plaintext\"><pre>&lt;null&gt;</pre></div></td></tr></tbody></table></div></details></td></tr></tbody></table></div></details></td></tr><tr><td>2</td><td><details class=\"dni-treeview\"><summary><span class=\"dni-code-hint\"><code>(TrES-2 b, Published Confirmed, &lt;a refstr=O_DONOVAN_ET_AL__2006 href=https://ui.adsabs.harvard.edu/abs/2006ApJ...651L..61O/abstract target=ref&gt; O&#39;Donovan et al. 2006 &lt;/a&gt;, , Some(380.44251), Some(2.47061317), Transit, False, Some(215.3200000), )</code></span></summary><div><table><thead><tr></tr></thead><tbody><tr><td>Item1</td><td><div class=\"dni-plaintext\"><pre>TrES-2 b</pre></div></td></tr><tr><td>Item2</td><td><div class=\"dni-plaintext\"><pre>Published Confirmed</pre></div></td></tr><tr><td>Item3</td><td><div class=\"dni-plaintext\"><pre>&lt;a refstr=O_DONOVAN_ET_AL__2006 href=https://ui.adsabs.harvard.edu/abs/2006ApJ...651L..61O/abstract target=ref&gt; O&#39;Donovan et al. 2006 &lt;/a&gt;</pre></div></td></tr><tr><td>Item4</td><td><div class=\"dni-plaintext\"><pre>&lt;null&gt;</pre></div></td></tr><tr><td>Item5</td><td><details class=\"dni-treeview\"><summary><span class=\"dni-code-hint\"><code>Some(380.44251)</code></span></summary><div><table><thead><tr></tr></thead><tbody><tr><td>Value</td><td><div class=\"dni-plaintext\"><pre>380.44251</pre></div></td></tr></tbody></table></div></details></td></tr><tr><td>Item6</td><td><details class=\"dni-treeview\"><summary><span class=\"dni-code-hint\"><code>Some(2.47061317)</code></span></summary><div><table><thead><tr></tr></thead><tbody><tr><td>Value</td><td><div class=\"dni-plaintext\"><pre>2.47061317</pre></div></td></tr></tbody></table></div></details></td></tr><tr><td>Item7</td><td><div class=\"dni-plaintext\"><pre>Transit</pre></div></td></tr><tr><td>Rest</td><td><details class=\"dni-treeview\"><summary><span class=\"dni-code-hint\"><code>(False, Some(215.3200000), )</code></span></summary><div><table><thead><tr></tr></thead><tbody><tr><td>Item1</td><td><div class=\"dni-plaintext\"><pre>False</pre></div></td></tr><tr><td>Item2</td><td><details class=\"dni-treeview\"><summary><span class=\"dni-code-hint\"><code>Some(215.3200000)</code></span></summary><div><table><thead><tr></tr></thead><tbody><tr><td>Value</td><td>215.3200000</td></tr></tbody></table></div></details></td></tr><tr><td>Item3</td><td><div class=\"dni-plaintext\"><pre>&lt;null&gt;</pre></div></td></tr></tbody></table></div></details></td></tr></tbody></table></div></details></td></tr><tr><td>3</td><td><details class=\"dni-treeview\"><summary><span class=\"dni-code-hint\"><code>(TrES-2 b, Published Confirmed, &lt;a refstr=O_DONOVAN_ET_AL__2006 href=https://ui.adsabs.harvard.edu/abs/2006ApJ...651L..61O/abstract target=ref&gt; O&#39;Donovan et al. 2006 &lt;/a&gt;, , Some(457.67520), Some(2.47061320), Transit, False, Some(215.3200000), )</code></span></summary><div><table><thead><tr></tr></thead><tbody><tr><td>Item1</td><td><div class=\"dni-plaintext\"><pre>TrES-2 b</pre></div></td></tr><tr><td>Item2</td><td><div class=\"dni-plaintext\"><pre>Published Confirmed</pre></div></td></tr><tr><td>Item3</td><td><div class=\"dni-plaintext\"><pre>&lt;a refstr=O_DONOVAN_ET_AL__2006 href=https://ui.adsabs.harvard.edu/abs/2006ApJ...651L..61O/abstract target=ref&gt; O&#39;Donovan et al. 2006 &lt;/a&gt;</pre></div></td></tr><tr><td>Item4</td><td><div class=\"dni-plaintext\"><pre>&lt;null&gt;</pre></div></td></tr><tr><td>Item5</td><td><details class=\"dni-treeview\"><summary><span class=\"dni-code-hint\"><code>Some(457.67520)</code></span></summary><div><table><thead><tr></tr></thead><tbody><tr><td>Value</td><td><div class=\"dni-plaintext\"><pre>457.67520</pre></div></td></tr></tbody></table></div></details></td></tr><tr><td>Item6</td><td><details class=\"dni-treeview\"><summary><span class=\"dni-code-hint\"><code>Some(2.47061320)</code></span></summary><div><table><thead><tr></tr></thead><tbody><tr><td>Value</td><td><div class=\"dni-plaintext\"><pre>2.47061320</pre></div></td></tr></tbody></table></div></details></td></tr><tr><td>Item7</td><td><div class=\"dni-plaintext\"><pre>Transit</pre></div></td></tr><tr><td>Rest</td><td><details class=\"dni-treeview\"><summary><span class=\"dni-code-hint\"><code>(False, Some(215.3200000), )</code></span></summary><div><table><thead><tr></tr></thead><tbody><tr><td>Item1</td><td><div class=\"dni-plaintext\"><pre>False</pre></div></td></tr><tr><td>Item2</td><td><details class=\"dni-treeview\"><summary><span class=\"dni-code-hint\"><code>Some(215.3200000)</code></span></summary><div><table><thead><tr></tr></thead><tbody><tr><td>Value</td><td>215.3200000</td></tr></tbody></table></div></details></td></tr><tr><td>Item3</td><td><div class=\"dni-plaintext\"><pre>&lt;null&gt;</pre></div></td></tr></tbody></table></div></details></td></tr></tbody></table></div></details></td></tr><tr><td>4</td><td><details class=\"dni-treeview\"><summary><span class=\"dni-code-hint\"><code>(TrES-2 b, Published Confirmed, &lt;a refstr=O_DONOVAN_ET_AL__2006 href=https://ui.adsabs.harvard.edu/abs/2006ApJ...651L..61O/abstract target=ref&gt; O&#39;Donovan et al. 2006 &lt;/a&gt;, , Some(383.30298), Some(2.47061323), Transit, False, Some(215.3200000), )</code></span></summary><div><table><thead><tr></tr></thead><tbody><tr><td>Item1</td><td><div class=\"dni-plaintext\"><pre>TrES-2 b</pre></div></td></tr><tr><td>Item2</td><td><div class=\"dni-plaintext\"><pre>Published Confirmed</pre></div></td></tr><tr><td>Item3</td><td><div class=\"dni-plaintext\"><pre>&lt;a refstr=O_DONOVAN_ET_AL__2006 href=https://ui.adsabs.harvard.edu/abs/2006ApJ...651L..61O/abstract target=ref&gt; O&#39;Donovan et al. 2006 &lt;/a&gt;</pre></div></td></tr><tr><td>Item4</td><td><div class=\"dni-plaintext\"><pre>&lt;null&gt;</pre></div></td></tr><tr><td>Item5</td><td><details class=\"dni-treeview\"><summary><span class=\"dni-code-hint\"><code>Some(383.30298)</code></span></summary><div><table><thead><tr></tr></thead><tbody><tr><td>Value</td><td><div class=\"dni-plaintext\"><pre>383.30298</pre></div></td></tr></tbody></table></div></details></td></tr><tr><td>Item6</td><td><details class=\"dni-treeview\"><summary><span class=\"dni-code-hint\"><code>Some(2.47061323)</code></span></summary><div><table><thead><tr></tr></thead><tbody><tr><td>Value</td><td><div class=\"dni-plaintext\"><pre>2.47061323</pre></div></td></tr></tbody></table></div></details></td></tr><tr><td>Item7</td><td><div class=\"dni-plaintext\"><pre>Transit</pre></div></td></tr><tr><td>Rest</td><td><details class=\"dni-treeview\"><summary><span class=\"dni-code-hint\"><code>(False, Some(215.3200000), )</code></span></summary><div><table><thead><tr></tr></thead><tbody><tr><td>Item1</td><td><div class=\"dni-plaintext\"><pre>False</pre></div></td></tr><tr><td>Item2</td><td><details class=\"dni-treeview\"><summary><span class=\"dni-code-hint\"><code>Some(215.3200000)</code></span></summary><div><table><thead><tr></tr></thead><tbody><tr><td>Value</td><td>215.3200000</td></tr></tbody></table></div></details></td></tr><tr><td>Item3</td><td><div class=\"dni-plaintext\"><pre>&lt;null&gt;</pre></div></td></tr></tbody></table></div></details></td></tr></tbody></table></div></details></td></tr><tr><td>5</td><td><details class=\"dni-treeview\"><summary><span class=\"dni-code-hint\"><code>(TrES-2 b, Published Confirmed, &lt;a refstr=O_DONOVAN_ET_AL__2006 href=https://ui.adsabs.harvard.edu/abs/2006ApJ...651L..61O/abstract target=ref&gt; O&#39;Donovan et al. 2006 &lt;/a&gt;, , Some(380.76034), Some(2.47062100), Transit, False, Some(215.3200000), )</code></span></summary><div><table><thead><tr></tr></thead><tbody><tr><td>Item1</td><td><div class=\"dni-plaintext\"><pre>TrES-2 b</pre></div></td></tr><tr><td>Item2</td><td><div class=\"dni-plaintext\"><pre>Published Confirmed</pre></div></td></tr><tr><td>Item3</td><td><div class=\"dni-plaintext\"><pre>&lt;a refstr=O_DONOVAN_ET_AL__2006 href=https://ui.adsabs.harvard.edu/abs/2006ApJ...651L..61O/abstract target=ref&gt; O&#39;Donovan et al. 2006 &lt;/a&gt;</pre></div></td></tr><tr><td>Item4</td><td><div class=\"dni-plaintext\"><pre>&lt;null&gt;</pre></div></td></tr><tr><td>Item5</td><td><details class=\"dni-treeview\"><summary><span class=\"dni-code-hint\"><code>Some(380.76034)</code></span></summary><div><table><thead><tr></tr></thead><tbody><tr><td>Value</td><td><div class=\"dni-plaintext\"><pre>380.76034</pre></div></td></tr></tbody></table></div></details></td></tr><tr><td>Item6</td><td><details class=\"dni-treeview\"><summary><span class=\"dni-code-hint\"><code>Some(2.47062100)</code></span></summary><div><table><thead><tr></tr></thead><tbody><tr><td>Value</td><td><div class=\"dni-plaintext\"><pre>2.47062100</pre></div></td></tr></tbody></table></div></details></td></tr><tr><td>Item7</td><td><div class=\"dni-plaintext\"><pre>Transit</pre></div></td></tr><tr><td>Rest</td><td><details class=\"dni-treeview\"><summary><span class=\"dni-code-hint\"><code>(False, Some(215.3200000), )</code></span></summary><div><table><thead><tr></tr></thead><tbody><tr><td>Item1</td><td><div class=\"dni-plaintext\"><pre>False</pre></div></td></tr><tr><td>Item2</td><td><details class=\"dni-treeview\"><summary><span class=\"dni-code-hint\"><code>Some(215.3200000)</code></span></summary><div><table><thead><tr></tr></thead><tbody><tr><td>Value</td><td>215.3200000</td></tr></tbody></table></div></details></td></tr><tr><td>Item3</td><td><div class=\"dni-plaintext\"><pre>&lt;null&gt;</pre></div></td></tr></tbody></table></div></details></td></tr></tbody></table></div></details></td></tr><tr><td>6</td><td><details class=\"dni-treeview\"><summary><span class=\"dni-code-hint\"><code>(TrES-2 b, Published Confirmed, &lt;a refstr=O_DONOVAN_ET_AL__2006 href=https://ui.adsabs.harvard.edu/abs/2006ApJ...651L..61O/abstract target=ref&gt; O&#39;Donovan et al. 2006 &lt;/a&gt;, , Some(380.76034), , Transit, False, Some(215.3200000), )</code></span></summary><div><table><thead><tr></tr></thead><tbody><tr><td>Item1</td><td><div class=\"dni-plaintext\"><pre>TrES-2 b</pre></div></td></tr><tr><td>Item2</td><td><div class=\"dni-plaintext\"><pre>Published Confirmed</pre></div></td></tr><tr><td>Item3</td><td><div class=\"dni-plaintext\"><pre>&lt;a refstr=O_DONOVAN_ET_AL__2006 href=https://ui.adsabs.harvard.edu/abs/2006ApJ...651L..61O/abstract target=ref&gt; O&#39;Donovan et al. 2006 &lt;/a&gt;</pre></div></td></tr><tr><td>Item4</td><td><div class=\"dni-plaintext\"><pre>&lt;null&gt;</pre></div></td></tr><tr><td>Item5</td><td><details class=\"dni-treeview\"><summary><span class=\"dni-code-hint\"><code>Some(380.76034)</code></span></summary><div><table><thead><tr></tr></thead><tbody><tr><td>Value</td><td><div class=\"dni-plaintext\"><pre>380.76034</pre></div></td></tr></tbody></table></div></details></td></tr><tr><td>Item6</td><td><div class=\"dni-plaintext\"><pre>&lt;null&gt;</pre></div></td></tr><tr><td>Item7</td><td><div class=\"dni-plaintext\"><pre>Transit</pre></div></td></tr><tr><td>Rest</td><td><details class=\"dni-treeview\"><summary><span class=\"dni-code-hint\"><code>(False, Some(215.3200000), )</code></span></summary><div><table><thead><tr></tr></thead><tbody><tr><td>Item1</td><td><div class=\"dni-plaintext\"><pre>False</pre></div></td></tr><tr><td>Item2</td><td><details class=\"dni-treeview\"><summary><span class=\"dni-code-hint\"><code>Some(215.3200000)</code></span></summary><div><table><thead><tr></tr></thead><tbody><tr><td>Value</td><td>215.3200000</td></tr></tbody></table></div></details></td></tr><tr><td>Item3</td><td><div class=\"dni-plaintext\"><pre>&lt;null&gt;</pre></div></td></tr></tbody></table></div></details></td></tr></tbody></table></div></details></td></tr><tr><td>7</td><td><details class=\"dni-treeview\"><summary><span class=\"dni-code-hint\"><code>(TrES-2 b, Published Confirmed, &lt;a refstr=O_DONOVAN_ET_AL__2006 href=https://ui.adsabs.harvard.edu/abs/2006ApJ...651L..61O/abstract target=ref&gt; O&#39;Donovan et al. 2006 &lt;/a&gt;, , Some(457.67520), Some(2.47061320), Transit, False, Some(215.3200000), )</code></span></summary><div><table><thead><tr></tr></thead><tbody><tr><td>Item1</td><td><div class=\"dni-plaintext\"><pre>TrES-2 b</pre></div></td></tr><tr><td>Item2</td><td><div class=\"dni-plaintext\"><pre>Published Confirmed</pre></div></td></tr><tr><td>Item3</td><td><div class=\"dni-plaintext\"><pre>&lt;a refstr=O_DONOVAN_ET_AL__2006 href=https://ui.adsabs.harvard.edu/abs/2006ApJ...651L..61O/abstract target=ref&gt; O&#39;Donovan et al. 2006 &lt;/a&gt;</pre></div></td></tr><tr><td>Item4</td><td><div class=\"dni-plaintext\"><pre>&lt;null&gt;</pre></div></td></tr><tr><td>Item5</td><td><details class=\"dni-treeview\"><summary><span class=\"dni-code-hint\"><code>Some(457.67520)</code></span></summary><div><table><thead><tr></tr></thead><tbody><tr><td>Value</td><td><div class=\"dni-plaintext\"><pre>457.67520</pre></div></td></tr></tbody></table></div></details></td></tr><tr><td>Item6</td><td><details class=\"dni-treeview\"><summary><span class=\"dni-code-hint\"><code>Some(2.47061320)</code></span></summary><div><table><thead><tr></tr></thead><tbody><tr><td>Value</td><td><div class=\"dni-plaintext\"><pre>2.47061320</pre></div></td></tr></tbody></table></div></details></td></tr><tr><td>Item7</td><td><div class=\"dni-plaintext\"><pre>Transit</pre></div></td></tr><tr><td>Rest</td><td><details class=\"dni-treeview\"><summary><span class=\"dni-code-hint\"><code>(False, Some(215.3200000), )</code></span></summary><div><table><thead><tr></tr></thead><tbody><tr><td>Item1</td><td><div class=\"dni-plaintext\"><pre>False</pre></div></td></tr><tr><td>Item2</td><td><details class=\"dni-treeview\"><summary><span class=\"dni-code-hint\"><code>Some(215.3200000)</code></span></summary><div><table><thead><tr></tr></thead><tbody><tr><td>Value</td><td>215.3200000</td></tr></tbody></table></div></details></td></tr><tr><td>Item3</td><td><div class=\"dni-plaintext\"><pre>&lt;null&gt;</pre></div></td></tr></tbody></table></div></details></td></tr></tbody></table></div></details></td></tr><tr><td>8</td><td><details class=\"dni-treeview\"><summary><span class=\"dni-code-hint\"><code>(TrES-2 b, Published Confirmed, &lt;a refstr=O_DONOVAN_ET_AL__2006 href=https://ui.adsabs.harvard.edu/abs/2006ApJ...651L..61O/abstract target=ref&gt; O&#39;Donovan et al. 2006 &lt;/a&gt;, , , Some(2.47061010), Transit, False, Some(215.3200000), )</code></span></summary><div><table><thead><tr></tr></thead><tbody><tr><td>Item1</td><td><div class=\"dni-plaintext\"><pre>TrES-2 b</pre></div></td></tr><tr><td>Item2</td><td><div class=\"dni-plaintext\"><pre>Published Confirmed</pre></div></td></tr><tr><td>Item3</td><td><div class=\"dni-plaintext\"><pre>&lt;a refstr=O_DONOVAN_ET_AL__2006 href=https://ui.adsabs.harvard.edu/abs/2006ApJ...651L..61O/abstract target=ref&gt; O&#39;Donovan et al. 2006 &lt;/a&gt;</pre></div></td></tr><tr><td>Item4</td><td><div class=\"dni-plaintext\"><pre>&lt;null&gt;</pre></div></td></tr><tr><td>Item5</td><td><div class=\"dni-plaintext\"><pre>&lt;null&gt;</pre></div></td></tr><tr><td>Item6</td><td><details class=\"dni-treeview\"><summary><span class=\"dni-code-hint\"><code>Some(2.47061010)</code></span></summary><div><table><thead><tr></tr></thead><tbody><tr><td>Value</td><td><div class=\"dni-plaintext\"><pre>2.47061010</pre></div></td></tr></tbody></table></div></details></td></tr><tr><td>Item7</td><td><div class=\"dni-plaintext\"><pre>Transit</pre></div></td></tr><tr><td>Rest</td><td><details class=\"dni-treeview\"><summary><span class=\"dni-code-hint\"><code>(False, Some(215.3200000), )</code></span></summary><div><table><thead><tr></tr></thead><tbody><tr><td>Item1</td><td><div class=\"dni-plaintext\"><pre>False</pre></div></td></tr><tr><td>Item2</td><td><details class=\"dni-treeview\"><summary><span class=\"dni-code-hint\"><code>Some(215.3200000)</code></span></summary><div><table><thead><tr></tr></thead><tbody><tr><td>Value</td><td>215.3200000</td></tr></tbody></table></div></details></td></tr><tr><td>Item3</td><td><div class=\"dni-plaintext\"><pre>&lt;null&gt;</pre></div></td></tr></tbody></table></div></details></td></tr></tbody></table></div></details></td></tr><tr><td>9</td><td><details class=\"dni-treeview\"><summary><span class=\"dni-code-hint\"><code>(TrES-2 b, Published Confirmed, &lt;a refstr=O_DONOVAN_ET_AL__2006 href=https://ui.adsabs.harvard.edu/abs/2006ApJ...651L..61O/abstract target=ref&gt; O&#39;Donovan et al. 2006 &lt;/a&gt;, , , Some(2.47061340), Transit, False, Some(215.3200000), )</code></span></summary><div><table><thead><tr></tr></thead><tbody><tr><td>Item1</td><td><div class=\"dni-plaintext\"><pre>TrES-2 b</pre></div></td></tr><tr><td>Item2</td><td><div class=\"dni-plaintext\"><pre>Published Confirmed</pre></div></td></tr><tr><td>Item3</td><td><div class=\"dni-plaintext\"><pre>&lt;a refstr=O_DONOVAN_ET_AL__2006 href=https://ui.adsabs.harvard.edu/abs/2006ApJ...651L..61O/abstract target=ref&gt; O&#39;Donovan et al. 2006 &lt;/a&gt;</pre></div></td></tr><tr><td>Item4</td><td><div class=\"dni-plaintext\"><pre>&lt;null&gt;</pre></div></td></tr><tr><td>Item5</td><td><div class=\"dni-plaintext\"><pre>&lt;null&gt;</pre></div></td></tr><tr><td>Item6</td><td><details class=\"dni-treeview\"><summary><span class=\"dni-code-hint\"><code>Some(2.47061340)</code></span></summary><div><table><thead><tr></tr></thead><tbody><tr><td>Value</td><td><div class=\"dni-plaintext\"><pre>2.47061340</pre></div></td></tr></tbody></table></div></details></td></tr><tr><td>Item7</td><td><div class=\"dni-plaintext\"><pre>Transit</pre></div></td></tr><tr><td>Rest</td><td><details class=\"dni-treeview\"><summary><span class=\"dni-code-hint\"><code>(False, Some(215.3200000), )</code></span></summary><div><table><thead><tr></tr></thead><tbody><tr><td>Item1</td><td><div class=\"dni-plaintext\"><pre>False</pre></div></td></tr><tr><td>Item2</td><td><details class=\"dni-treeview\"><summary><span class=\"dni-code-hint\"><code>Some(215.3200000)</code></span></summary><div><table><thead><tr></tr></thead><tbody><tr><td>Value</td><td>215.3200000</td></tr></tbody></table></div></details></td></tr><tr><td>Item3</td><td><div class=\"dni-plaintext\"><pre>&lt;null&gt;</pre></div></td></tr></tbody></table></div></details></td></tr></tbody></table></div></details></td></tr><tr><td>10</td><td><details class=\"dni-treeview\"><summary><span class=\"dni-code-hint\"><code>(TrES-2 b, Published Confirmed, &lt;a refstr=O_DONOVAN_ET_AL__2006 href=https://ui.adsabs.harvard.edu/abs/2006ApJ...651L..61O/abstract target=ref&gt; O&#39;Donovan et al. 2006 &lt;/a&gt;, , Some(382.03166), Some(2.47061892), Transit, False, Some(215.3200000), )</code></span></summary><div><table><thead><tr></tr></thead><tbody><tr><td>Item1</td><td><div class=\"dni-plaintext\"><pre>TrES-2 b</pre></div></td></tr><tr><td>Item2</td><td><div class=\"dni-plaintext\"><pre>Published Confirmed</pre></div></td></tr><tr><td>Item3</td><td><div class=\"dni-plaintext\"><pre>&lt;a refstr=O_DONOVAN_ET_AL__2006 href=https://ui.adsabs.harvard.edu/abs/2006ApJ...651L..61O/abstract target=ref&gt; O&#39;Donovan et al. 2006 &lt;/a&gt;</pre></div></td></tr><tr><td>Item4</td><td><div class=\"dni-plaintext\"><pre>&lt;null&gt;</pre></div></td></tr><tr><td>Item5</td><td><details class=\"dni-treeview\"><summary><span class=\"dni-code-hint\"><code>Some(382.03166)</code></span></summary><div><table><thead><tr></tr></thead><tbody><tr><td>Value</td><td><div class=\"dni-plaintext\"><pre>382.03166</pre></div></td></tr></tbody></table></div></details></td></tr><tr><td>Item6</td><td><details class=\"dni-treeview\"><summary><span class=\"dni-code-hint\"><code>Some(2.47061892)</code></span></summary><div><table><thead><tr></tr></thead><tbody><tr><td>Value</td><td><div class=\"dni-plaintext\"><pre>2.47061892</pre></div></td></tr></tbody></table></div></details></td></tr><tr><td>Item7</td><td><div class=\"dni-plaintext\"><pre>Transit</pre></div></td></tr><tr><td>Rest</td><td><details class=\"dni-treeview\"><summary><span class=\"dni-code-hint\"><code>(False, Some(215.3200000), )</code></span></summary><div><table><thead><tr></tr></thead><tbody><tr><td>Item1</td><td><div class=\"dni-plaintext\"><pre>False</pre></div></td></tr><tr><td>Item2</td><td><details class=\"dni-treeview\"><summary><span class=\"dni-code-hint\"><code>Some(215.3200000)</code></span></summary><div><table><thead><tr></tr></thead><tbody><tr><td>Value</td><td>215.3200000</td></tr></tbody></table></div></details></td></tr><tr><td>Item3</td><td><div class=\"dni-plaintext\"><pre>&lt;null&gt;</pre></div></td></tr></tbody></table></div></details></td></tr></tbody></table></div></details></td></tr><tr><td>11</td><td><details class=\"dni-treeview\"><summary><span class=\"dni-code-hint\"><code>(TrES-2 b, Published Confirmed, &lt;a refstr=O_DONOVAN_ET_AL__2006 href=https://ui.adsabs.harvard.edu/abs/2006ApJ...651L..61O/abstract target=ref&gt; O&#39;Donovan et al. 2006 &lt;/a&gt;, , , Some(2.47061337), Transit, False, Some(215.3200000), )</code></span></summary><div><table><thead><tr></tr></thead><tbody><tr><td>Item1</td><td><div class=\"dni-plaintext\"><pre>TrES-2 b</pre></div></td></tr><tr><td>Item2</td><td><div class=\"dni-plaintext\"><pre>Published Confirmed</pre></div></td></tr><tr><td>Item3</td><td><div class=\"dni-plaintext\"><pre>&lt;a refstr=O_DONOVAN_ET_AL__2006 href=https://ui.adsabs.harvard.edu/abs/2006ApJ...651L..61O/abstract target=ref&gt; O&#39;Donovan et al. 2006 &lt;/a&gt;</pre></div></td></tr><tr><td>Item4</td><td><div class=\"dni-plaintext\"><pre>&lt;null&gt;</pre></div></td></tr><tr><td>Item5</td><td><div class=\"dni-plaintext\"><pre>&lt;null&gt;</pre></div></td></tr><tr><td>Item6</td><td><details class=\"dni-treeview\"><summary><span class=\"dni-code-hint\"><code>Some(2.47061337)</code></span></summary><div><table><thead><tr></tr></thead><tbody><tr><td>Value</td><td><div class=\"dni-plaintext\"><pre>2.47061337</pre></div></td></tr></tbody></table></div></details></td></tr><tr><td>Item7</td><td><div class=\"dni-plaintext\"><pre>Transit</pre></div></td></tr><tr><td>Rest</td><td><details class=\"dni-treeview\"><summary><span class=\"dni-code-hint\"><code>(False, Some(215.3200000), )</code></span></summary><div><table><thead><tr></tr></thead><tbody><tr><td>Item1</td><td><div class=\"dni-plaintext\"><pre>False</pre></div></td></tr><tr><td>Item2</td><td><details class=\"dni-treeview\"><summary><span class=\"dni-code-hint\"><code>Some(215.3200000)</code></span></summary><div><table><thead><tr></tr></thead><tbody><tr><td>Value</td><td>215.3200000</td></tr></tbody></table></div></details></td></tr><tr><td>Item3</td><td><div class=\"dni-plaintext\"><pre>&lt;null&gt;</pre></div></td></tr></tbody></table></div></details></td></tr></tbody></table></div></details></td></tr><tr><td>12</td><td><details class=\"dni-treeview\"><summary><span class=\"dni-code-hint\"><code>(TrES-2 b, Published Confirmed, &lt;a refstr=O_DONOVAN_ET_AL__2006 href=https://ui.adsabs.harvard.edu/abs/2006ApJ...651L..61O/abstract target=ref&gt; O&#39;Donovan et al. 2006 &lt;/a&gt;, , Some(380.74400), Some(2.47061344), Transit, False, Some(215.3200000), )</code></span></summary><div><table><thead><tr></tr></thead><tbody><tr><td>Item1</td><td><div class=\"dni-plaintext\"><pre>TrES-2 b</pre></div></td></tr><tr><td>Item2</td><td><div class=\"dni-plaintext\"><pre>Published Confirmed</pre></div></td></tr><tr><td>Item3</td><td><div class=\"dni-plaintext\"><pre>&lt;a refstr=O_DONOVAN_ET_AL__2006 href=https://ui.adsabs.harvard.edu/abs/2006ApJ...651L..61O/abstract target=ref&gt; O&#39;Donovan et al. 2006 &lt;/a&gt;</pre></div></td></tr><tr><td>Item4</td><td><div class=\"dni-plaintext\"><pre>&lt;null&gt;</pre></div></td></tr><tr><td>Item5</td><td><details class=\"dni-treeview\"><summary><span class=\"dni-code-hint\"><code>Some(380.74400)</code></span></summary><div><table><thead><tr></tr></thead><tbody><tr><td>Value</td><td><div class=\"dni-plaintext\"><pre>380.74400</pre></div></td></tr></tbody></table></div></details></td></tr><tr><td>Item6</td><td><details class=\"dni-treeview\"><summary><span class=\"dni-code-hint\"><code>Some(2.47061344)</code></span></summary><div><table><thead><tr></tr></thead><tbody><tr><td>Value</td><td><div class=\"dni-plaintext\"><pre>2.47061344</pre></div></td></tr></tbody></table></div></details></td></tr><tr><td>Item7</td><td><div class=\"dni-plaintext\"><pre>Transit</pre></div></td></tr><tr><td>Rest</td><td><details class=\"dni-treeview\"><summary><span class=\"dni-code-hint\"><code>(False, Some(215.3200000), )</code></span></summary><div><table><thead><tr></tr></thead><tbody><tr><td>Item1</td><td><div class=\"dni-plaintext\"><pre>False</pre></div></td></tr><tr><td>Item2</td><td><details class=\"dni-treeview\"><summary><span class=\"dni-code-hint\"><code>Some(215.3200000)</code></span></summary><div><table><thead><tr></tr></thead><tbody><tr><td>Value</td><td>215.3200000</td></tr></tbody></table></div></details></td></tr><tr><td>Item3</td><td><div class=\"dni-plaintext\"><pre>&lt;null&gt;</pre></div></td></tr></tbody></table></div></details></td></tr></tbody></table></div></details></td></tr><tr><td>13</td><td><details class=\"dni-treeview\"><summary><span class=\"dni-code-hint\"><code>(TrES-2 b, Published Confirmed, &lt;a refstr=O_DONOVAN_ET_AL__2006 href=https://ui.adsabs.harvard.edu/abs/2006ApJ...651L..61O/abstract target=ref&gt; O&#39;Donovan et al. 2006 &lt;/a&gt;, , Some(398.24099), Some(2.47061010), Transit, False, Some(215.3200000), )</code></span></summary><div><table><thead><tr></tr></thead><tbody><tr><td>Item1</td><td><div class=\"dni-plaintext\"><pre>TrES-2 b</pre></div></td></tr><tr><td>Item2</td><td><div class=\"dni-plaintext\"><pre>Published Confirmed</pre></div></td></tr><tr><td>Item3</td><td><div class=\"dni-plaintext\"><pre>&lt;a refstr=O_DONOVAN_ET_AL__2006 href=https://ui.adsabs.harvard.edu/abs/2006ApJ...651L..61O/abstract target=ref&gt; O&#39;Donovan et al. 2006 &lt;/a&gt;</pre></div></td></tr><tr><td>Item4</td><td><div class=\"dni-plaintext\"><pre>&lt;null&gt;</pre></div></td></tr><tr><td>Item5</td><td><details class=\"dni-treeview\"><summary><span class=\"dni-code-hint\"><code>Some(398.24099)</code></span></summary><div><table><thead><tr></tr></thead><tbody><tr><td>Value</td><td><div class=\"dni-plaintext\"><pre>398.24099</pre></div></td></tr></tbody></table></div></details></td></tr><tr><td>Item6</td><td><details class=\"dni-treeview\"><summary><span class=\"dni-code-hint\"><code>Some(2.47061010)</code></span></summary><div><table><thead><tr></tr></thead><tbody><tr><td>Value</td><td><div class=\"dni-plaintext\"><pre>2.47061010</pre></div></td></tr></tbody></table></div></details></td></tr><tr><td>Item7</td><td><div class=\"dni-plaintext\"><pre>Transit</pre></div></td></tr><tr><td>Rest</td><td><details class=\"dni-treeview\"><summary><span class=\"dni-code-hint\"><code>(False, Some(215.3200000), )</code></span></summary><div><table><thead><tr></tr></thead><tbody><tr><td>Item1</td><td><div class=\"dni-plaintext\"><pre>False</pre></div></td></tr><tr><td>Item2</td><td><details class=\"dni-treeview\"><summary><span class=\"dni-code-hint\"><code>Some(215.3200000)</code></span></summary><div><table><thead><tr></tr></thead><tbody><tr><td>Value</td><td>215.3200000</td></tr></tbody></table></div></details></td></tr><tr><td>Item3</td><td><div class=\"dni-plaintext\"><pre>&lt;null&gt;</pre></div></td></tr></tbody></table></div></details></td></tr></tbody></table></div></details></td></tr><tr><td>14</td><td><details class=\"dni-treeview\"><summary><span class=\"dni-code-hint\"><code>(TrES-2 b, Published Confirmed, &lt;a refstr=O_DONOVAN_ET_AL__2006 href=https://ui.adsabs.harvard.edu/abs/2006ApJ...651L..61O/abstract target=ref&gt; O&#39;Donovan et al. 2006 &lt;/a&gt;, , Some(367.72931), , Transit, False, Some(215.3200000), )</code></span></summary><div><table><thead><tr></tr></thead><tbody><tr><td>Item1</td><td><div class=\"dni-plaintext\"><pre>TrES-2 b</pre></div></td></tr><tr><td>Item2</td><td><div class=\"dni-plaintext\"><pre>Published Confirmed</pre></div></td></tr><tr><td>Item3</td><td><div class=\"dni-plaintext\"><pre>&lt;a refstr=O_DONOVAN_ET_AL__2006 href=https://ui.adsabs.harvard.edu/abs/2006ApJ...651L..61O/abstract target=ref&gt; O&#39;Donovan et al. 2006 &lt;/a&gt;</pre></div></td></tr><tr><td>Item4</td><td><div class=\"dni-plaintext\"><pre>&lt;null&gt;</pre></div></td></tr><tr><td>Item5</td><td><details class=\"dni-treeview\"><summary><span class=\"dni-code-hint\"><code>Some(367.72931)</code></span></summary><div><table><thead><tr></tr></thead><tbody><tr><td>Value</td><td><div class=\"dni-plaintext\"><pre>367.72931</pre></div></td></tr></tbody></table></div></details></td></tr><tr><td>Item6</td><td><div class=\"dni-plaintext\"><pre>&lt;null&gt;</pre></div></td></tr><tr><td>Item7</td><td><div class=\"dni-plaintext\"><pre>Transit</pre></div></td></tr><tr><td>Rest</td><td><details class=\"dni-treeview\"><summary><span class=\"dni-code-hint\"><code>(False, Some(215.3200000), )</code></span></summary><div><table><thead><tr></tr></thead><tbody><tr><td>Item1</td><td><div class=\"dni-plaintext\"><pre>False</pre></div></td></tr><tr><td>Item2</td><td><details class=\"dni-treeview\"><summary><span class=\"dni-code-hint\"><code>Some(215.3200000)</code></span></summary><div><table><thead><tr></tr></thead><tbody><tr><td>Value</td><td>215.3200000</td></tr></tbody></table></div></details></td></tr><tr><td>Item3</td><td><div class=\"dni-plaintext\"><pre>&lt;null&gt;</pre></div></td></tr></tbody></table></div></details></td></tr></tbody></table></div></details></td></tr><tr><td>15</td><td><details class=\"dni-treeview\"><summary><span class=\"dni-code-hint\"><code>(TrES-2 b, Published Confirmed, &lt;a refstr=O_DONOVAN_ET_AL__2006 href=https://ui.adsabs.harvard.edu/abs/2006ApJ...651L..61O/abstract target=ref&gt; O&#39;Donovan et al. 2006 &lt;/a&gt;, , Some(380.76034), Some(2.47062100), Transit, False, Some(215.3200000), )</code></span></summary><div><table><thead><tr></tr></thead><tbody><tr><td>Item1</td><td><div class=\"dni-plaintext\"><pre>TrES-2 b</pre></div></td></tr><tr><td>Item2</td><td><div class=\"dni-plaintext\"><pre>Published Confirmed</pre></div></td></tr><tr><td>Item3</td><td><div class=\"dni-plaintext\"><pre>&lt;a refstr=O_DONOVAN_ET_AL__2006 href=https://ui.adsabs.harvard.edu/abs/2006ApJ...651L..61O/abstract target=ref&gt; O&#39;Donovan et al. 2006 &lt;/a&gt;</pre></div></td></tr><tr><td>Item4</td><td><div class=\"dni-plaintext\"><pre>&lt;null&gt;</pre></div></td></tr><tr><td>Item5</td><td><details class=\"dni-treeview\"><summary><span class=\"dni-code-hint\"><code>Some(380.76034)</code></span></summary><div><table><thead><tr></tr></thead><tbody><tr><td>Value</td><td><div class=\"dni-plaintext\"><pre>380.76034</pre></div></td></tr></tbody></table></div></details></td></tr><tr><td>Item6</td><td><details class=\"dni-treeview\"><summary><span class=\"dni-code-hint\"><code>Some(2.47062100)</code></span></summary><div><table><thead><tr></tr></thead><tbody><tr><td>Value</td><td><div class=\"dni-plaintext\"><pre>2.47062100</pre></div></td></tr></tbody></table></div></details></td></tr><tr><td>Item7</td><td><div class=\"dni-plaintext\"><pre>Transit</pre></div></td></tr><tr><td>Rest</td><td><details class=\"dni-treeview\"><summary><span class=\"dni-code-hint\"><code>(False, Some(215.3200000), )</code></span></summary><div><table><thead><tr></tr></thead><tbody><tr><td>Item1</td><td><div class=\"dni-plaintext\"><pre>False</pre></div></td></tr><tr><td>Item2</td><td><details class=\"dni-treeview\"><summary><span class=\"dni-code-hint\"><code>Some(215.3200000)</code></span></summary><div><table><thead><tr></tr></thead><tbody><tr><td>Value</td><td>215.3200000</td></tr></tbody></table></div></details></td></tr><tr><td>Item3</td><td><div class=\"dni-plaintext\"><pre>&lt;null&gt;</pre></div></td></tr></tbody></table></div></details></td></tr></tbody></table></div></details></td></tr><tr><td>16</td><td><details class=\"dni-treeview\"><summary><span class=\"dni-code-hint\"><code>(TrES-2 b, Published Confirmed, &lt;a refstr=O_DONOVAN_ET_AL__2006 href=https://ui.adsabs.harvard.edu/abs/2006ApJ...651L..61O/abstract target=ref&gt; O&#39;Donovan et al. 2006 &lt;/a&gt;, , Some(406.82240), Some(2.47063000), Transit, False, Some(215.3200000), )</code></span></summary><div><table><thead><tr></tr></thead><tbody><tr><td>Item1</td><td><div class=\"dni-plaintext\"><pre>TrES-2 b</pre></div></td></tr><tr><td>Item2</td><td><div class=\"dni-plaintext\"><pre>Published Confirmed</pre></div></td></tr><tr><td>Item3</td><td><div class=\"dni-plaintext\"><pre>&lt;a refstr=O_DONOVAN_ET_AL__2006 href=https://ui.adsabs.harvard.edu/abs/2006ApJ...651L..61O/abstract target=ref&gt; O&#39;Donovan et al. 2006 &lt;/a&gt;</pre></div></td></tr><tr><td>Item4</td><td><div class=\"dni-plaintext\"><pre>&lt;null&gt;</pre></div></td></tr><tr><td>Item5</td><td><details class=\"dni-treeview\"><summary><span class=\"dni-code-hint\"><code>Some(406.82240)</code></span></summary><div><table><thead><tr></tr></thead><tbody><tr><td>Value</td><td><div class=\"dni-plaintext\"><pre>406.82240</pre></div></td></tr></tbody></table></div></details></td></tr><tr><td>Item6</td><td><details class=\"dni-treeview\"><summary><span class=\"dni-code-hint\"><code>Some(2.47063000)</code></span></summary><div><table><thead><tr></tr></thead><tbody><tr><td>Value</td><td><div class=\"dni-plaintext\"><pre>2.47063000</pre></div></td></tr></tbody></table></div></details></td></tr><tr><td>Item7</td><td><div class=\"dni-plaintext\"><pre>Transit</pre></div></td></tr><tr><td>Rest</td><td><details class=\"dni-treeview\"><summary><span class=\"dni-code-hint\"><code>(False, Some(215.3200000), )</code></span></summary><div><table><thead><tr></tr></thead><tbody><tr><td>Item1</td><td><div class=\"dni-plaintext\"><pre>False</pre></div></td></tr><tr><td>Item2</td><td><details class=\"dni-treeview\"><summary><span class=\"dni-code-hint\"><code>Some(215.3200000)</code></span></summary><div><table><thead><tr></tr></thead><tbody><tr><td>Value</td><td>215.3200000</td></tr></tbody></table></div></details></td></tr><tr><td>Item3</td><td><div class=\"dni-plaintext\"><pre>&lt;null&gt;</pre></div></td></tr></tbody></table></div></details></td></tr></tbody></table></div></details></td></tr><tr><td>17</td><td><details class=\"dni-treeview\"><summary><span class=\"dni-code-hint\"><code>(TrES-2 b, Published Confirmed, &lt;a refstr=O_DONOVAN_ET_AL__2006 href=https://ui.adsabs.harvard.edu/abs/2006ApJ...651L..61O/abstract target=ref&gt; O&#39;Donovan et al. 2006 &lt;/a&gt;, , , Some(2.47061339), Transit, False, Some(215.3200000), )</code></span></summary><div><table><thead><tr></tr></thead><tbody><tr><td>Item1</td><td><div class=\"dni-plaintext\"><pre>TrES-2 b</pre></div></td></tr><tr><td>Item2</td><td><div class=\"dni-plaintext\"><pre>Published Confirmed</pre></div></td></tr><tr><td>Item3</td><td><div class=\"dni-plaintext\"><pre>&lt;a refstr=O_DONOVAN_ET_AL__2006 href=https://ui.adsabs.harvard.edu/abs/2006ApJ...651L..61O/abstract target=ref&gt; O&#39;Donovan et al. 2006 &lt;/a&gt;</pre></div></td></tr><tr><td>Item4</td><td><div class=\"dni-plaintext\"><pre>&lt;null&gt;</pre></div></td></tr><tr><td>Item5</td><td><div class=\"dni-plaintext\"><pre>&lt;null&gt;</pre></div></td></tr><tr><td>Item6</td><td><details class=\"dni-treeview\"><summary><span class=\"dni-code-hint\"><code>Some(2.47061339)</code></span></summary><div><table><thead><tr></tr></thead><tbody><tr><td>Value</td><td><div class=\"dni-plaintext\"><pre>2.47061339</pre></div></td></tr></tbody></table></div></details></td></tr><tr><td>Item7</td><td><div class=\"dni-plaintext\"><pre>Transit</pre></div></td></tr><tr><td>Rest</td><td><details class=\"dni-treeview\"><summary><span class=\"dni-code-hint\"><code>(False, Some(215.3200000), )</code></span></summary><div><table><thead><tr></tr></thead><tbody><tr><td>Item1</td><td><div class=\"dni-plaintext\"><pre>False</pre></div></td></tr><tr><td>Item2</td><td><details class=\"dni-treeview\"><summary><span class=\"dni-code-hint\"><code>Some(215.3200000)</code></span></summary><div><table><thead><tr></tr></thead><tbody><tr><td>Value</td><td>215.3200000</td></tr></tbody></table></div></details></td></tr><tr><td>Item3</td><td><div class=\"dni-plaintext\"><pre>&lt;null&gt;</pre></div></td></tr></tbody></table></div></details></td></tr></tbody></table></div></details></td></tr><tr><td>18</td><td><details class=\"dni-treeview\"><summary><span class=\"dni-code-hint\"><code>(TrES-2 b, Published Confirmed, &lt;a refstr=O_DONOVAN_ET_AL__2006 href=https://ui.adsabs.harvard.edu/abs/2006ApJ...651L..61O/abstract target=ref&gt; O&#39;Donovan et al. 2006 &lt;/a&gt;, , , Some(2.47061338), Transit, False, Some(215.3200000), )</code></span></summary><div><table><thead><tr></tr></thead><tbody><tr><td>Item1</td><td><div class=\"dni-plaintext\"><pre>TrES-2 b</pre></div></td></tr><tr><td>Item2</td><td><div class=\"dni-plaintext\"><pre>Published Confirmed</pre></div></td></tr><tr><td>Item3</td><td><div class=\"dni-plaintext\"><pre>&lt;a refstr=O_DONOVAN_ET_AL__2006 href=https://ui.adsabs.harvard.edu/abs/2006ApJ...651L..61O/abstract target=ref&gt; O&#39;Donovan et al. 2006 &lt;/a&gt;</pre></div></td></tr><tr><td>Item4</td><td><div class=\"dni-plaintext\"><pre>&lt;null&gt;</pre></div></td></tr><tr><td>Item5</td><td><div class=\"dni-plaintext\"><pre>&lt;null&gt;</pre></div></td></tr><tr><td>Item6</td><td><details class=\"dni-treeview\"><summary><span class=\"dni-code-hint\"><code>Some(2.47061338)</code></span></summary><div><table><thead><tr></tr></thead><tbody><tr><td>Value</td><td><div class=\"dni-plaintext\"><pre>2.47061338</pre></div></td></tr></tbody></table></div></details></td></tr><tr><td>Item7</td><td><div class=\"dni-plaintext\"><pre>Transit</pre></div></td></tr><tr><td>Rest</td><td><details class=\"dni-treeview\"><summary><span class=\"dni-code-hint\"><code>(False, Some(215.3200000), )</code></span></summary><div><table><thead><tr></tr></thead><tbody><tr><td>Item1</td><td><div class=\"dni-plaintext\"><pre>False</pre></div></td></tr><tr><td>Item2</td><td><details class=\"dni-treeview\"><summary><span class=\"dni-code-hint\"><code>Some(215.3200000)</code></span></summary><div><table><thead><tr></tr></thead><tbody><tr><td>Value</td><td>215.3200000</td></tr></tbody></table></div></details></td></tr><tr><td>Item3</td><td><div class=\"dni-plaintext\"><pre>&lt;null&gt;</pre></div></td></tr></tbody></table></div></details></td></tr></tbody></table></div></details></td></tr><tr><td>19</td><td><details class=\"dni-treeview\"><summary><span class=\"dni-code-hint\"><code>(TrES-2 b, Published Confirmed, &lt;a refstr=O_DONOVAN_ET_AL__2006 href=https://ui.adsabs.harvard.edu/abs/2006ApJ...651L..61O/abstract target=ref&gt; O&#39;Donovan et al. 2006 &lt;/a&gt;, , , Some(2.47061350), Transit, False, Some(215.3200000), )</code></span></summary><div><table><thead><tr></tr></thead><tbody><tr><td>Item1</td><td><div class=\"dni-plaintext\"><pre>TrES-2 b</pre></div></td></tr><tr><td>Item2</td><td><div class=\"dni-plaintext\"><pre>Published Confirmed</pre></div></td></tr><tr><td>Item3</td><td><div class=\"dni-plaintext\"><pre>&lt;a refstr=O_DONOVAN_ET_AL__2006 href=https://ui.adsabs.harvard.edu/abs/2006ApJ...651L..61O/abstract target=ref&gt; O&#39;Donovan et al. 2006 &lt;/a&gt;</pre></div></td></tr><tr><td>Item4</td><td><div class=\"dni-plaintext\"><pre>&lt;null&gt;</pre></div></td></tr><tr><td>Item5</td><td><div class=\"dni-plaintext\"><pre>&lt;null&gt;</pre></div></td></tr><tr><td>Item6</td><td><details class=\"dni-treeview\"><summary><span class=\"dni-code-hint\"><code>Some(2.47061350)</code></span></summary><div><table><thead><tr></tr></thead><tbody><tr><td>Value</td><td><div class=\"dni-plaintext\"><pre>2.47061350</pre></div></td></tr></tbody></table></div></details></td></tr><tr><td>Item7</td><td><div class=\"dni-plaintext\"><pre>Transit</pre></div></td></tr><tr><td>Rest</td><td><details class=\"dni-treeview\"><summary><span class=\"dni-code-hint\"><code>(False, Some(215.3200000), )</code></span></summary><div><table><thead><tr></tr></thead><tbody><tr><td>Item1</td><td><div class=\"dni-plaintext\"><pre>False</pre></div></td></tr><tr><td>Item2</td><td><details class=\"dni-treeview\"><summary><span class=\"dni-code-hint\"><code>Some(215.3200000)</code></span></summary><div><table><thead><tr></tr></thead><tbody><tr><td>Value</td><td>215.3200000</td></tr></tbody></table></div></details></td></tr><tr><td>Item3</td><td><div class=\"dni-plaintext\"><pre>&lt;null&gt;</pre></div></td></tr></tbody></table></div></details></td></tr></tbody></table></div></details></td></tr><tr><td colspan=\"2\"><i>... (more)</i></td></tr></tbody></table></td></tr></tbody></table></div></details></td></tr></tbody></table></div></details></td></tr><tr><td><i>(values)</i></td><td><table><thead><tr><th><i>index</i></th><th>value</th></tr></thead><tbody><tr><td>0</td><td><details class=\"dni-treeview\"><summary><span class=\"dni-code-hint\"><code>Some(381.39600)</code></span></summary><div><table><thead><tr></tr></thead><tbody><tr><td>Value</td><td><div class=\"dni-plaintext\"><pre>381.39600</pre></div></td></tr></tbody></table></div></details></td></tr><tr><td>1</td><td><details class=\"dni-treeview\"><summary><span class=\"dni-code-hint\"><code>Some(381.10000)</code></span></summary><div><table><thead><tr></tr></thead><tbody><tr><td>Value</td><td><div class=\"dni-plaintext\"><pre>381.10000</pre></div></td></tr></tbody></table></div></details></td></tr><tr><td>2</td><td><details class=\"dni-treeview\"><summary><span class=\"dni-code-hint\"><code>Some(380.44251)</code></span></summary><div><table><thead><tr></tr></thead><tbody><tr><td>Value</td><td><div class=\"dni-plaintext\"><pre>380.44251</pre></div></td></tr></tbody></table></div></details></td></tr><tr><td>3</td><td><details class=\"dni-treeview\"><summary><span class=\"dni-code-hint\"><code>Some(457.67520)</code></span></summary><div><table><thead><tr></tr></thead><tbody><tr><td>Value</td><td><div class=\"dni-plaintext\"><pre>457.67520</pre></div></td></tr></tbody></table></div></details></td></tr><tr><td>4</td><td><details class=\"dni-treeview\"><summary><span class=\"dni-code-hint\"><code>Some(383.30298)</code></span></summary><div><table><thead><tr></tr></thead><tbody><tr><td>Value</td><td><div class=\"dni-plaintext\"><pre>383.30298</pre></div></td></tr></tbody></table></div></details></td></tr><tr><td>5</td><td><details class=\"dni-treeview\"><summary><span class=\"dni-code-hint\"><code>Some(380.76034)</code></span></summary><div><table><thead><tr></tr></thead><tbody><tr><td>Value</td><td><div class=\"dni-plaintext\"><pre>380.76034</pre></div></td></tr></tbody></table></div></details></td></tr><tr><td>6</td><td><details class=\"dni-treeview\"><summary><span class=\"dni-code-hint\"><code>Some(380.76034)</code></span></summary><div><table><thead><tr></tr></thead><tbody><tr><td>Value</td><td><div class=\"dni-plaintext\"><pre>380.76034</pre></div></td></tr></tbody></table></div></details></td></tr><tr><td>7</td><td><details class=\"dni-treeview\"><summary><span class=\"dni-code-hint\"><code>Some(457.67520)</code></span></summary><div><table><thead><tr></tr></thead><tbody><tr><td>Value</td><td><div class=\"dni-plaintext\"><pre>457.67520</pre></div></td></tr></tbody></table></div></details></td></tr><tr><td>8</td><td><div class=\"dni-plaintext\"><pre>&lt;null&gt;</pre></div></td></tr><tr><td>9</td><td><div class=\"dni-plaintext\"><pre>&lt;null&gt;</pre></div></td></tr><tr><td>10</td><td><details class=\"dni-treeview\"><summary><span class=\"dni-code-hint\"><code>Some(382.03166)</code></span></summary><div><table><thead><tr></tr></thead><tbody><tr><td>Value</td><td><div class=\"dni-plaintext\"><pre>382.03166</pre></div></td></tr></tbody></table></div></details></td></tr><tr><td>11</td><td><div class=\"dni-plaintext\"><pre>&lt;null&gt;</pre></div></td></tr><tr><td>12</td><td><details class=\"dni-treeview\"><summary><span class=\"dni-code-hint\"><code>Some(380.74400)</code></span></summary><div><table><thead><tr></tr></thead><tbody><tr><td>Value</td><td><div class=\"dni-plaintext\"><pre>380.74400</pre></div></td></tr></tbody></table></div></details></td></tr><tr><td>13</td><td><details class=\"dni-treeview\"><summary><span class=\"dni-code-hint\"><code>Some(398.24099)</code></span></summary><div><table><thead><tr></tr></thead><tbody><tr><td>Value</td><td><div class=\"dni-plaintext\"><pre>398.24099</pre></div></td></tr></tbody></table></div></details></td></tr><tr><td>14</td><td><details class=\"dni-treeview\"><summary><span class=\"dni-code-hint\"><code>Some(367.72931)</code></span></summary><div><table><thead><tr></tr></thead><tbody><tr><td>Value</td><td><div class=\"dni-plaintext\"><pre>367.72931</pre></div></td></tr></tbody></table></div></details></td></tr><tr><td>15</td><td><details class=\"dni-treeview\"><summary><span class=\"dni-code-hint\"><code>Some(380.76034)</code></span></summary><div><table><thead><tr></tr></thead><tbody><tr><td>Value</td><td><div class=\"dni-plaintext\"><pre>380.76034</pre></div></td></tr></tbody></table></div></details></td></tr><tr><td>16</td><td><details class=\"dni-treeview\"><summary><span class=\"dni-code-hint\"><code>Some(406.82240)</code></span></summary><div><table><thead><tr></tr></thead><tbody><tr><td>Value</td><td><div class=\"dni-plaintext\"><pre>406.82240</pre></div></td></tr></tbody></table></div></details></td></tr><tr><td>17</td><td><div class=\"dni-plaintext\"><pre>&lt;null&gt;</pre></div></td></tr><tr><td>18</td><td><div class=\"dni-plaintext\"><pre>&lt;null&gt;</pre></div></td></tr><tr><td>19</td><td><div class=\"dni-plaintext\"><pre>&lt;null&gt;</pre></div></td></tr><tr><td colspan=\"2\"><i>... (more)</i></td></tr></tbody></table></td></tr></tbody></table></div></details><style>\r\n",
       ".dni-code-hint {\r\n",
       "    font-style: italic;\r\n",
       "    overflow: hidden;\r\n",
       "    white-space: nowrap;\r\n",
       "}\r\n",
       ".dni-treeview {\r\n",
       "    white-space: nowrap;\r\n",
       "}\r\n",
       ".dni-treeview td {\r\n",
       "    vertical-align: top;\r\n",
       "    text-align: start;\r\n",
       "}\r\n",
       "details.dni-treeview {\r\n",
       "    padding-left: 1em;\r\n",
       "}\r\n",
       "table td {\r\n",
       "    text-align: start;\r\n",
       "}\r\n",
       "table tr { \r\n",
       "    vertical-align: top; \r\n",
       "    margin: 0em 0px;\r\n",
       "}\r\n",
       "table tr td pre \r\n",
       "{ \r\n",
       "    vertical-align: top !important; \r\n",
       "    margin: 0em 0px !important;\r\n",
       "} \r\n",
       "table th {\r\n",
       "    text-align: start;\r\n",
       "}\r\n",
       "</style>"
      ]
     },
     "metadata": {},
     "output_type": "display_data"
    }
   ],
   "source": [
    "exoWithMaxEntries\n",
    "|> Seq.map (fun p -> p.Pl_masse)"
   ]
  },
  {
   "cell_type": "markdown",
   "metadata": {},
   "source": [
    "We average those values, taking into account only those ones that are in fact a measurement of the mass (given by the `Some` option), while discarding the non existent ones (the `None`s). Instead of going straight to the data, it can be useful to work out the problem of averaging a list of `Option` values with a minimal example: "
   ]
  },
  {
   "cell_type": "code",
   "execution_count": 20,
   "metadata": {
    "dotnet_interactive": {
     "language": "fsharp"
    },
    "polyglot_notebook": {
     "kernelName": "fsharp"
    },
    "vscode": {
     "languageId": "polyglot-notebook"
    }
   },
   "outputs": [
    {
     "data": {
      "text/html": [
       "<details open=\"open\" class=\"dni-treeview\"><summary><span class=\"dni-code-hint\"><code>Some(2.5)</code></span></summary><div><table><thead><tr></tr></thead><tbody><tr><td>Value</td><td><div class=\"dni-plaintext\"><pre>2.5</pre></div></td></tr></tbody></table></div></details><style>\r\n",
       ".dni-code-hint {\r\n",
       "    font-style: italic;\r\n",
       "    overflow: hidden;\r\n",
       "    white-space: nowrap;\r\n",
       "}\r\n",
       ".dni-treeview {\r\n",
       "    white-space: nowrap;\r\n",
       "}\r\n",
       ".dni-treeview td {\r\n",
       "    vertical-align: top;\r\n",
       "    text-align: start;\r\n",
       "}\r\n",
       "details.dni-treeview {\r\n",
       "    padding-left: 1em;\r\n",
       "}\r\n",
       "table td {\r\n",
       "    text-align: start;\r\n",
       "}\r\n",
       "table tr { \r\n",
       "    vertical-align: top; \r\n",
       "    margin: 0em 0px;\r\n",
       "}\r\n",
       "table tr td pre \r\n",
       "{ \r\n",
       "    vertical-align: top !important; \r\n",
       "    margin: 0em 0px !important;\r\n",
       "} \r\n",
       "table th {\r\n",
       "    text-align: start;\r\n",
       "}\r\n",
       "</style>"
      ]
     },
     "metadata": {},
     "output_type": "display_data"
    }
   ],
   "source": [
    "let optionsList = \n",
    "    [ Some 2.0m; Some 5.0m; None ; None ; Some 2.0m; Some 1.0m]  // decimal option list\n",
    "    |> List.toSeq\n",
    "\n",
    "let avg (data: decimal option seq) = \n",
    "    let values = \n",
    "        data  \n",
    "        |> Seq.choose id // Discards the None values and keeps the Some values\n",
    "    if Seq.isEmpty values then None else Some (values |> Seq.average)        \n",
    "\n",
    "avg optionsList"
   ]
  },
  {
   "cell_type": "markdown",
   "metadata": {},
   "source": [
    "The application of `Seq.choose id` removes the `Nones` and extracts the values from the `Some` option. We also prevent taking the average of an empty sequence of data with the `if..then..else` construct (remember that in F# everything returns a value, and the `if` is used as such).\n",
    "\n",
    "Note that we are building a function for a `decimal option list` because that is the data we are getting from the provider for those numerical values. The `m` suffix makes a literal float into a `decimal`. For the masses of our *TrES-2 b* planet we have:"
   ]
  },
  {
   "cell_type": "code",
   "execution_count": 21,
   "metadata": {
    "dotnet_interactive": {
     "language": "fsharp"
    },
    "polyglot_notebook": {
     "kernelName": "fsharp"
    },
    "vscode": {
     "languageId": "polyglot-notebook"
    }
   },
   "outputs": [
    {
     "data": {
      "text/html": [
       "<details open=\"open\" class=\"dni-treeview\"><summary><span class=\"dni-code-hint\"><code>Some(398.61523058823529411764705882)</code></span></summary><div><table><thead><tr></tr></thead><tbody><tr><td>Value</td><td><div class=\"dni-plaintext\"><pre>398.61523058823529411764705882</pre></div></td></tr></tbody></table></div></details><style>\r\n",
       ".dni-code-hint {\r\n",
       "    font-style: italic;\r\n",
       "    overflow: hidden;\r\n",
       "    white-space: nowrap;\r\n",
       "}\r\n",
       ".dni-treeview {\r\n",
       "    white-space: nowrap;\r\n",
       "}\r\n",
       ".dni-treeview td {\r\n",
       "    vertical-align: top;\r\n",
       "    text-align: start;\r\n",
       "}\r\n",
       "details.dni-treeview {\r\n",
       "    padding-left: 1em;\r\n",
       "}\r\n",
       "table td {\r\n",
       "    text-align: start;\r\n",
       "}\r\n",
       "table tr { \r\n",
       "    vertical-align: top; \r\n",
       "    margin: 0em 0px;\r\n",
       "}\r\n",
       "table tr td pre \r\n",
       "{ \r\n",
       "    vertical-align: top !important; \r\n",
       "    margin: 0em 0px !important;\r\n",
       "} \r\n",
       "table th {\r\n",
       "    text-align: start;\r\n",
       "}\r\n",
       "</style>"
      ]
     },
     "metadata": {},
     "output_type": "display_data"
    }
   ],
   "source": [
    "exoWithMaxEntries\n",
    "|> Seq.map (fun p -> p.Pl_masse)\n",
    "|> avg"
   ]
  },
  {
   "cell_type": "markdown",
   "metadata": {},
   "source": [
    "Now we need to map our current sequence of data for _one_ planet into a single entry of the confirmed planets. Let us build a function that does exactly what we need, and then, we `Seq.map` over our sequence of planets."
   ]
  },
  {
   "cell_type": "code",
   "execution_count": 22,
   "metadata": {
    "dotnet_interactive": {
     "language": "fsharp"
    },
    "polyglot_notebook": {
     "kernelName": "fsharp"
    },
    "vscode": {
     "languageId": "polyglot-notebook"
    }
   },
   "outputs": [],
   "source": [
    "let collapse (planet: seq<ExoPlanetType.Row>) = \n",
    "    let masses =\n",
    "        planet \n",
    "        |> Seq.map (fun v -> v.Pl_masse)\n",
    "        |> avg \n",
    "\n",
    "    let orbper =\n",
    "        planet \n",
    "        |> Seq.map (fun v -> v.Pl_orbper)\n",
    "        |> avg\n",
    "\n",
    "    let insol =\n",
    "        planet \n",
    "        |> Seq.map (fun v -> v.Pl_insol)\n",
    "        |> avg\n",
    "\n",
    "    let planetData = planet |> Seq.head   \n",
    "        \n",
    "    let row = ExoPlanetType.Row(\n",
    "        plName = planetData.Pl_name,\n",
    "        soltype = planetData.Soltype,\n",
    "        discRefname = planetData.Disc_refname,\n",
    "        hdName = planetData.Hd_name,\n",
    "        plMasse = masses ,\n",
    "        plOrbper = orbper,\n",
    "        discoverymethod = planetData.Discoverymethod,\n",
    "        cbFlag = planetData.Cb_flag,\n",
    "        syDist = planetData.Sy_dist,\n",
    "        plInsol = insol\n",
    "    )\n",
    "\n",
    "    row\n"
   ]
  },
  {
   "cell_type": "markdown",
   "metadata": {},
   "source": [
    "There are some points to note:\n",
    "\n",
    "First, the input argument of the function `collapse` is a sequence of data (represented by the type `ExoPlanetType.Row`) for a given planet that has many entries in our original data, as we did with `TrES-2 b`. So, the type provided by the Type Provider is `ExoPlanetType.Row`. Second, in the function we compute the average for the mass `.Pl_masse`, the orbital period `.Pl_orbper` and the insolation flux `.Pl_insol`. Then, since all the data in the sequence share the rest of the information, we extract this data from the first entry of the sequence, with `planet |> Seq.head`. Finally, we use a constructor `ExoPlanetType.Row` to build the new data. \n",
    "\n",
    "> Let us clarify some possible confusion about the names used for each field in the Type Provider. For example, let us take the planet name. The header of the column is `pl_name`. This is translated to the field `Pl_name` in the type created by the provider, that can be accessed by the `.Pl_name` notation. But, to create a new data for the type, the `plName = planetData.Pl_name` is used. Fortunately, the F# compiler always helps us, just remember to hover with the mouse on `ExoPlanetType.Row` to see how to map each field of the type in the constructor.\n",
    "\n",
    "> The point of this notebook is to try to use the type created by the Provider as much as possible. However, one can avoid the precedent caveats by creating our own type and transforming the `ExoPlanetType.Row` to our own. That will depend on what the use of the data will be, we will see an example in the second part of this episode.\n",
    "\n",
    "Let us try this in `exoWithMaxEntries` and see what we get:\n"
   ]
  },
  {
   "cell_type": "code",
   "execution_count": 23,
   "metadata": {
    "dotnet_interactive": {
     "language": "fsharp"
    },
    "polyglot_notebook": {
     "kernelName": "fsharp"
    },
    "vscode": {
     "languageId": "polyglot-notebook"
    }
   },
   "outputs": [
    {
     "data": {
      "text/html": [
       "<details open=\"open\" class=\"dni-treeview\"><summary><span class=\"dni-code-hint\"><code>(TrES-2 b, Published Confirmed, &lt;a refstr=O_DONOVAN_ET_AL__2006 href=https://ui.adsabs.harvard.edu/abs/2006ApJ...651L..61O/abstract target=ref&gt; O&#39;Donovan et al. 2006 &lt;/a&gt;, , Some(398.61523058823529411764705882), Some(2.470617085), Transit, False, Some(215.3200000), Some(903.86))</code></span></summary><div><table><thead><tr></tr></thead><tbody><tr><td>Item1</td><td><div class=\"dni-plaintext\"><pre>TrES-2 b</pre></div></td></tr><tr><td>Item2</td><td><div class=\"dni-plaintext\"><pre>Published Confirmed</pre></div></td></tr><tr><td>Item3</td><td><div class=\"dni-plaintext\"><pre>&lt;a refstr=O_DONOVAN_ET_AL__2006 href=https://ui.adsabs.harvard.edu/abs/2006ApJ...651L..61O/abstract target=ref&gt; O&#39;Donovan et al. 2006 &lt;/a&gt;</pre></div></td></tr><tr><td>Item4</td><td><div class=\"dni-plaintext\"><pre>&lt;null&gt;</pre></div></td></tr><tr><td>Item5</td><td><details class=\"dni-treeview\"><summary><span class=\"dni-code-hint\"><code>Some(398.61523058823529411764705882)</code></span></summary><div><table><thead><tr></tr></thead><tbody><tr><td>Value</td><td><div class=\"dni-plaintext\"><pre>398.61523058823529411764705882</pre></div></td></tr></tbody></table></div></details></td></tr><tr><td>Item6</td><td><details class=\"dni-treeview\"><summary><span class=\"dni-code-hint\"><code>Some(2.470617085)</code></span></summary><div><table><thead><tr></tr></thead><tbody><tr><td>Value</td><td><div class=\"dni-plaintext\"><pre>2.470617085</pre></div></td></tr></tbody></table></div></details></td></tr><tr><td>Item7</td><td><div class=\"dni-plaintext\"><pre>Transit</pre></div></td></tr><tr><td>Rest</td><td><details class=\"dni-treeview\"><summary><span class=\"dni-code-hint\"><code>(False, Some(215.3200000), Some(903.86))</code></span></summary><div><table><thead><tr></tr></thead><tbody><tr><td>Item1</td><td><div class=\"dni-plaintext\"><pre>False</pre></div></td></tr><tr><td>Item2</td><td><details class=\"dni-treeview\"><summary><span class=\"dni-code-hint\"><code>Some(215.3200000)</code></span></summary><div><table><thead><tr></tr></thead><tbody><tr><td>Value</td><td><div class=\"dni-plaintext\"><pre>215.3200000</pre></div></td></tr></tbody></table></div></details></td></tr><tr><td>Item3</td><td><details class=\"dni-treeview\"><summary><span class=\"dni-code-hint\"><code>Some(903.86)</code></span></summary><div><table><thead><tr></tr></thead><tbody><tr><td>Value</td><td><div class=\"dni-plaintext\"><pre>903.86</pre></div></td></tr></tbody></table></div></details></td></tr></tbody></table></div></details></td></tr></tbody></table></div></details><style>\r\n",
       ".dni-code-hint {\r\n",
       "    font-style: italic;\r\n",
       "    overflow: hidden;\r\n",
       "    white-space: nowrap;\r\n",
       "}\r\n",
       ".dni-treeview {\r\n",
       "    white-space: nowrap;\r\n",
       "}\r\n",
       ".dni-treeview td {\r\n",
       "    vertical-align: top;\r\n",
       "    text-align: start;\r\n",
       "}\r\n",
       "details.dni-treeview {\r\n",
       "    padding-left: 1em;\r\n",
       "}\r\n",
       "table td {\r\n",
       "    text-align: start;\r\n",
       "}\r\n",
       "table tr { \r\n",
       "    vertical-align: top; \r\n",
       "    margin: 0em 0px;\r\n",
       "}\r\n",
       "table tr td pre \r\n",
       "{ \r\n",
       "    vertical-align: top !important; \r\n",
       "    margin: 0em 0px !important;\r\n",
       "} \r\n",
       "table th {\r\n",
       "    text-align: start;\r\n",
       "}\r\n",
       "</style>"
      ]
     },
     "metadata": {},
     "output_type": "display_data"
    }
   ],
   "source": [
    "collapse exoWithMaxEntries"
   ]
  },
  {
   "cell_type": "markdown",
   "metadata": {},
   "source": [
    "Now we can go back to our full list of (possible repeated) planets, group them and collapse them into one entry per named planet:"
   ]
  },
  {
   "cell_type": "code",
   "execution_count": 24,
   "metadata": {
    "dotnet_interactive": {
     "language": "fsharp"
    },
    "polyglot_notebook": {
     "kernelName": "fsharp"
    },
    "vscode": {
     "languageId": "polyglot-notebook"
    }
   },
   "outputs": [],
   "source": [
    "let planets = \n",
    "    confirmed\n",
    "    |> Seq.groupBy (fun p -> p.Pl_name)\n",
    "    |> Seq.map (fun (name, entries) -> collapse entries)\n",
    "    "
   ]
  },
  {
   "cell_type": "code",
   "execution_count": 25,
   "metadata": {
    "dotnet_interactive": {
     "language": "fsharp"
    },
    "polyglot_notebook": {
     "kernelName": "fsharp"
    },
    "vscode": {
     "languageId": "polyglot-notebook"
    }
   },
   "outputs": [
    {
     "data": {
      "text/html": [
       "<div class=\"dni-plaintext\"><pre>5483</pre></div><style>\r\n",
       ".dni-code-hint {\r\n",
       "    font-style: italic;\r\n",
       "    overflow: hidden;\r\n",
       "    white-space: nowrap;\r\n",
       "}\r\n",
       ".dni-treeview {\r\n",
       "    white-space: nowrap;\r\n",
       "}\r\n",
       ".dni-treeview td {\r\n",
       "    vertical-align: top;\r\n",
       "    text-align: start;\r\n",
       "}\r\n",
       "details.dni-treeview {\r\n",
       "    padding-left: 1em;\r\n",
       "}\r\n",
       "table td {\r\n",
       "    text-align: start;\r\n",
       "}\r\n",
       "table tr { \r\n",
       "    vertical-align: top; \r\n",
       "    margin: 0em 0px;\r\n",
       "}\r\n",
       "table tr td pre \r\n",
       "{ \r\n",
       "    vertical-align: top !important; \r\n",
       "    margin: 0em 0px !important;\r\n",
       "} \r\n",
       "table th {\r\n",
       "    text-align: start;\r\n",
       "}\r\n",
       "</style>"
      ]
     },
     "metadata": {},
     "output_type": "display_data"
    }
   ],
   "source": [
    "planets |> Seq.length"
   ]
  },
  {
   "cell_type": "markdown",
   "metadata": {},
   "source": [
    "Good! Now we have the correct number of planets! We can even use the Type Provider to write the new, consolidated data into a file:"
   ]
  },
  {
   "cell_type": "code",
   "execution_count": 26,
   "metadata": {
    "dotnet_interactive": {
     "language": "fsharp"
    },
    "polyglot_notebook": {
     "kernelName": "fsharp"
    },
    "vscode": {
     "languageId": "polyglot-notebook"
    }
   },
   "outputs": [],
   "source": [
    "let myCsv = new ExoPlanetType(planets)\n",
    "let file = myCsv.SaveToString()\n",
    "File.WriteAllText(\"../data/consolidatedExoplanets.csv\", file)"
   ]
  },
  {
   "cell_type": "markdown",
   "metadata": {},
   "source": [
    "Wonderful, we have curated our input list of exoplanets, using only the Type Provider and some helpful functions! In the next part, we will read the consolidated data and plot it..."
   ]
  }
 ],
 "metadata": {
  "language_info": {
   "name": "python"
  },
  "orig_nbformat": 4
 },
 "nbformat": 4,
 "nbformat_minor": 2
}
