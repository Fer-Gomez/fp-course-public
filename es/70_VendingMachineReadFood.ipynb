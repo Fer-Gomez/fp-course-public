{
 "cells": [
  {
   "cell_type": "markdown",
   "metadata": {},
   "source": [
    "## Volviendo a la máquina expendedora"
   ]
  },
  {
   "attachments": {},
   "cell_type": "markdown",
   "metadata": {},
   "source": [
    "Vamos a trabajar con un modelo para los items de nuestra máquina expendedora, que nos han llegado como [archivo](../data/FoodAndDrinks.csv). El modelo es el siguiente:"
   ]
  },
  {
   "cell_type": "code",
   "execution_count": 1,
   "metadata": {
    "dotnet_interactive": {
     "language": "fsharp"
    },
    "polyglot_notebook": {
     "kernelName": "fsharp"
    },
    "vscode": {
     "languageId": "polyglot-notebook"
    }
   },
   "outputs": [],
   "source": [
    "[<Measure>]\n",
    "type oz \n",
    "\n",
    "type FoodType = \n",
    "    FoodType of string \n",
    "\n",
    "type FoodProduct =\n",
    "    | Eat of FoodType \n",
    "    | Drink of FoodType \n",
    "\n",
    "type Brand = \n",
    "    | Brand of string \n",
    " \n",
    "\n",
    "type FoodMachineItem =\n",
    "    {\n",
    "        Brand: Brand\n",
    "        ProductType: FoodProduct \n",
    "        Price: float \n",
    "        Weight: float<oz> \n",
    "    }"
   ]
  },
  {
   "attachments": {},
   "cell_type": "markdown",
   "metadata": {},
   "source": [
    "Algunas funciones de conveniencia:"
   ]
  },
  {
   "cell_type": "code",
   "execution_count": 2,
   "metadata": {
    "dotnet_interactive": {
     "language": "fsharp"
    },
    "polyglot_notebook": {
     "kernelName": "fsharp"
    },
    "vscode": {
     "languageId": "polyglot-notebook"
    }
   },
   "outputs": [],
   "source": [
    "let prettyPrint item = \n",
    "    let (Brand nameBrand) = item.Brand\n",
    "\n",
    "    let foodType = \n",
    "        match item.ProductType with \n",
    "        | Eat (FoodType t) -> t \n",
    "        | Drink (FoodType t) -> t\n",
    "\n",
    "    printfn $\"{foodType} ({nameBrand}, {item.Weight} oz) costs {item.Price}$\""
   ]
  },
  {
   "cell_type": "code",
   "execution_count": 3,
   "metadata": {
    "dotnet_interactive": {
     "language": "fsharp"
    },
    "polyglot_notebook": {
     "kernelName": "fsharp"
    },
    "vscode": {
     "languageId": "polyglot-notebook"
    }
   },
   "outputs": [],
   "source": [
    "let readFile(fileName: string) =  \n",
    "    let lines = File.ReadAllLines(fileName)\n",
    "    lines \n",
    "    "
   ]
  },
  {
   "attachments": {},
   "cell_type": "markdown",
   "metadata": {},
   "source": [
    "Ahora podemos leer los datos:"
   ]
  },
  {
   "cell_type": "code",
   "execution_count": 4,
   "metadata": {
    "dotnet_interactive": {
     "language": "fsharp"
    },
    "polyglot_notebook": {
     "kernelName": "fsharp"
    },
    "vscode": {
     "languageId": "polyglot-notebook"
    }
   },
   "outputs": [],
   "source": [
    "let foodAndDrinkData = \"../data/FoodAndDrinks.csv\"\n",
    "\n",
    "let products = readFile(foodAndDrinkData)\n"
   ]
  },
  {
   "cell_type": "code",
   "execution_count": 5,
   "metadata": {
    "dotnet_interactive": {
     "language": "fsharp"
    },
    "polyglot_notebook": {
     "kernelName": "fsharp"
    },
    "vscode": {
     "languageId": "polyglot-notebook"
    }
   },
   "outputs": [
    {
     "data": {
      "text/html": [
       "<span><a href=\"https://docs.microsoft.com/dotnet/api/system.string[]?view=net-7.0\">System.String[]</a></span>"
      ]
     },
     "metadata": {},
     "output_type": "display_data"
    }
   ],
   "source": [
    "products.GetType()"
   ]
  },
  {
   "cell_type": "code",
   "execution_count": 6,
   "metadata": {
    "dotnet_interactive": {
     "language": "fsharp"
    },
    "polyglot_notebook": {
     "kernelName": "fsharp"
    },
    "vscode": {
     "languageId": "polyglot-notebook"
    }
   },
   "outputs": [
    {
     "name": "stdout",
     "output_type": "stream",
     "text": [
      "\"Food,Brand,Weight/Size,Price,Drinks,Brand,Weight/Size,Price\"\n",
      "\"Chips,Lay's,1 oz,$1.00,Bottled Water,Aquafina,16 oz,$1.50\"\n"
     ]
    }
   ],
   "source": [
    "printfn \"%A\" products[0]\n",
    "printfn \"%A\" products[1]"
   ]
  },
  {
   "cell_type": "code",
   "execution_count": 7,
   "metadata": {
    "dotnet_interactive": {
     "language": "fsharp"
    },
    "polyglot_notebook": {
     "kernelName": "fsharp"
    },
    "vscode": {
     "languageId": "polyglot-notebook"
    }
   },
   "outputs": [
    {
     "name": "stdout",
     "output_type": "stream",
     "text": [
      "0: Food,Brand,Weight/Size,Price,Drinks,Brand,Weight/Size,Price\n",
      "1: Chips,Lay's,1 oz,$1.00,Bottled Water,Aquafina,16 oz,$1.50\n",
      "2: Chips,Doritos,2 oz,$2.00,Bottled Water,Dasani,20 oz,$2.00\n",
      "3: Candy Bars,Snickers,1.5 oz,$1.25,Soda,Coca-Cola,12 oz,$1.50\n",
      "4: Candy Bars,Kit Kat,1.5 oz,$1.25,Soda,Pepsi,20 oz,$2.00\n",
      "5: Granola Bars,Nature Valley,1.5 oz,$1.50,Sports Drinks,Gatorade,20 oz,$2.50\n",
      "6: Cookies,Chips Ahoy,1.5 oz,$1.25,Juice Boxes,Capri Sun,6 oz,$1.00\n",
      "7: Crackers,Cheez-Its,2 oz,$1.50,Energy Drinks,Red Bull,8.4 oz,$3.00\n",
      "8: Nuts,Planters,1 oz,$1.50,Iced Tea,Lipton,16 oz,$1.50\n",
      "9: Popcorn,Pop-Secret,2 oz,$2.00,Lemonade,Minute Maid,16 oz,$1.50\n",
      "10: Beef Jerky,Jack Link's,1 oz,$3.50,Iced Coffee,Starbucks,12 oz,$2.50\n",
      "11: Cup Noodles,Maruchan,3 oz,$1.50,Chocolate,Swiss Miss,8 oz,$2.00\n",
      "12: Pretzels,Rold Gold,1 oz,$1.00,Milk,Nesquik,8 oz,$1.00\n",
      "13: Trail Mix,Planters,1 oz,$1.50,Chocolate Milk,Yoo-hoo,8 oz,$1.00\n",
      "14: Rice Krispie Treats,Kellogg's,1.5 oz,$1.25,Fruit Smoothies,Naked Juice,16 oz,$4.00\n",
      "15: Protein Bars,Quest,2.1 oz,$3.00,,\n"
     ]
    }
   ],
   "source": [
    "products[0..20]\n",
    "|> Seq.iteri (fun i s ->  printfn $\"{i}: {s}\")"
   ]
  },
  {
   "attachments": {},
   "cell_type": "markdown",
   "metadata": {},
   "source": [
    "Qué tenemos que hacer? Veamos un poco cómo nos llega el dato:"
   ]
  },
  {
   "cell_type": "code",
   "execution_count": 8,
   "metadata": {
    "dotnet_interactive": {
     "language": "fsharp"
    },
    "polyglot_notebook": {
     "kernelName": "fsharp"
    },
    "vscode": {
     "languageId": "polyglot-notebook"
    }
   },
   "outputs": [
    {
     "name": "stdout",
     "output_type": "stream",
     "text": [
      "[|\"Chips\"; \"Doritos\"; \"2 oz\"; \"$2.00\"; \"Bottled Water\"; \"Dasani\"; \"20 oz\";\n",
      "  \"$2.00\"|]\n"
     ]
    }
   ],
   "source": [
    "let items =   products[2].Split(',')\n",
    "printfn \"%A\" items"
   ]
  },
  {
   "attachments": {},
   "cell_type": "markdown",
   "metadata": {},
   "source": [
    "Esto es una secuencia (`seq`) que tiene dos items. Podemos hacer \n",
    "\n",
    "- una función que dado este string nos devuelva dos datos `FoodMachineItem`\n",
    "- una función que transforme el peso en un tipo `float<oz>`\n",
    "- una función que transforme el precio en un tipo `float`"
   ]
  },
  {
   "cell_type": "code",
   "execution_count": 9,
   "metadata": {
    "dotnet_interactive": {
     "language": "fsharp"
    },
    "polyglot_notebook": {
     "kernelName": "fsharp"
    },
    "vscode": {
     "languageId": "polyglot-notebook"
    }
   },
   "outputs": [
    {
     "data": {
      "text/html": [
       "<div class=\"dni-plaintext\"><pre>2</pre></div><style>\r\n",
       ".dni-code-hint {\r\n",
       "    font-style: italic;\r\n",
       "    overflow: hidden;\r\n",
       "    white-space: nowrap;\r\n",
       "}\r\n",
       ".dni-treeview {\r\n",
       "    white-space: nowrap;\r\n",
       "}\r\n",
       ".dni-treeview td {\r\n",
       "    vertical-align: top;\r\n",
       "    text-align: start;\r\n",
       "}\r\n",
       "details.dni-treeview {\r\n",
       "    padding-left: 1em;\r\n",
       "}\r\n",
       "table td {\r\n",
       "    text-align: start;\r\n",
       "}\r\n",
       "table tr { \r\n",
       "    vertical-align: top; \r\n",
       "    margin: 0em 0px;\r\n",
       "}\r\n",
       "table tr td pre \r\n",
       "{ \r\n",
       "    vertical-align: top !important; \r\n",
       "    margin: 0em 0px !important;\r\n",
       "} \r\n",
       "table th {\r\n",
       "    text-align: start;\r\n",
       "}\r\n",
       "</style>"
      ]
     },
     "metadata": {},
     "output_type": "display_data"
    }
   ],
   "source": [
    "let price (s:string) =\n",
    "    s.Split('$')[1] |> float\n",
    "    \n",
    "    \n",
    "price \"$2.00\""
   ]
  },
  {
   "cell_type": "code",
   "execution_count": 10,
   "metadata": {
    "dotnet_interactive": {
     "language": "fsharp"
    },
    "polyglot_notebook": {
     "kernelName": "fsharp"
    },
    "vscode": {
     "languageId": "polyglot-notebook"
    }
   },
   "outputs": [
    {
     "name": "stdout",
     "output_type": "stream",
     "text": [
      "20\n"
     ]
    }
   ],
   "source": [
    "let weight (s:string) =\n",
    "    s.Split('o')[0] \n",
    "    |> float\n",
    "    |> (fun v -> v*1.0<oz>)\n",
    "\n",
    "printfn $\"\"\"{weight \"20 oz\"}\"\"\""
   ]
  },
  {
   "cell_type": "code",
   "execution_count": 11,
   "metadata": {
    "dotnet_interactive": {
     "language": "fsharp"
    },
    "polyglot_notebook": {
     "kernelName": "fsharp"
    },
    "vscode": {
     "languageId": "polyglot-notebook"
    }
   },
   "outputs": [],
   "source": [
    "let createItems (s: string) = \n",
    "    let itemList = \n",
    "        s.Split(',')\n",
    "        |> Seq.toList \n",
    "\n",
    "    printfn \"%A\" itemList \n",
    "    let eat = \n",
    "        {\n",
    "            Brand = Brand (itemList[1])\n",
    "            ProductType = Eat (FoodType itemList[0]) \n",
    "            Price = price itemList[3]\n",
    "            Weight = weight itemList[2]\n",
    "        }\n",
    "    let drink = \n",
    "        {\n",
    "            Brand = Brand (itemList[5])\n",
    "            ProductType = Eat (FoodType itemList[4]) \n",
    "            Price = price itemList[7]\n",
    "            Weight = weight itemList[6]\n",
    "        }\n",
    "\n",
    "    (eat,drink)        \n",
    "            \n",
    "\n"
   ]
  },
  {
   "cell_type": "code",
   "execution_count": 12,
   "metadata": {
    "dotnet_interactive": {
     "language": "fsharp"
    },
    "polyglot_notebook": {
     "kernelName": "fsharp"
    },
    "vscode": {
     "languageId": "polyglot-notebook"
    }
   },
   "outputs": [
    {
     "name": "stdout",
     "output_type": "stream",
     "text": [
      "[|\"Chips\"; \"Doritos\"; \"2 oz\"; \"$2.00\"; \"Bottled Water\"; \"Dasani\"; \"20 oz\";\n",
      "  \"$2.00\"|]\n",
      "[\"Chips\"; \"Doritos\"; \"2 oz\"; \"$2.00\"; \"Bottled Water\"; \"Dasani\"; \"20 oz\";\n",
      " \"$2.00\"]\n"
     ]
    },
    {
     "data": {
      "text/html": [
       "<details open=\"open\" class=\"dni-treeview\"><summary><span class=\"dni-code-hint\"><code>({ Brand = Brand \"Doritos\"\\n  ProductType = Eat (FoodType \"Chips\")\\n  Price = 2.0\\n  Weight = 2.0 }, { Brand = Brand \"Dasani\"\\n  ProductType = Eat (FoodType \"Bottled Water\")\\n  Price = 2.0\\n  Weight = 20.0 })</code></span></summary><div><table><thead><tr></tr></thead><tbody><tr><td>Item1</td><td><details class=\"dni-treeview\"><summary><span class=\"dni-code-hint\"><code>{ Brand = Brand \"Doritos\"\\n  ProductType = Eat (FoodType \"Chips\")\\n  Price = 2.0\\n  Weight = 2.0 }</code></span></summary><div><table><thead><tr></tr></thead><tbody><tr><td>Brand</td><td><details class=\"dni-treeview\"><summary><span class=\"dni-code-hint\"><code>Brand \"Doritos\"</code></span></summary><div><table><thead><tr></tr></thead><tbody><tr><td>Item</td><td>Doritos</td></tr></tbody></table></div></details></td></tr><tr><td>ProductType</td><td><details class=\"dni-treeview\"><summary><span class=\"dni-code-hint\"><code>Eat (FoodType \"Chips\")</code></span></summary><div><table><thead><tr></tr></thead><tbody><tr><td>Item</td><td><details class=\"dni-treeview\"><summary><span class=\"dni-code-hint\"><code>FoodType \"Chips\"</code></span></summary><div><table><thead><tr></tr></thead><tbody><tr><td>Item</td><td>Chips</td></tr></tbody></table></div></details></td></tr></tbody></table></div></details></td></tr><tr><td>Price</td><td><div class=\"dni-plaintext\"><pre>2</pre></div></td></tr><tr><td>Weight</td><td><div class=\"dni-plaintext\"><pre>2</pre></div></td></tr></tbody></table></div></details></td></tr><tr><td>Item2</td><td><details class=\"dni-treeview\"><summary><span class=\"dni-code-hint\"><code>{ Brand = Brand \"Dasani\"\\n  ProductType = Eat (FoodType \"Bottled Water\")\\n  Price = 2.0\\n  Weight = 20.0 }</code></span></summary><div><table><thead><tr></tr></thead><tbody><tr><td>Brand</td><td><details class=\"dni-treeview\"><summary><span class=\"dni-code-hint\"><code>Brand \"Dasani\"</code></span></summary><div><table><thead><tr></tr></thead><tbody><tr><td>Item</td><td>Dasani</td></tr></tbody></table></div></details></td></tr><tr><td>ProductType</td><td><details class=\"dni-treeview\"><summary><span class=\"dni-code-hint\"><code>Eat (FoodType \"Bottled Water\")</code></span></summary><div><table><thead><tr></tr></thead><tbody><tr><td>Item</td><td><details class=\"dni-treeview\"><summary><span class=\"dni-code-hint\"><code>FoodType \"Bottled Water\"</code></span></summary><div><table><thead><tr></tr></thead><tbody><tr><td>Item</td><td>Bottled Water</td></tr></tbody></table></div></details></td></tr></tbody></table></div></details></td></tr><tr><td>Price</td><td><div class=\"dni-plaintext\"><pre>2</pre></div></td></tr><tr><td>Weight</td><td><div class=\"dni-plaintext\"><pre>20</pre></div></td></tr></tbody></table></div></details></td></tr></tbody></table></div></details><style>\r\n",
       ".dni-code-hint {\r\n",
       "    font-style: italic;\r\n",
       "    overflow: hidden;\r\n",
       "    white-space: nowrap;\r\n",
       "}\r\n",
       ".dni-treeview {\r\n",
       "    white-space: nowrap;\r\n",
       "}\r\n",
       ".dni-treeview td {\r\n",
       "    vertical-align: top;\r\n",
       "    text-align: start;\r\n",
       "}\r\n",
       "details.dni-treeview {\r\n",
       "    padding-left: 1em;\r\n",
       "}\r\n",
       "table td {\r\n",
       "    text-align: start;\r\n",
       "}\r\n",
       "table tr { \r\n",
       "    vertical-align: top; \r\n",
       "    margin: 0em 0px;\r\n",
       "}\r\n",
       "table tr td pre \r\n",
       "{ \r\n",
       "    vertical-align: top !important; \r\n",
       "    margin: 0em 0px !important;\r\n",
       "} \r\n",
       "table th {\r\n",
       "    text-align: start;\r\n",
       "}\r\n",
       "</style>"
      ]
     },
     "metadata": {},
     "output_type": "display_data"
    }
   ],
   "source": [
    "let items =   products[2].Split(',')\n",
    "printfn \"%A\" items\n",
    "createItems products[2]"
   ]
  },
  {
   "cell_type": "code",
   "execution_count": 13,
   "metadata": {
    "dotnet_interactive": {
     "language": "fsharp"
    },
    "polyglot_notebook": {
     "kernelName": "fsharp"
    },
    "vscode": {
     "languageId": "polyglot-notebook"
    }
   },
   "outputs": [
    {
     "name": "stdout",
     "output_type": "stream",
     "text": [
      "[\"Chips\"; \"Lay's\"; \"1 oz\"; \"$1.00\"; \"Bottled Water\"; \"Aquafina\"; \"16 oz\";\n",
      " \"$1.50\"]\n",
      "[\"Chips\"; \"Doritos\"; \"2 oz\"; \"$2.00\"; \"Bottled Water\"; \"Dasani\"; \"20 oz\";\n",
      " \"$2.00\"]\n",
      "[\"Candy Bars\"; \"Snickers\"; \"1.5 oz\"; \"$1.25\"; \"Soda\"; \"Coca-Cola\"; \"12 oz\";\n",
      " \"$1.50\"]\n",
      "[\"Candy Bars\"; \"Kit Kat\"; \"1.5 oz\"; \"$1.25\"; \"Soda\"; \"Pepsi\"; \"20 oz\"; \"$2.00\"]\n",
      "[\"Granola Bars\"; \"Nature Valley\"; \"1.5 oz\"; \"$1.50\"; \"Sports Drinks\"; \"Gatorade\";\n",
      " \"20 oz\"; \"$2.50\"]\n",
      "[\"Cookies\"; \"Chips Ahoy\"; \"1.5 oz\"; \"$1.25\"; \"Juice Boxes\"; \"Capri Sun\"; \"6 oz\";\n",
      " \"$1.00\"]\n",
      "[\"Crackers\"; \"Cheez-Its\"; \"2 oz\"; \"$1.50\"; \"Energy Drinks\"; \"Red Bull\"; \"8.4 oz\";\n",
      " \"$3.00\"]\n",
      "[\"Nuts\"; \"Planters\"; \"1 oz\"; \"$1.50\"; \"Iced Tea\"; \"Lipton\"; \"16 oz\"; \"$1.50\"]\n",
      "[\"Popcorn\"; \"Pop-Secret\"; \"2 oz\"; \"$2.00\"; \"Lemonade\"; \"Minute Maid\"; \"16 oz\";\n",
      " \"$1.50\"]\n",
      "[\"Beef Jerky\"; \"Jack Link's\"; \"1 oz\"; \"$3.50\"; \"Iced Coffee\"; \"Starbucks\";\n",
      " \"12 oz\"; \"$2.50\"]\n",
      "[\"Cup Noodles\"; \"Maruchan\"; \"3 oz\"; \"$1.50\"; \"Chocolate\"; \"Swiss Miss\"; \"8 oz\";\n",
      " \"$2.00\"]\n",
      "[\"Pretzels\"; \"Rold Gold\"; \"1 oz\"; \"$1.00\"; \"Milk\"; \"Nesquik\"; \"8 oz\"; \"$1.00\"]\n",
      "[\"Trail Mix\"; \"Planters\"; \"1 oz\"; \"$1.50\"; \"Chocolate Milk\"; \"Yoo-hoo\"; \"8 oz\";\n",
      " \"$1.00\"]\n",
      "[\"Rice Krispie Treats\"; \"Kellogg's\"; \"1.5 oz\"; \"$1.25\"; \"Fruit Smoothies\";\n",
      " \"Naked Juice\"; \"16 oz\"; \"$4.00\"]\n",
      "[\"Protein Bars\"; \"Quest\"; \"2.1 oz\"; \"$3.00\"; \"\"; \"\"]\n"
     ]
    },
    {
     "ename": "Error",
     "evalue": "System.ArgumentException: The index was outside the range of elements in the list. (Parameter 'n')\n   at Microsoft.FSharp.Collections.PrivateListHelpers.nth[a](FSharpList`1 l, Int32 n) in D:\\a\\_work\\1\\s\\src\\FSharp.Core\\prim-types.fs:line 4026\n   at FSI_0015.createItems(String s)\n   at FSI_0017.it@2-1.Invoke(String p)\n   at Microsoft.FSharp.Collections.Internal.IEnumerator.map@99.DoMoveNext(b& curr) in D:\\a\\_work\\1\\s\\src\\FSharp.Core\\seq.fs:line 105\n   at Microsoft.FSharp.Collections.Internal.IEnumerator.MapEnumerator`1.System.Collections.IEnumerator.MoveNext() in D:\\a\\_work\\1\\s\\src\\FSharp.Core\\seq.fs:line 88\n   at System.Linq.Enumerable.SelectIterator[TSource,TResult](IEnumerable`1 source, Func`3 selector)+MoveNext()\n   at Microsoft.DotNet.Interactive.Formatting.EnumerableExtensions.TakeAndCountRemaining[T](IEnumerable`1 source, Int32 count, Boolean forceCountRemainder) in D:\\a\\_work\\1\\s\\src\\Microsoft.DotNet.Interactive.Formatting\\EnumerableExtensions.cs:line 23\n   at Microsoft.DotNet.Interactive.Formatting.HtmlFormatter`1.<>c__DisplayClass7_0.<CreateTableFormatterForAnyEnumerable>g__BuildTable|4(T source, FormatContext context, Boolean summarize) in D:\\a\\_work\\1\\s\\src\\Microsoft.DotNet.Interactive.Formatting\\HtmlFormatter{T}.cs:line 99\n   at Microsoft.DotNet.Interactive.Formatting.HtmlFormatter`1.<>c__DisplayClass7_0.<CreateTableFormatterForAnyEnumerable>b__3(T value, FormatContext context) in D:\\a\\_work\\1\\s\\src\\Microsoft.DotNet.Interactive.Formatting\\HtmlFormatter{T}.cs:line 83\n   at Microsoft.DotNet.Interactive.Formatting.HtmlFormatter`1.Format(T value, FormatContext context) in D:\\a\\_work\\1\\s\\src\\Microsoft.DotNet.Interactive.Formatting\\HtmlFormatter{T}.cs:line 53\n   at Microsoft.DotNet.Interactive.Formatting.TypeFormatter`1.Microsoft.DotNet.Interactive.Formatting.ITypeFormatter.Format(Object instance, FormatContext context) in D:\\a\\_work\\1\\s\\src\\Microsoft.DotNet.Interactive.Formatting\\TypeFormatter{T}.cs:line 23\n   at Microsoft.DotNet.Interactive.Formatting.HtmlFormatter.<>c.<.cctor>b__0_12(IEnumerable value, FormatContext context) in D:\\a\\_work\\1\\s\\src\\Microsoft.DotNet.Interactive.Formatting\\HtmlFormatter.cs:line 198\n   at Microsoft.DotNet.Interactive.Formatting.HtmlFormatter`1.Format(T value, FormatContext context) in D:\\a\\_work\\1\\s\\src\\Microsoft.DotNet.Interactive.Formatting\\HtmlFormatter{T}.cs:line 53\n   at Microsoft.DotNet.Interactive.Formatting.TypeFormatter`1.Microsoft.DotNet.Interactive.Formatting.ITypeFormatter.Format(Object instance, FormatContext context) in D:\\a\\_work\\1\\s\\src\\Microsoft.DotNet.Interactive.Formatting\\TypeFormatter{T}.cs:line 23\n   at Microsoft.DotNet.Interactive.Formatting.Formatter.<>c__DisplayClass53_0.<TryInferPreferredFormatter>b__4(Object value, FormatContext context) in D:\\a\\_work\\1\\s\\src\\Microsoft.DotNet.Interactive.Formatting\\Formatter.cs:line 702\n   at Microsoft.DotNet.Interactive.Formatting.AnonymousTypeFormatter`1.Format(T instance, FormatContext context) in D:\\a\\_work\\1\\s\\src\\Microsoft.DotNet.Interactive.Formatting\\AnonymousTypeFormatter{T}.cs:line 30\n   at Microsoft.DotNet.Interactive.Formatting.TypeFormatter`1.Microsoft.DotNet.Interactive.Formatting.ITypeFormatter.Format(Object instance, FormatContext context) in D:\\a\\_work\\1\\s\\src\\Microsoft.DotNet.Interactive.Formatting\\TypeFormatter{T}.cs:line 23\n   at Microsoft.DotNet.Interactive.Formatting.Formatter`1.FormatTo(T obj, FormatContext context, String mimeType) in D:\\a\\_work\\1\\s\\src\\Microsoft.DotNet.Interactive.Formatting\\Formatter{T}.cs:line 79\n   at Microsoft.DotNet.Interactive.Formatting.Formatter.FormatTo[T](T obj, FormatContext context, String mimeType) in D:\\a\\_work\\1\\s\\src\\Microsoft.DotNet.Interactive.Formatting\\Formatter.cs:line 308\n   at Microsoft.DotNet.Interactive.Formatting.Formatter.ToDisplayString(Object obj, String mimeType) in D:\\a\\_work\\1\\s\\src\\Microsoft.DotNet.Interactive.Formatting\\Formatter.cs:line 265\n   at Microsoft.DotNet.Interactive.FormattedValue.<>c__DisplayClass7_0.<FromObject>b__0(String mimeType) in D:\\a\\_work\\1\\s\\src\\Microsoft.DotNet.Interactive\\FormattedValue.cs:line 37\n   at System.Linq.Enumerable.SelectArrayIterator`2.ToArray()\n   at Microsoft.DotNet.Interactive.FormattedValue.FromObject(Object value, String[] mimeTypes) in D:\\a\\_work\\1\\s\\src\\Microsoft.DotNet.Interactive\\FormattedValue.cs:line 36\n   at <StartupCode$Microsoft-DotNet-Interactive-FSharp>.$FSharpKernel.clo@196-5.MoveNext() in D:\\a\\_work\\1\\s\\src\\Microsoft.DotNet.Interactive.FSharp\\FSharpKernel.fs:line 223\n   at Microsoft.DotNet.Interactive.Kernel.HandleAsync(KernelCommand command, KernelInvocationContext context) in D:\\a\\_work\\1\\s\\src\\Microsoft.DotNet.Interactive\\Kernel.cs:line 325\n   at Microsoft.DotNet.Interactive.KernelCommandPipeline.<BuildPipeline>b__6_0(KernelCommand command, KernelInvocationContext context, KernelPipelineContinuation _) in D:\\a\\_work\\1\\s\\src\\Microsoft.DotNet.Interactive\\KernelCommandPipeline.cs:line 60\n   at Microsoft.DotNet.Interactive.KernelCommandPipeline.SendAsync(KernelCommand command, KernelInvocationContext context) in D:\\a\\_work\\1\\s\\src\\Microsoft.DotNet.Interactive\\KernelCommandPipeline.cs:line 41",
     "output_type": "error",
     "traceback": [
      "System.ArgumentException: The index was outside the range of elements in the list. (Parameter 'n')\n",
      "   at Microsoft.FSharp.Collections.PrivateListHelpers.nth[a](FSharpList`1 l, Int32 n) in D:\\a\\_work\\1\\s\\src\\FSharp.Core\\prim-types.fs:line 4026\n",
      "   at FSI_0015.createItems(String s)\n",
      "   at FSI_0017.it@2-1.Invoke(String p)\n",
      "   at Microsoft.FSharp.Collections.Internal.IEnumerator.map@99.DoMoveNext(b& curr) in D:\\a\\_work\\1\\s\\src\\FSharp.Core\\seq.fs:line 105\n",
      "   at Microsoft.FSharp.Collections.Internal.IEnumerator.MapEnumerator`1.System.Collections.IEnumerator.MoveNext() in D:\\a\\_work\\1\\s\\src\\FSharp.Core\\seq.fs:line 88\n",
      "   at System.Linq.Enumerable.SelectIterator[TSource,TResult](IEnumerable`1 source, Func`3 selector)+MoveNext()\n",
      "   at Microsoft.DotNet.Interactive.Formatting.EnumerableExtensions.TakeAndCountRemaining[T](IEnumerable`1 source, Int32 count, Boolean forceCountRemainder) in D:\\a\\_work\\1\\s\\src\\Microsoft.DotNet.Interactive.Formatting\\EnumerableExtensions.cs:line 23\n",
      "   at Microsoft.DotNet.Interactive.Formatting.HtmlFormatter`1.<>c__DisplayClass7_0.<CreateTableFormatterForAnyEnumerable>g__BuildTable|4(T source, FormatContext context, Boolean summarize) in D:\\a\\_work\\1\\s\\src\\Microsoft.DotNet.Interactive.Formatting\\HtmlFormatter{T}.cs:line 99\n",
      "   at Microsoft.DotNet.Interactive.Formatting.HtmlFormatter`1.<>c__DisplayClass7_0.<CreateTableFormatterForAnyEnumerable>b__3(T value, FormatContext context) in D:\\a\\_work\\1\\s\\src\\Microsoft.DotNet.Interactive.Formatting\\HtmlFormatter{T}.cs:line 83\n",
      "   at Microsoft.DotNet.Interactive.Formatting.HtmlFormatter`1.Format(T value, FormatContext context) in D:\\a\\_work\\1\\s\\src\\Microsoft.DotNet.Interactive.Formatting\\HtmlFormatter{T}.cs:line 53\n",
      "   at Microsoft.DotNet.Interactive.Formatting.TypeFormatter`1.Microsoft.DotNet.Interactive.Formatting.ITypeFormatter.Format(Object instance, FormatContext context) in D:\\a\\_work\\1\\s\\src\\Microsoft.DotNet.Interactive.Formatting\\TypeFormatter{T}.cs:line 23\n",
      "   at Microsoft.DotNet.Interactive.Formatting.HtmlFormatter.<>c.<.cctor>b__0_12(IEnumerable value, FormatContext context) in D:\\a\\_work\\1\\s\\src\\Microsoft.DotNet.Interactive.Formatting\\HtmlFormatter.cs:line 198\n",
      "   at Microsoft.DotNet.Interactive.Formatting.HtmlFormatter`1.Format(T value, FormatContext context) in D:\\a\\_work\\1\\s\\src\\Microsoft.DotNet.Interactive.Formatting\\HtmlFormatter{T}.cs:line 53\n",
      "   at Microsoft.DotNet.Interactive.Formatting.TypeFormatter`1.Microsoft.DotNet.Interactive.Formatting.ITypeFormatter.Format(Object instance, FormatContext context) in D:\\a\\_work\\1\\s\\src\\Microsoft.DotNet.Interactive.Formatting\\TypeFormatter{T}.cs:line 23\n",
      "   at Microsoft.DotNet.Interactive.Formatting.Formatter.<>c__DisplayClass53_0.<TryInferPreferredFormatter>b__4(Object value, FormatContext context) in D:\\a\\_work\\1\\s\\src\\Microsoft.DotNet.Interactive.Formatting\\Formatter.cs:line 702\n",
      "   at Microsoft.DotNet.Interactive.Formatting.AnonymousTypeFormatter`1.Format(T instance, FormatContext context) in D:\\a\\_work\\1\\s\\src\\Microsoft.DotNet.Interactive.Formatting\\AnonymousTypeFormatter{T}.cs:line 30\n",
      "   at Microsoft.DotNet.Interactive.Formatting.TypeFormatter`1.Microsoft.DotNet.Interactive.Formatting.ITypeFormatter.Format(Object instance, FormatContext context) in D:\\a\\_work\\1\\s\\src\\Microsoft.DotNet.Interactive.Formatting\\TypeFormatter{T}.cs:line 23\n",
      "   at Microsoft.DotNet.Interactive.Formatting.Formatter`1.FormatTo(T obj, FormatContext context, String mimeType) in D:\\a\\_work\\1\\s\\src\\Microsoft.DotNet.Interactive.Formatting\\Formatter{T}.cs:line 79\n",
      "   at Microsoft.DotNet.Interactive.Formatting.Formatter.FormatTo[T](T obj, FormatContext context, String mimeType) in D:\\a\\_work\\1\\s\\src\\Microsoft.DotNet.Interactive.Formatting\\Formatter.cs:line 308\n",
      "   at Microsoft.DotNet.Interactive.Formatting.Formatter.ToDisplayString(Object obj, String mimeType) in D:\\a\\_work\\1\\s\\src\\Microsoft.DotNet.Interactive.Formatting\\Formatter.cs:line 265\n",
      "   at Microsoft.DotNet.Interactive.FormattedValue.<>c__DisplayClass7_0.<FromObject>b__0(String mimeType) in D:\\a\\_work\\1\\s\\src\\Microsoft.DotNet.Interactive\\FormattedValue.cs:line 37\n",
      "   at System.Linq.Enumerable.SelectArrayIterator`2.ToArray()\n",
      "   at Microsoft.DotNet.Interactive.FormattedValue.FromObject(Object value, String[] mimeTypes) in D:\\a\\_work\\1\\s\\src\\Microsoft.DotNet.Interactive\\FormattedValue.cs:line 36\n",
      "   at <StartupCode$Microsoft-DotNet-Interactive-FSharp>.$FSharpKernel.clo@196-5.MoveNext() in D:\\a\\_work\\1\\s\\src\\Microsoft.DotNet.Interactive.FSharp\\FSharpKernel.fs:line 223\n",
      "   at Microsoft.DotNet.Interactive.Kernel.HandleAsync(KernelCommand command, KernelInvocationContext context) in D:\\a\\_work\\1\\s\\src\\Microsoft.DotNet.Interactive\\Kernel.cs:line 325\n",
      "   at Microsoft.DotNet.Interactive.KernelCommandPipeline.<BuildPipeline>b__6_0(KernelCommand command, KernelInvocationContext context, KernelPipelineContinuation _) in D:\\a\\_work\\1\\s\\src\\Microsoft.DotNet.Interactive\\KernelCommandPipeline.cs:line 60\n",
      "   at Microsoft.DotNet.Interactive.KernelCommandPipeline.SendAsync(KernelCommand command, KernelInvocationContext context) in D:\\a\\_work\\1\\s\\src\\Microsoft.DotNet.Interactive\\KernelCommandPipeline.cs:line 41"
     ]
    }
   ],
   "source": [
    "products[1..]\n",
    "|> Seq.map (fun p -> createItems p)"
   ]
  },
  {
   "attachments": {},
   "cell_type": "markdown",
   "metadata": {},
   "source": [
    "### Tratando con datos que no están\n",
    "\n",
    "La forma que F# nos ofrece para tratar con datos que no existen es el tipo `option`: \n",
    "\n",
    "```fsharp\n",
    "type Option<'a> =       \n",
    "   | Some of 'a           // valid value\n",
    "   | None                 // missing\n",
    "```"
   ]
  },
  {
   "cell_type": "code",
   "execution_count": 14,
   "metadata": {
    "dotnet_interactive": {
     "language": "fsharp"
    },
    "polyglot_notebook": {
     "kernelName": "fsharp"
    },
    "vscode": {
     "languageId": "polyglot-notebook"
    }
   },
   "outputs": [
    {
     "name": "stdout",
     "output_type": "stream",
     "text": [
      "Some \"hola\"\n",
      "None\n"
     ]
    }
   ],
   "source": [
    "let emptyStringAsOption (s:string) = \n",
    "\n",
    "    if (String.IsNullOrEmpty(s)) then \n",
    "        None \n",
    "    else \n",
    "        Some s\n",
    "\n",
    "printfn \"%A\" (emptyStringAsOption \"hola\")\n",
    "printfn \"%A\" (emptyStringAsOption \"\")        "
   ]
  },
  {
   "attachments": {},
   "cell_type": "markdown",
   "metadata": {},
   "source": [
    "El tipo `option` tiene métodos similares a los del tipo `Result`"
   ]
  },
  {
   "cell_type": "code",
   "execution_count": 15,
   "metadata": {
    "dotnet_interactive": {
     "language": "fsharp"
    },
    "polyglot_notebook": {
     "kernelName": "fsharp"
    },
    "vscode": {
     "languageId": "polyglot-notebook"
    }
   },
   "outputs": [
    {
     "name": "stdout",
     "output_type": "stream",
     "text": [
      "Some 43\n",
      "None\n"
     ]
    }
   ],
   "source": [
    "let tryParseInt (s:string) = \n",
    "    if (s |> Seq.forall Char.IsDigit) then \n",
    "        Some (int s)\n",
    "    else \n",
    "        None \n",
    "\n",
    "printfn \"%A\" (tryParseInt \"43\")\n",
    "\n",
    "printfn \"%A\" (tryParseInt \"Messi\")\n"
   ]
  },
  {
   "cell_type": "code",
   "execution_count": 16,
   "metadata": {
    "dotnet_interactive": {
     "language": "fsharp"
    },
    "polyglot_notebook": {
     "kernelName": "fsharp"
    },
    "vscode": {
     "languageId": "polyglot-notebook"
    }
   },
   "outputs": [],
   "source": [
    "let divisionBy2 s = \n",
    "    s\n",
    "    |> tryParseInt\n",
    "    |> Option.map (fun n -> n/2)\n",
    "\n"
   ]
  },
  {
   "cell_type": "code",
   "execution_count": 17,
   "metadata": {
    "dotnet_interactive": {
     "language": "fsharp"
    },
    "polyglot_notebook": {
     "kernelName": "fsharp"
    },
    "vscode": {
     "languageId": "polyglot-notebook"
    }
   },
   "outputs": [
    {
     "name": "stdout",
     "output_type": "stream",
     "text": [
      "Some 21\n",
      "None\n"
     ]
    }
   ],
   "source": [
    "printfn \"%A\" (divisionBy2 \"43\")   \n",
    "printfn \"%A\" (divisionBy2 \"Messi\") "
   ]
  },
  {
   "attachments": {},
   "cell_type": "markdown",
   "metadata": {},
   "source": [
    "Luego de esta introducción, volvamos a mirar nuestros datos. El problema lo tenemos en la última línea:"
   ]
  },
  {
   "cell_type": "code",
   "execution_count": 18,
   "metadata": {
    "dotnet_interactive": {
     "language": "fsharp"
    },
    "polyglot_notebook": {
     "kernelName": "fsharp"
    },
    "vscode": {
     "languageId": "polyglot-notebook"
    }
   },
   "outputs": [
    {
     "data": {
      "text/plain": [
       "Protein Bars,Quest,2.1 oz,$3.00,,"
      ]
     },
     "metadata": {},
     "output_type": "display_data"
    }
   ],
   "source": [
    "products[15]"
   ]
  },
  {
   "cell_type": "code",
   "execution_count": 19,
   "metadata": {
    "dotnet_interactive": {
     "language": "fsharp"
    },
    "polyglot_notebook": {
     "kernelName": "fsharp"
    },
    "vscode": {
     "languageId": "polyglot-notebook"
    }
   },
   "outputs": [
    {
     "data": {
      "text/html": [
       "<div class=\"dni-plaintext\"><pre>[ Protein Bars, Quest, 2.1 oz, $3.00, ,  ]</pre></div><style>\r\n",
       ".dni-code-hint {\r\n",
       "    font-style: italic;\r\n",
       "    overflow: hidden;\r\n",
       "    white-space: nowrap;\r\n",
       "}\r\n",
       ".dni-treeview {\r\n",
       "    white-space: nowrap;\r\n",
       "}\r\n",
       ".dni-treeview td {\r\n",
       "    vertical-align: top;\r\n",
       "    text-align: start;\r\n",
       "}\r\n",
       "details.dni-treeview {\r\n",
       "    padding-left: 1em;\r\n",
       "}\r\n",
       "table td {\r\n",
       "    text-align: start;\r\n",
       "}\r\n",
       "table tr { \r\n",
       "    vertical-align: top; \r\n",
       "    margin: 0em 0px;\r\n",
       "}\r\n",
       "table tr td pre \r\n",
       "{ \r\n",
       "    vertical-align: top !important; \r\n",
       "    margin: 0em 0px !important;\r\n",
       "} \r\n",
       "table th {\r\n",
       "    text-align: start;\r\n",
       "}\r\n",
       "</style>"
      ]
     },
     "metadata": {},
     "output_type": "display_data"
    }
   ],
   "source": [
    "products[15].Split(',')"
   ]
  },
  {
   "cell_type": "code",
   "execution_count": 20,
   "metadata": {
    "dotnet_interactive": {
     "language": "fsharp"
    },
    "polyglot_notebook": {
     "kernelName": "fsharp"
    },
    "vscode": {
     "languageId": "polyglot-notebook"
    }
   },
   "outputs": [],
   "source": [
    "let createItemsRobust (s: string) = \n",
    "    let itemList = \n",
    "        s.Split(',')\n",
    "        |> Seq.toList \n",
    "\n",
    "    // printfn \"%A\" itemList \n",
    "    let eat = \n",
    "        {\n",
    "            Brand = Brand (itemList[1])\n",
    "            ProductType = Eat (FoodType itemList[0]) \n",
    "            Price = price itemList[3]\n",
    "            Weight = weight itemList[2]\n",
    "        }        \n",
    "\n",
    "    let drink = \n",
    "        if (String.IsNullOrEmpty(itemList[4])) then \n",
    "            None \n",
    "        else \n",
    "            {\n",
    "                Brand = Brand (itemList[5])\n",
    "                ProductType = Eat (FoodType itemList[4]) \n",
    "                Price = price itemList[7]\n",
    "                Weight = weight itemList[6]\n",
    "            } |> Some \n",
    "\n",
    "    (eat,drink)        \n",
    "            \n",
    "\n"
   ]
  },
  {
   "cell_type": "code",
   "execution_count": 21,
   "metadata": {
    "dotnet_interactive": {
     "language": "fsharp"
    },
    "polyglot_notebook": {
     "kernelName": "fsharp"
    },
    "vscode": {
     "languageId": "polyglot-notebook"
    }
   },
   "outputs": [
    {
     "name": "stdout",
     "output_type": "stream",
     "text": [
      "({ Brand = Brand \"Lay's\"\n",
      "   ProductType = Eat (FoodType \"Chips\")\n",
      "   Price = 1.0\n",
      "   Weight = 1.0 }, Some { Brand = Brand \"Aquafina\"\n",
      "                          ProductType = Eat (FoodType \"Bottled Water\")\n",
      "                          Price = 1.5\n",
      "                          Weight = 16.0 })\n",
      "({ Brand = Brand \"Doritos\"\n",
      "   ProductType = Eat (FoodType \"Chips\")\n",
      "   Price = 2.0\n",
      "   Weight = 2.0 }, Some { Brand = Brand \"Dasani\"\n",
      "                          ProductType = Eat (FoodType \"Bottled Water\")\n",
      "                          Price = 2.0\n",
      "                          Weight = 20.0 })\n",
      "({ Brand = Brand \"Snickers\"\n",
      "   ProductType = Eat (FoodType \"Candy Bars\")\n",
      "   Price = 1.25\n",
      "   Weight = 1.5 }, Some { Brand = Brand \"Coca-Cola\"\n",
      "                          ProductType = Eat (FoodType \"Soda\")\n",
      "                          Price = 1.5\n",
      "                          Weight = 12.0 })\n",
      "({ Brand = Brand \"Kit Kat\"\n",
      "   ProductType = Eat (FoodType \"Candy Bars\")\n",
      "   Price = 1.25\n",
      "   Weight = 1.5 }, Some { Brand = Brand \"Pepsi\"\n",
      "                          ProductType = Eat (FoodType \"Soda\")\n",
      "                          Price = 2.0\n",
      "                          Weight = 20.0 })\n",
      "({ Brand = Brand \"Nature Valley\"\n",
      "   ProductType = Eat (FoodType \"Granola Bars\")\n",
      "   Price = 1.5\n",
      "   Weight = 1.5 }, Some { Brand = Brand \"Gatorade\"\n",
      "                          ProductType = Eat (FoodType \"Sports Drinks\")\n",
      "                          Price = 2.5\n",
      "                          Weight = 20.0 })\n",
      "({ Brand = Brand \"Chips Ahoy\"\n",
      "   ProductType = Eat (FoodType \"Cookies\")\n",
      "   Price = 1.25\n",
      "   Weight = 1.5 }, Some { Brand = Brand \"Capri Sun\"\n",
      "                          ProductType = Eat (FoodType \"Juice Boxes\")\n",
      "                          Price = 1.0\n",
      "                          Weight = 6.0 })\n",
      "({ Brand = Brand \"Cheez-Its\"\n",
      "   ProductType = Eat (FoodType \"Crackers\")\n",
      "   Price = 1.5\n",
      "   Weight = 2.0 }, Some { Brand = Brand \"Red Bull\"\n",
      "                          ProductType = Eat (FoodType \"Energy Drinks\")\n",
      "                          Price = 3.0\n",
      "                          Weight = 8.4 })\n",
      "({ Brand = Brand \"Planters\"\n",
      "   ProductType = Eat (FoodType \"Nuts\")\n",
      "   Price = 1.5\n",
      "   Weight = 1.0 }, Some { Brand = Brand \"Lipton\"\n",
      "                          ProductType = Eat (FoodType \"Iced Tea\")\n",
      "                          Price = 1.5\n",
      "                          Weight = 16.0 })\n",
      "({ Brand = Brand \"Pop-Secret\"\n",
      "   ProductType = Eat (FoodType \"Popcorn\")\n",
      "   Price = 2.0\n",
      "   Weight = 2.0 }, Some { Brand = Brand \"Minute Maid\"\n",
      "                          ProductType = Eat (FoodType \"Lemonade\")\n",
      "                          Price = 1.5\n",
      "                          Weight = 16.0 })\n",
      "({ Brand = Brand \"Jack Link's\"\n",
      "   ProductType = Eat (FoodType \"Beef Jerky\")\n",
      "   Price = 3.5\n",
      "   Weight = 1.0 }, Some { Brand = Brand \"Starbucks\"\n",
      "                          ProductType = Eat (FoodType \"Iced Coffee\")\n",
      "                          Price = 2.5\n",
      "                          Weight = 12.0 })\n",
      "({ Brand = Brand \"Maruchan\"\n",
      "   ProductType = Eat (FoodType \"Cup Noodles\")\n",
      "   Price = 1.5\n",
      "   Weight = 3.0 }, Some { Brand = Brand \"Swiss Miss\"\n",
      "                          ProductType = Eat (FoodType \"Chocolate\")\n",
      "                          Price = 2.0\n",
      "                          Weight = 8.0 })\n",
      "({ Brand = Brand \"Rold Gold\"\n",
      "   ProductType = Eat (FoodType \"Pretzels\")\n",
      "   Price = 1.0\n",
      "   Weight = 1.0 }, Some { Brand = Brand \"Nesquik\"\n",
      "                          ProductType = Eat (FoodType \"Milk\")\n",
      "                          Price = 1.0\n",
      "                          Weight = 8.0 })\n",
      "({ Brand = Brand \"Planters\"\n",
      "   ProductType = Eat (FoodType \"Trail Mix\")\n",
      "   Price = 1.5\n",
      "   Weight = 1.0 }, Some { Brand = Brand \"Yoo-hoo\"\n",
      "                          ProductType = Eat (FoodType \"Chocolate Milk\")\n",
      "                          Price = 1.0\n",
      "                          Weight = 8.0 })\n",
      "({ Brand = Brand \"Kellogg's\"\n",
      "   ProductType = Eat (FoodType \"Rice Krispie Treats\")\n",
      "   Price = 1.25\n",
      "   Weight = 1.5 }, Some { Brand = Brand \"Naked Juice\"\n",
      "                          ProductType = Eat (FoodType \"Fruit Smoothies\")\n",
      "                          Price = 4.0\n",
      "                          Weight = 16.0 })\n",
      "({ Brand = Brand \"Quest\"\n",
      "   ProductType = Eat (FoodType \"Protein Bars\")\n",
      "   Price = 3.0\n",
      "   Weight = 2.1 }, None)\n"
     ]
    }
   ],
   "source": [
    "let mixedSeq = \n",
    "    products[1..]\n",
    "    |> Seq.map (fun p -> createItemsRobust p)\n",
    "\n",
    "mixedSeq     \n",
    "|> Seq.iter (fun i -> printfn \"%A\" i)"
   ]
  },
  {
   "cell_type": "code",
   "execution_count": 22,
   "metadata": {
    "dotnet_interactive": {
     "language": "fsharp"
    },
    "polyglot_notebook": {
     "kernelName": "fsharp"
    },
    "vscode": {
     "languageId": "polyglot-notebook"
    }
   },
   "outputs": [],
   "source": [
    "let eats = \n",
    "    mixedSeq\n",
    "    |> Seq.map fst \n",
    "\n",
    "let drinks = \n",
    "    mixedSeq\n",
    "    |> Seq.map snd \n",
    "    |> Seq.choose id \n",
    "\n",
    "let all = \n",
    "    seq { \n",
    "        yield! eats\n",
    "        yield! drinks \n",
    "    }\n"
   ]
  },
  {
   "cell_type": "code",
   "execution_count": 23,
   "metadata": {
    "dotnet_interactive": {
     "language": "fsharp"
    },
    "polyglot_notebook": {
     "kernelName": "fsharp"
    },
    "vscode": {
     "languageId": "polyglot-notebook"
    }
   },
   "outputs": [
    {
     "name": "stdout",
     "output_type": "stream",
     "text": [
      "Chips (Lay's, 1 oz) costs 1$\n",
      "Chips (Doritos, 2 oz) costs 2$\n",
      "Candy Bars (Snickers, 1,5 oz) costs 1,25$\n",
      "Candy Bars (Kit Kat, 1,5 oz) costs 1,25$\n",
      "Granola Bars (Nature Valley, 1,5 oz) costs 1,5$\n",
      "Cookies (Chips Ahoy, 1,5 oz) costs 1,25$\n",
      "Crackers (Cheez-Its, 2 oz) costs 1,5$\n",
      "Nuts (Planters, 1 oz) costs 1,5$\n",
      "Popcorn (Pop-Secret, 2 oz) costs 2$\n",
      "Beef Jerky (Jack Link's, 1 oz) costs 3,5$\n",
      "Cup Noodles (Maruchan, 3 oz) costs 1,5$\n",
      "Pretzels (Rold Gold, 1 oz) costs 1$\n",
      "Trail Mix (Planters, 1 oz) costs 1,5$\n",
      "Rice Krispie Treats (Kellogg's, 1,5 oz) costs 1,25$\n",
      "Protein Bars (Quest, 2,1 oz) costs 3$\n",
      "Bottled Water (Aquafina, 16 oz) costs 1,5$\n",
      "Bottled Water (Dasani, 20 oz) costs 2$\n",
      "Soda (Coca-Cola, 12 oz) costs 1,5$\n",
      "Soda (Pepsi, 20 oz) costs 2$\n",
      "Sports Drinks (Gatorade, 20 oz) costs 2,5$\n",
      "Juice Boxes (Capri Sun, 6 oz) costs 1$\n",
      "Energy Drinks (Red Bull, 8,4 oz) costs 3$\n",
      "Iced Tea (Lipton, 16 oz) costs 1,5$\n",
      "Lemonade (Minute Maid, 16 oz) costs 1,5$\n",
      "Iced Coffee (Starbucks, 12 oz) costs 2,5$\n",
      "Chocolate (Swiss Miss, 8 oz) costs 2$\n",
      "Milk (Nesquik, 8 oz) costs 1$\n",
      "Chocolate Milk (Yoo-hoo, 8 oz) costs 1$\n",
      "Fruit Smoothies (Naked Juice, 16 oz) costs 4$\n"
     ]
    }
   ],
   "source": [
    "all\n",
    "|> Seq.iter prettyPrint"
   ]
  }
 ],
 "metadata": {
  "language_info": {
   "name": "python"
  },
  "orig_nbformat": 4
 },
 "nbformat": 4,
 "nbformat_minor": 2
}
