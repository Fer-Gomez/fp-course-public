{
 "cells": [
  {
   "attachments": {},
   "cell_type": "markdown",
   "metadata": {},
   "source": [
    "## El _Kata_ de la Rosa Dorada\n",
    "\n",
    "El presente _kata_ es un ejercicio ya clásico de _refactoring_: tenemos un programa que funciona, pero es necesario agregarle un caso nuevo de uso. Por razones que se explican por sí solas al leer el programa, se requiere reescribir parte del mismo.\n",
    "\n",
    "Originalmente concebido por [@TerryHughes](https://twitter.com/TerryHughes) y [@NotMyself](https://twitter.com/NotMyself) como un ejercicio de [_refactoring_ en C#](https://github.com/NotMyself/GildedRoseCore), [fue extendido a distintos lenguajes](https://github.com/emilybache/GildedRose-Refactoring-Kata.git) e incluído en el libro [Coding Dojo](https://leanpub.com/codingdojohandbook) por Emily Bache.\n",
    "\n",
    "En este notebook encontrará \n",
    "- La descripción original de las especificaciones del código, los requerimientos y el nuevo caso de uso.\n",
    "- El código propiamente dicho como para explorar.\n",
    "- Algunos comentarios acerca de la programación orientada a objeto y la mutabilidad desde el punto de vista de F#.\n",
    "\n",
    "La misión es\n",
    "- Escribir tests para probar que efectivamente el código está funcionando para los casos de uso para los que fue diseñado.\n",
    "- Escribir nuevos tests para abordar el nuevo caso (artículos `conjurados`).\n",
    "- Hacer el refactoring. \n",
    "\n",
    "para ello se provee de [este repositorio](https://github.com/fcolavecchia/GildedRose-Kata-initial-fsharp.git) que contiene tres proyectos\n",
    "- `GildedRose` con el programa original.\n",
    "- `GildedRose.UnitTests` donde podrá escribir los tests unitarios.\n",
    "- `GildedRose.ApprovalTests` que contiene el test de aprobación del código (para los casos de uso originales.)\n",
    "  \n",
    "Haga el fork correspondiente y happy refactoring!  \n",
    "\n",
    "\n",
    "\n"
   ]
  },
  {
   "attachments": {},
   "cell_type": "markdown",
   "metadata": {},
   "source": [
    "### Especificaciones de la Rosa Dorada (Gilded Rose)\n",
    "\n",
    "Bienvenido al equipo de **Gilded Rose**.\n",
    "Como quizá sabes, somos una pequeña posada ubicada estratégicamente en una prestigiosa ciudad, atendida por la amable **Allison**.\n",
    "También compramos y vendemos mercadería de alta calidad.\n",
    "Por desgracia, nuestra mercadería va bajando de calidad a medida que se aproxima la fecha de venta.\n",
    "\n",
    "Tenemos un sistema instalado que actualiza automáticamente el `inventario`.\n",
    "Este sistema fue desarrollado por un muchacho con poco sentido común llamado Leeroy, que ahora se dedica a nuevas aventuras.\n",
    "Tu tarea es agregar una nueva característica al sistema para que podamos comenzar a vender una nueva categoría de items.\n",
    "\n",
    "### Descripción preliminar\n",
    "\n",
    "Pero primero, vamos a introducir el sistema:\n",
    "\n",
    "* Todos los artículos (`Item`) tienen una propiedad `sellIn` que denota el número de días que tenemos para venderlo\n",
    "* Todos los artículos tienen una propiedad `quality` que denota cúan valioso es el artículo\n",
    "* Al final de cada día, nuestro sistema decrementa ambos valores para cada artículo mediante el método `updateQuality`\n",
    "\n",
    "Bastante simple, ¿no? Bueno, ahora es donde se pone interesante:\n",
    "\n",
    "* Una vez que ha pasado la fecha recomendada de venta, la `calidad` se degrada al doble de velocidad\n",
    "* La `calidad` de un artículo nunca es negativa\n",
    "* El \"Queso Brie envejecido\" (`Aged brie`) incrementa su `calidad` a medida que se pone viejo\n",
    "  * Su `calidad` aumenta en `1` unidad cada día\n",
    "  * luego de la `fecha de venta` su `calidad` aumenta `2` unidades por día\n",
    "* La `calidad` de un artículo nunca es mayor a `50`\n",
    "* El artículo \"Sulfuras\" (`Sulfuras`), siendo un artículo legendario, no modifica su `fecha de venta` ni se degrada en `calidad`\n",
    "* Una \"Entrada al Backstage\", como el queso brie, incrementa su `calidad` a medida que la `fecha de venta` se aproxima\n",
    "  * si faltan 10 días o menos para el concierto, la `calidad` se incrementa en `2` unidades\n",
    "  * si faltan 5 días o menos, la `calidad` se incrementa en `3` unidades\n",
    "  * luego de la `fecha de venta` la `calidad` cae a `0`\n",
    "\n",
    "### El requerimiento\n",
    "\n",
    "Hace poco contratamos a un proveedor de artículos *conjurados mágicamente*.\n",
    "Esto requiere una actualización del sistema:\n",
    "\n",
    "* Los artículos `conjurados` degradan su `calidad` al doble de velocidad que los normales\n",
    "\n",
    "Siéntete libre de realizar cualquier cambio al mensaje `updateQuality` y agregar el código que sea necesario, mientras que todo siga funcionando correctamente. Sin embargo, **no alteres el objeto `Item` ni sus propiedades** ya que pertenecen al goblin que está en ese rincón, que en un ataque de ira te va a liquidar de un golpe porque no cree en la cultura de código compartido.\n",
    "\n",
    "### Notas finales\n",
    "\n",
    "Para aclarar: un artículo nunca puede tener una `calidad` superior a `50`, sin embargo las Sulfuras siendo un artículo legendario posee una calidad inmutable de `80`."
   ]
  },
  {
   "cell_type": "markdown",
   "metadata": {},
   "source": [
    "## Clases y Mutabilidad\n",
    "\n",
    "A continuación, puede encontrar las partes clave del código de este _kata_ que deben refactorizarse. Un vistazo revelará algunas características del lenguaje (y del ecosistema .NET) que deben introducirse. Esto se debe al hecho de que este código F# es una traducción _mutatis mutandis_ del código original escrito en C#. Inspeccionemos el código y revisemos las nuevas características que aparecen. Tenga en cuenta que F# es un lenguaje _flexible_ y puede permitirle escribir código mutable y clases orientadas a objetos. Aunque esto se aleja hasta cierto punto de un paradigma funcional más puro, es importante en este punto reconocer que uno puede lidiar con la mutabilidad en F#, la clave es tomar el control de la mutabilidad donde sea conveniente y proceder con estilo funcional, cuando es conveniente también.\n",
    "\n",
    "De todos modos, en este ejercicio, nuestro objetivo es transformar el código en una versión inmutable completamente funcional."
   ]
  },
  {
   "cell_type": "code",
   "execution_count": 1,
   "metadata": {
    "dotnet_interactive": {
     "language": "fsharp"
    },
    "polyglot_notebook": {
     "kernelName": "fsharp"
    },
    "vscode": {
     "languageId": "polyglot-notebook"
    }
   },
   "outputs": [],
   "source": [
    "open System.Collections.Generic\n",
    "\n",
    "type Item = \n",
    "    {\n",
    "        Name: string\n",
    "        SellIn: int \n",
    "        Quality: int \n",
    "    }"
   ]
  },
  {
   "cell_type": "markdown",
   "metadata": {},
   "source": [
    "Lo primero es lo primero, el tipo `Item` es un típico _record_, no hay gran novedad ahí. Pero estamos abriendo [`System.Collections.Generic`](https://learn.microsoft.com/en-us/dotnet/api/system.collections.generic?view=net-7.0), que organiza el genérico tipo del que se derivan todos los tipos de colección en .NET.\n",
    "\n",
    "A continuación, se define una lista de elementos. Tenga en cuenta que esta no es nuestra lista habitual de F#, sino una `System.Collection.Generic.List` que es mutable y proporciona un método `.Add` que agrega un nuevo elemento a la lista, de forma mutable. Tenga en cuenta también el uso de la palabra clave `new`` para crear (invocar al constructor) de la 'Lista<Item>' vacía."
   ]
  },
  {
   "cell_type": "code",
   "execution_count": 2,
   "metadata": {
    "dotnet_interactive": {
     "language": "fsharp"
    },
    "polyglot_notebook": {
     "kernelName": "fsharp"
    },
    "vscode": {
     "languageId": "polyglot-notebook"
    }
   },
   "outputs": [],
   "source": [
    "let Items = new List<Item>()\n",
    "Items.Add({Name = \"+5 Dexterity Vest\"; SellIn = 10; Quality = 20})\n",
    "Items.Add({Name = \"Aged Brie\"; SellIn = 2; Quality = 0})\n",
    "Items.Add({Name = \"Elixir of the Mongoose\"; SellIn = 5; Quality = 7})\n",
    "Items.Add({Name = \"Sulfuras, Hand of Ragnaros\"; SellIn = 0; Quality = 80})\n",
    "Items.Add({Name = \"Sulfuras, Hand of Ragnaros\"; SellIn = -1; Quality = 80})\n",
    "Items.Add({Name = \"Backstage passes to a TAFKAL80ETC concert\"; SellIn = 15; Quality = 20})\n",
    "Items.Add({Name = \"Backstage passes to a TAFKAL80ETC concert\"; SellIn = 10; Quality = 49})\n",
    "Items.Add({Name = \"Backstage passes to a TAFKAL80ETC concert\"; SellIn = 5; Quality = 49})\n",
    "Items.Add({Name = \"Conjured Mana Cake\"; SellIn = 3; Quality = 6})\n",
    "\n",
    "printfn \"%A\" Items\n"
   ]
  },
  {
   "cell_type": "markdown",
   "metadata": {},
   "source": [
    "Para evitar la confusión entre estos dos tipos diferentes de listas, se usa el tipo `ResizeArray` en F#:"
   ]
  },
  {
   "cell_type": "code",
   "execution_count": null,
   "metadata": {
    "dotnet_interactive": {
     "language": "csharp"
    },
    "polyglot_notebook": {
     "kernelName": "csharp"
    },
    "vscode": {
     "languageId": "polyglot-notebook"
    }
   },
   "outputs": [
    {
     "name": "stdout",
     "output_type": "stream",
     "text": [
      "seq [2; 3; 5]\n"
     ]
    }
   ],
   "source": [
    "let primes = ResizeArray<int>()\n",
    "primes.Add(2)\n",
    "primes.Add(3)\n",
    "primes.Add(5)\n",
    "// etc. \n",
    "printfn \"%A\" primes"
   ]
  },
  {
   "cell_type": "markdown",
   "metadata": {},
   "source": [
    "El tipo `ResizeArray` es mutable, y se usa `<-` como símbolo específico para cambiar un valor _in place_:"
   ]
  },
  {
   "cell_type": "code",
   "execution_count": null,
   "metadata": {
    "dotnet_interactive": {
     "language": "csharp"
    },
    "polyglot_notebook": {
     "kernelName": "csharp"
    },
    "vscode": {
     "languageId": "polyglot-notebook"
    }
   },
   "outputs": [
    {
     "name": "stdout",
     "output_type": "stream",
     "text": [
      "seq [7; 3; 5]\n"
     ]
    }
   ],
   "source": [
    "primes[0] <- 7\n",
    "\n",
    "printfn \"%A\" primes"
   ]
  },
  {
   "cell_type": "markdown",
   "metadata": {},
   "source": [
    "Se puede usar la palabra reservada `mutable` para especificar que un valor es mutable, obviamente:"
   ]
  },
  {
   "cell_type": "code",
   "execution_count": null,
   "metadata": {
    "dotnet_interactive": {
     "language": "csharp"
    },
    "polyglot_notebook": {
     "kernelName": "csharp"
    },
    "vscode": {
     "languageId": "polyglot-notebook"
    }
   },
   "outputs": [
    {
     "name": "stdout",
     "output_type": "stream",
     "text": [
      "original a: 3\n",
      "mutated  a: 4\n"
     ]
    }
   ],
   "source": [
    "let mutable a = 3 \n",
    "printfn \"original a: %A\" a\n",
    "a <- 4\n",
    "printfn \"mutated  a: %A\" a"
   ]
  },
  {
   "cell_type": "markdown",
   "metadata": {},
   "source": [
    "Volviendo a Gilded Rose, aquí está el tipo `GildedRose`:"
   ]
  },
  {
   "cell_type": "code",
   "execution_count": 3,
   "metadata": {
    "dotnet_interactive": {
     "language": "fsharp"
    },
    "polyglot_notebook": {
     "kernelName": "fsharp"
    },
    "vscode": {
     "languageId": "polyglot-notebook"
    }
   },
   "outputs": [],
   "source": [
    "type GildedRose(items:IList<Item>) =\n",
    "    let Items = items\n",
    "\n",
    "    member this.UpdateQuality() =\n",
    "        for i = 0 to Items.Count - 1 do\n",
    "            if Items.[i].Name <> \"Aged Brie\" && Items.[i].Name <> \"Backstage passes to a TAFKAL80ETC concert\" then\n",
    "                if Items.[i].Quality > 0 then\n",
    "                    if Items.[i].Name <> \"Sulfuras, Hand of Ragnaros\" then\n",
    "                        Items.[i] <- { Items.[i] with Quality = (Items.[i].Quality - 1) } \n",
    "            else\n",
    "               if Items.[i].Quality < 50 then\n",
    "                    Items.[i] <- { Items.[i] with Quality = (Items.[i].Quality + 1) } \n",
    "                    if Items.[i].Name = \"Backstage passes to a TAFKAL80ETC concert\" then\n",
    "                        if Items.[i].SellIn < 11 then\n",
    "                            if Items.[i].Quality < 50 then\n",
    "                                Items.[i] <- { Items.[i] with Quality = (Items.[i].Quality + 1) } \n",
    "                        if Items.[i].SellIn < 6 then\n",
    "                            if Items.[i].Quality < 50 then\n",
    "                                Items.[i] <- { Items.[i] with Quality = (Items.[i].Quality + 1) } \n",
    "            if Items.[i].Name <> \"Sulfuras, Hand of Ragnaros\" then                 \n",
    "                Items.[i] <- { Items.[i] with SellIn  = (Items.[i].SellIn - 1) } \n",
    "            if Items.[i].SellIn < 0 then\n",
    "                if Items.[i].Name <> \"Aged Brie\" then\n",
    "                    if Items.[i].Name <> \"Backstage passes to a TAFKAL80ETC concert\" then\n",
    "                        if Items.[i].Quality > 0 then\n",
    "                            if Items.[i].Name <> \"Sulfuras, Hand of Ragnaros\" then\n",
    "                                Items.[i] <- { Items.[i] with Quality   = (Items.[i].Quality  - 1) } \n",
    "                    else\n",
    "                        Items.[i] <- { Items.[i] with Quality   = (Items.[i].Quality  - Items.[i].Quality) } \n",
    "                else\n",
    "                    if Items.[i].Quality < 50 then\n",
    "                        Items.[i] <- { Items.[i] with Quality   = (Items.[i].Quality + 1) }  \n",
    "        ()\n"
   ]
  },
  {
   "cell_type": "markdown",
   "metadata": {},
   "source": [
    "Algunas cosas para notar:\n",
    "\n",
    "- El tipo `GildedRose` toma un valor `item` que es un ResizeArray de `Item`s como parámetro para su constructor.\n",
    "  \n",
    "- El código aprovecha la mutabilidad del ResizeArray de `Item`s  (es decir, `System.Collections.Generic.List`) en gran medida. Sin embargo, es claro que la lectura del código es difícil.\n",
    "- \n",
    "- El tipo `GildedRose` tiene una función [_member_](https://learn.microsoft.com/en-us/dotnet/fsharp/language-reference/members/methods), prácticamente igual que en un objeto típico de una clase en un lenguaje orientado a objetos. El método `UpdateQuality` es un método de instancia y se puede llamar como:\n",
    "\n",
    "```fsharp\n",
    "let gildedRose = new GildedRose(Artículos)\n",
    "gildedRose.UpdateQuality()\n",
    "```\n",
    "\n",
    "También se puede tener un _miembro estático_, por ejemplo:"
   ]
  },
  {
   "cell_type": "code",
   "execution_count": null,
   "metadata": {
    "dotnet_interactive": {
     "language": "fsharp"
    },
    "polyglot_notebook": {
     "kernelName": "fsharp"
    },
    "vscode": {
     "languageId": "polyglot-notebook"
    }
   },
   "outputs": [
    {
     "name": "stdout",
     "output_type": "stream",
     "text": [
      "the x coordinate of a is 1.0\n",
      "the y coordinate of a is 2.0\n",
      "the length of a is 2.236067977\n"
     ]
    }
   ],
   "source": [
    "type Point(x,y) = \n",
    "    member this.X = x\n",
    "    member this.Y = y\n",
    "    static member Length (p:Point) = sqrt(float(p.X*p.X + p.Y*p.Y))\n",
    "\n",
    "let a = Point(1.0,2.0)\n",
    "printfn \"the x coordinate of a is %A\" a.X \n",
    "printfn \"the y coordinate of a is %A\" a.Y \n",
    "printfn \"the length of a is %A\" (Point.Length a) \n"
   ]
  },
  {
   "cell_type": "markdown",
   "metadata": {},
   "source": [
    "También podemos ver el uso de la construcción `for ..to ..do`, que es la construcción de bucle habitual. Esto también se usa en el código 'principal' del ejercicio:"
   ]
  },
  {
   "cell_type": "code",
   "execution_count": 4,
   "metadata": {
    "dotnet_interactive": {
     "language": "fsharp"
    },
    "polyglot_notebook": {
     "kernelName": "fsharp"
    },
    "vscode": {
     "languageId": "polyglot-notebook"
    }
   },
   "outputs": [
    {
     "name": "stdout",
     "output_type": "stream",
     "text": [
      "-------- day 0 --------\n",
      "name, sellIn, quality\n",
      "+5 Dexterity Vest, 10, 20\n",
      "Aged Brie, 2, 0\n",
      "Elixir of the Mongoose, 5, 7\n",
      "Sulfuras, Hand of Ragnaros, 0, 80\n",
      "Sulfuras, Hand of Ragnaros, -1, 80\n",
      "Backstage passes to a TAFKAL80ETC concert, 15, 20\n",
      "Backstage passes to a TAFKAL80ETC concert, 10, 49\n",
      "Backstage passes to a TAFKAL80ETC concert, 5, 49\n",
      "Conjured Mana Cake, 3, 6\n",
      "\n",
      "-------- day 1 --------\n",
      "name, sellIn, quality\n",
      "+5 Dexterity Vest, 9, 19\n",
      "Aged Brie, 1, 1\n",
      "Elixir of the Mongoose, 4, 6\n",
      "Sulfuras, Hand of Ragnaros, 0, 80\n",
      "Sulfuras, Hand of Ragnaros, -1, 80\n",
      "Backstage passes to a TAFKAL80ETC concert, 14, 21\n",
      "Backstage passes to a TAFKAL80ETC concert, 9, 50\n",
      "Backstage passes to a TAFKAL80ETC concert, 4, 50\n",
      "Conjured Mana Cake, 2, 5\n",
      "\n",
      "-------- day 2 --------\n",
      "name, sellIn, quality\n",
      "+5 Dexterity Vest, 8, 18\n",
      "Aged Brie, 0, 2\n",
      "Elixir of the Mongoose, 3, 5\n",
      "Sulfuras, Hand of Ragnaros, 0, 80\n",
      "Sulfuras, Hand of Ragnaros, -1, 80\n",
      "Backstage passes to a TAFKAL80ETC concert, 13, 22\n",
      "Backstage passes to a TAFKAL80ETC concert, 8, 50\n",
      "Backstage passes to a TAFKAL80ETC concert, 3, 50\n",
      "Conjured Mana Cake, 1, 4\n",
      "\n",
      "-------- day 3 --------\n",
      "name, sellIn, quality\n",
      "+5 Dexterity Vest, 7, 17\n",
      "Aged Brie, -1, 4\n",
      "Elixir of the Mongoose, 2, 4\n",
      "Sulfuras, Hand of Ragnaros, 0, 80\n",
      "Sulfuras, Hand of Ragnaros, -1, 80\n",
      "Backstage passes to a TAFKAL80ETC concert, 12, 23\n",
      "Backstage passes to a TAFKAL80ETC concert, 7, 50\n",
      "Backstage passes to a TAFKAL80ETC concert, 2, 50\n",
      "Conjured Mana Cake, 0, 3\n",
      "\n",
      "-------- day 4 --------\n",
      "name, sellIn, quality\n",
      "+5 Dexterity Vest, 6, 16\n",
      "Aged Brie, -2, 6\n",
      "Elixir of the Mongoose, 1, 3\n",
      "Sulfuras, Hand of Ragnaros, 0, 80\n",
      "Sulfuras, Hand of Ragnaros, -1, 80\n",
      "Backstage passes to a TAFKAL80ETC concert, 11, 24\n",
      "Backstage passes to a TAFKAL80ETC concert, 6, 50\n",
      "Backstage passes to a TAFKAL80ETC concert, 1, 50\n",
      "Conjured Mana Cake, -1, 1\n",
      "\n",
      "-------- day 5 --------\n",
      "name, sellIn, quality\n",
      "+5 Dexterity Vest, 5, 15\n",
      "Aged Brie, -3, 8\n",
      "Elixir of the Mongoose, 0, 2\n",
      "Sulfuras, Hand of Ragnaros, 0, 80\n",
      "Sulfuras, Hand of Ragnaros, -1, 80\n",
      "Backstage passes to a TAFKAL80ETC concert, 10, 25\n",
      "Backstage passes to a TAFKAL80ETC concert, 5, 50\n",
      "Backstage passes to a TAFKAL80ETC concert, 0, 50\n",
      "Conjured Mana Cake, -2, 0\n",
      "\n",
      "-------- day 6 --------\n",
      "name, sellIn, quality\n",
      "+5 Dexterity Vest, 4, 14\n",
      "Aged Brie, -4, 10\n",
      "Elixir of the Mongoose, -1, 0\n",
      "Sulfuras, Hand of Ragnaros, 0, 80\n",
      "Sulfuras, Hand of Ragnaros, -1, 80\n",
      "Backstage passes to a TAFKAL80ETC concert, 9, 27\n",
      "Backstage passes to a TAFKAL80ETC concert, 4, 50\n",
      "Backstage passes to a TAFKAL80ETC concert, -1, 0\n",
      "Conjured Mana Cake, -3, 0\n",
      "\n",
      "-------- day 7 --------\n",
      "name, sellIn, quality\n",
      "+5 Dexterity Vest, 3, 13\n",
      "Aged Brie, -5, 12\n",
      "Elixir of the Mongoose, -2, 0\n",
      "Sulfuras, Hand of Ragnaros, 0, 80\n",
      "Sulfuras, Hand of Ragnaros, -1, 80\n",
      "Backstage passes to a TAFKAL80ETC concert, 8, 29\n",
      "Backstage passes to a TAFKAL80ETC concert, 3, 50\n",
      "Backstage passes to a TAFKAL80ETC concert, -2, 0\n",
      "Conjured Mana Cake, -4, 0\n",
      "\n",
      "-------- day 8 --------\n",
      "name, sellIn, quality\n",
      "+5 Dexterity Vest, 2, 12\n",
      "Aged Brie, -6, 14\n",
      "Elixir of the Mongoose, -3, 0\n",
      "Sulfuras, Hand of Ragnaros, 0, 80\n",
      "Sulfuras, Hand of Ragnaros, -1, 80\n",
      "Backstage passes to a TAFKAL80ETC concert, 7, 31\n",
      "Backstage passes to a TAFKAL80ETC concert, 2, 50\n",
      "Backstage passes to a TAFKAL80ETC concert, -3, 0\n",
      "Conjured Mana Cake, -5, 0\n",
      "\n",
      "-------- day 9 --------\n",
      "name, sellIn, quality\n",
      "+5 Dexterity Vest, 1, 11\n",
      "Aged Brie, -7, 16\n",
      "Elixir of the Mongoose, -4, 0\n",
      "Sulfuras, Hand of Ragnaros, 0, 80\n",
      "Sulfuras, Hand of Ragnaros, -1, 80\n",
      "Backstage passes to a TAFKAL80ETC concert, 6, 33\n",
      "Backstage passes to a TAFKAL80ETC concert, 1, 50\n",
      "Backstage passes to a TAFKAL80ETC concert, -4, 0\n",
      "Conjured Mana Cake, -6, 0\n",
      "\n",
      "-------- day 10 --------\n",
      "name, sellIn, quality\n",
      "+5 Dexterity Vest, 0, 10\n",
      "Aged Brie, -8, 18\n",
      "Elixir of the Mongoose, -5, 0\n",
      "Sulfuras, Hand of Ragnaros, 0, 80\n",
      "Sulfuras, Hand of Ragnaros, -1, 80\n",
      "Backstage passes to a TAFKAL80ETC concert, 5, 35\n",
      "Backstage passes to a TAFKAL80ETC concert, 0, 50\n",
      "Backstage passes to a TAFKAL80ETC concert, -5, 0\n",
      "Conjured Mana Cake, -7, 0\n",
      "\n",
      "-------- day 11 --------\n",
      "name, sellIn, quality\n",
      "+5 Dexterity Vest, -1, 8\n",
      "Aged Brie, -9, 20\n",
      "Elixir of the Mongoose, -6, 0\n",
      "Sulfuras, Hand of Ragnaros, 0, 80\n",
      "Sulfuras, Hand of Ragnaros, -1, 80\n",
      "Backstage passes to a TAFKAL80ETC concert, 4, 38\n",
      "Backstage passes to a TAFKAL80ETC concert, -1, 0\n",
      "Backstage passes to a TAFKAL80ETC concert, -6, 0\n",
      "Conjured Mana Cake, -8, 0\n",
      "\n",
      "-------- day 12 --------\n",
      "name, sellIn, quality\n",
      "+5 Dexterity Vest, -2, 6\n",
      "Aged Brie, -10, 22\n",
      "Elixir of the Mongoose, -7, 0\n",
      "Sulfuras, Hand of Ragnaros, 0, 80\n",
      "Sulfuras, Hand of Ragnaros, -1, 80\n",
      "Backstage passes to a TAFKAL80ETC concert, 3, 41\n",
      "Backstage passes to a TAFKAL80ETC concert, -2, 0\n",
      "Backstage passes to a TAFKAL80ETC concert, -7, 0\n",
      "Conjured Mana Cake, -9, 0\n",
      "\n",
      "-------- day 13 --------\n",
      "name, sellIn, quality\n",
      "+5 Dexterity Vest, -3, 4\n",
      "Aged Brie, -11, 24\n",
      "Elixir of the Mongoose, -8, 0\n",
      "Sulfuras, Hand of Ragnaros, 0, 80\n",
      "Sulfuras, Hand of Ragnaros, -1, 80\n",
      "Backstage passes to a TAFKAL80ETC concert, 2, 44\n",
      "Backstage passes to a TAFKAL80ETC concert, -3, 0\n",
      "Backstage passes to a TAFKAL80ETC concert, -8, 0\n",
      "Conjured Mana Cake, -10, 0\n",
      "\n",
      "-------- day 14 --------\n",
      "name, sellIn, quality\n",
      "+5 Dexterity Vest, -4, 2\n",
      "Aged Brie, -12, 26\n",
      "Elixir of the Mongoose, -9, 0\n",
      "Sulfuras, Hand of Ragnaros, 0, 80\n",
      "Sulfuras, Hand of Ragnaros, -1, 80\n",
      "Backstage passes to a TAFKAL80ETC concert, 1, 47\n",
      "Backstage passes to a TAFKAL80ETC concert, -4, 0\n",
      "Backstage passes to a TAFKAL80ETC concert, -9, 0\n",
      "Conjured Mana Cake, -11, 0\n",
      "\n",
      "-------- day 15 --------\n",
      "name, sellIn, quality\n",
      "+5 Dexterity Vest, -5, 0\n",
      "Aged Brie, -13, 28\n",
      "Elixir of the Mongoose, -10, 0\n",
      "Sulfuras, Hand of Ragnaros, 0, 80\n",
      "Sulfuras, Hand of Ragnaros, -1, 80\n",
      "Backstage passes to a TAFKAL80ETC concert, 0, 50\n",
      "Backstage passes to a TAFKAL80ETC concert, -5, 0\n",
      "Backstage passes to a TAFKAL80ETC concert, -10, 0\n",
      "Conjured Mana Cake, -12, 0\n",
      "\n",
      "-------- day 16 --------\n",
      "name, sellIn, quality\n",
      "+5 Dexterity Vest, -6, 0\n",
      "Aged Brie, -14, 30\n",
      "Elixir of the Mongoose, -11, 0\n",
      "Sulfuras, Hand of Ragnaros, 0, 80\n",
      "Sulfuras, Hand of Ragnaros, -1, 80\n",
      "Backstage passes to a TAFKAL80ETC concert, -1, 0\n",
      "Backstage passes to a TAFKAL80ETC concert, -6, 0\n",
      "Backstage passes to a TAFKAL80ETC concert, -11, 0\n",
      "Conjured Mana Cake, -13, 0\n",
      "\n",
      "-------- day 17 --------\n",
      "name, sellIn, quality\n",
      "+5 Dexterity Vest, -7, 0\n",
      "Aged Brie, -15, 32\n",
      "Elixir of the Mongoose, -12, 0\n",
      "Sulfuras, Hand of Ragnaros, 0, 80\n",
      "Sulfuras, Hand of Ragnaros, -1, 80\n",
      "Backstage passes to a TAFKAL80ETC concert, -2, 0\n",
      "Backstage passes to a TAFKAL80ETC concert, -7, 0\n",
      "Backstage passes to a TAFKAL80ETC concert, -12, 0\n",
      "Conjured Mana Cake, -14, 0\n",
      "\n",
      "-------- day 18 --------\n",
      "name, sellIn, quality\n",
      "+5 Dexterity Vest, -8, 0\n",
      "Aged Brie, -16, 34\n",
      "Elixir of the Mongoose, -13, 0\n",
      "Sulfuras, Hand of Ragnaros, 0, 80\n",
      "Sulfuras, Hand of Ragnaros, -1, 80\n",
      "Backstage passes to a TAFKAL80ETC concert, -3, 0\n",
      "Backstage passes to a TAFKAL80ETC concert, -8, 0\n",
      "Backstage passes to a TAFKAL80ETC concert, -13, 0\n",
      "Conjured Mana Cake, -15, 0\n",
      "\n",
      "-------- day 19 --------\n",
      "name, sellIn, quality\n",
      "+5 Dexterity Vest, -9, 0\n",
      "Aged Brie, -17, 36\n",
      "Elixir of the Mongoose, -14, 0\n",
      "Sulfuras, Hand of Ragnaros, 0, 80\n",
      "Sulfuras, Hand of Ragnaros, -1, 80\n",
      "Backstage passes to a TAFKAL80ETC concert, -4, 0\n",
      "Backstage passes to a TAFKAL80ETC concert, -9, 0\n",
      "Backstage passes to a TAFKAL80ETC concert, -14, 0\n",
      "Conjured Mana Cake, -16, 0\n",
      "\n",
      "-------- day 20 --------\n",
      "name, sellIn, quality\n",
      "+5 Dexterity Vest, -10, 0\n",
      "Aged Brie, -18, 38\n",
      "Elixir of the Mongoose, -15, 0\n",
      "Sulfuras, Hand of Ragnaros, 0, 80\n",
      "Sulfuras, Hand of Ragnaros, -1, 80\n",
      "Backstage passes to a TAFKAL80ETC concert, -5, 0\n",
      "Backstage passes to a TAFKAL80ETC concert, -10, 0\n",
      "Backstage passes to a TAFKAL80ETC concert, -15, 0\n",
      "Conjured Mana Cake, -17, 0\n",
      "\n",
      "-------- day 21 --------\n",
      "name, sellIn, quality\n",
      "+5 Dexterity Vest, -11, 0\n",
      "Aged Brie, -19, 40\n",
      "Elixir of the Mongoose, -16, 0\n",
      "Sulfuras, Hand of Ragnaros, 0, 80\n",
      "Sulfuras, Hand of Ragnaros, -1, 80\n",
      "Backstage passes to a TAFKAL80ETC concert, -6, 0\n",
      "Backstage passes to a TAFKAL80ETC concert, -11, 0\n",
      "Backstage passes to a TAFKAL80ETC concert, -16, 0\n",
      "Conjured Mana Cake, -18, 0\n",
      "\n",
      "-------- day 22 --------\n",
      "name, sellIn, quality\n",
      "+5 Dexterity Vest, -12, 0\n",
      "Aged Brie, -20, 42\n",
      "Elixir of the Mongoose, -17, 0\n",
      "Sulfuras, Hand of Ragnaros, 0, 80\n",
      "Sulfuras, Hand of Ragnaros, -1, 80\n",
      "Backstage passes to a TAFKAL80ETC concert, -7, 0\n",
      "Backstage passes to a TAFKAL80ETC concert, -12, 0\n",
      "Backstage passes to a TAFKAL80ETC concert, -17, 0\n",
      "Conjured Mana Cake, -19, 0\n",
      "\n",
      "-------- day 23 --------\n",
      "name, sellIn, quality\n",
      "+5 Dexterity Vest, -13, 0\n",
      "Aged Brie, -21, 44\n",
      "Elixir of the Mongoose, -18, 0\n",
      "Sulfuras, Hand of Ragnaros, 0, 80\n",
      "Sulfuras, Hand of Ragnaros, -1, 80\n",
      "Backstage passes to a TAFKAL80ETC concert, -8, 0\n",
      "Backstage passes to a TAFKAL80ETC concert, -13, 0\n",
      "Backstage passes to a TAFKAL80ETC concert, -18, 0\n",
      "Conjured Mana Cake, -20, 0\n",
      "\n",
      "-------- day 24 --------\n",
      "name, sellIn, quality\n",
      "+5 Dexterity Vest, -14, 0\n",
      "Aged Brie, -22, 46\n",
      "Elixir of the Mongoose, -19, 0\n",
      "Sulfuras, Hand of Ragnaros, 0, 80\n",
      "Sulfuras, Hand of Ragnaros, -1, 80\n",
      "Backstage passes to a TAFKAL80ETC concert, -9, 0\n",
      "Backstage passes to a TAFKAL80ETC concert, -14, 0\n",
      "Backstage passes to a TAFKAL80ETC concert, -19, 0\n",
      "Conjured Mana Cake, -21, 0\n",
      "\n",
      "-------- day 25 --------\n",
      "name, sellIn, quality\n",
      "+5 Dexterity Vest, -15, 0\n",
      "Aged Brie, -23, 48\n",
      "Elixir of the Mongoose, -20, 0\n",
      "Sulfuras, Hand of Ragnaros, 0, 80\n",
      "Sulfuras, Hand of Ragnaros, -1, 80\n",
      "Backstage passes to a TAFKAL80ETC concert, -10, 0\n",
      "Backstage passes to a TAFKAL80ETC concert, -15, 0\n",
      "Backstage passes to a TAFKAL80ETC concert, -20, 0\n",
      "Conjured Mana Cake, -22, 0\n",
      "\n",
      "-------- day 26 --------\n",
      "name, sellIn, quality\n",
      "+5 Dexterity Vest, -16, 0\n",
      "Aged Brie, -24, 50\n",
      "Elixir of the Mongoose, -21, 0\n",
      "Sulfuras, Hand of Ragnaros, 0, 80\n",
      "Sulfuras, Hand of Ragnaros, -1, 80\n",
      "Backstage passes to a TAFKAL80ETC concert, -11, 0\n",
      "Backstage passes to a TAFKAL80ETC concert, -16, 0\n",
      "Backstage passes to a TAFKAL80ETC concert, -21, 0\n",
      "Conjured Mana Cake, -23, 0\n",
      "\n",
      "-------- day 27 --------\n",
      "name, sellIn, quality\n",
      "+5 Dexterity Vest, -17, 0\n",
      "Aged Brie, -25, 50\n",
      "Elixir of the Mongoose, -22, 0\n",
      "Sulfuras, Hand of Ragnaros, 0, 80\n",
      "Sulfuras, Hand of Ragnaros, -1, 80\n",
      "Backstage passes to a TAFKAL80ETC concert, -12, 0\n",
      "Backstage passes to a TAFKAL80ETC concert, -17, 0\n",
      "Backstage passes to a TAFKAL80ETC concert, -22, 0\n",
      "Conjured Mana Cake, -24, 0\n",
      "\n",
      "-------- day 28 --------\n",
      "name, sellIn, quality\n",
      "+5 Dexterity Vest, -18, 0\n",
      "Aged Brie, -26, 50\n",
      "Elixir of the Mongoose, -23, 0\n",
      "Sulfuras, Hand of Ragnaros, 0, 80\n",
      "Sulfuras, Hand of Ragnaros, -1, 80\n",
      "Backstage passes to a TAFKAL80ETC concert, -13, 0\n",
      "Backstage passes to a TAFKAL80ETC concert, -18, 0\n",
      "Backstage passes to a TAFKAL80ETC concert, -23, 0\n",
      "Conjured Mana Cake, -25, 0\n",
      "\n",
      "-------- day 29 --------\n",
      "name, sellIn, quality\n",
      "+5 Dexterity Vest, -19, 0\n",
      "Aged Brie, -27, 50\n",
      "Elixir of the Mongoose, -24, 0\n",
      "Sulfuras, Hand of Ragnaros, 0, 80\n",
      "Sulfuras, Hand of Ragnaros, -1, 80\n",
      "Backstage passes to a TAFKAL80ETC concert, -14, 0\n",
      "Backstage passes to a TAFKAL80ETC concert, -19, 0\n",
      "Backstage passes to a TAFKAL80ETC concert, -24, 0\n",
      "Conjured Mana Cake, -26, 0\n",
      "\n",
      "-------- day 30 --------\n",
      "name, sellIn, quality\n",
      "+5 Dexterity Vest, -20, 0\n",
      "Aged Brie, -28, 50\n",
      "Elixir of the Mongoose, -25, 0\n",
      "Sulfuras, Hand of Ragnaros, 0, 80\n",
      "Sulfuras, Hand of Ragnaros, -1, 80\n",
      "Backstage passes to a TAFKAL80ETC concert, -15, 0\n",
      "Backstage passes to a TAFKAL80ETC concert, -20, 0\n",
      "Backstage passes to a TAFKAL80ETC concert, -25, 0\n",
      "Conjured Mana Cake, -27, 0\n",
      "\n"
     ]
    }
   ],
   "source": [
    "let app = new GildedRose(Items)\n",
    "for i = 0 to 30 do\n",
    "    printfn \"-------- day %d --------\" i\n",
    "    printfn \"name, sellIn, quality\"\n",
    "    for j = 0 to Items.Count - 1 do\n",
    "            printfn \"%s, %d, %d\" Items.[j].Name Items.[j].SellIn Items.[j].Quality\n",
    "    printfn \"\"\n",
    "    app.UpdateQuality()"
   ]
  },
  {
   "cell_type": "markdown",
   "metadata": {},
   "source": [
    "## Cuándo usar clases, uniones, registros y estructuras\n",
    "\n",
    "Para mayor claridad, transcribo l[os siguientes párrafos de la documentación](https://learn.microsoft.com/en-us/dotnet/fsharp/language-reference/classes#when-to-use-classes-unions-records-and-structures) que espero aclaren el uso de tipos y clases:\n",
    "\n",
    "Dada la variedad de tipos entre los que elegir, debe tener una buena comprensión de para qué se ha diseñado cada tipo a fin de seleccionar el tipo adecuado para una situación determinada. Las clases están diseñadas para su uso en contextos de programación orientados a objetos. La programación orientada a objetos es el paradigma dominante que se usa en las aplicaciones escritas para .NET Framework. Si el código de F# tiene que trabajar estrechamente con .NET Framework u otra biblioteca orientada a objetos, y especialmente si tiene que extender desde un sistema de tipos orientado a objetos, como una biblioteca de interfaz de usuario, es probable que las clases sean adecuadas.\n",
    "\n",
    "Si no está interoperando estrechamente con código orientado a objetos, o si está escribiendo código autocontenido y, por lo tanto, protegido de la interacción frecuente con código orientado a objetos, debe considerar la posibilidad de usar una combinación de clases, registros y uniones discriminadas. Una unión discriminada única y bien pensada, junto con código de coincidencia de patrones adecuado, se suele poder usar como una alternativa más sencilla a una jerarquía de objetos. Para obtener información sobre las uniones discriminadas, vea Uniones discriminadas.\n",
    "\n",
    "Los registros tienen la ventaja de ser más sencillos que las clases, pero no son adecuados cuando las demandas de un tipo superan lo que se puede lograr con su simplicidad. Los registros son básicamente agregados simples de valores, sin constructores independientes que puedan realizar acciones personalizadas, sin campos ocultos y sin implementaciones de herencia o interfaz. Aunque se pueden agregar miembros como propiedades y métodos a los registros para que su comportamiento sea más complejo, los campos almacenados en un registro siguen siendo un agregado simple de valores. Para obtener más información sobre los registros, vea Registros.\n",
    "\n",
    "Las estructuras también son útiles para pequeños agregados de datos, pero difieren de las clases y los registros en que son tipos de valores de .NET. Las clases y los registros son tipos de referencias de .NET. La semántica de los tipos de valores y los tipos de referencias se diferencia en que los tipos de valores se pasan por valor. Esto significa que se copian bit a bit cuando se pasan como un parámetro o se devuelven de una función. También se almacenan en la pila o, si se usan como campo, se insertan dentro del objeto primario en lugar de almacenarse en su propia ubicación independiente en el montón. Por lo tanto, las estructuras son adecuadas para los datos a los que se accede con frecuencia cuando la sobrecarga de acceder al montón es un problema. Para obtener más información sobre las estructuras, vea Estructuras."
   ]
  }
 ],
 "metadata": {
  "language_info": {
   "name": "python"
  },
  "orig_nbformat": 4
 },
 "nbformat": 4,
 "nbformat_minor": 2
}
