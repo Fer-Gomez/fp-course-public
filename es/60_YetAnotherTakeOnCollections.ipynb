{
 "cells": [
  {
   "attachments": {},
   "cell_type": "markdown",
   "metadata": {},
   "source": [
    "### Secuencias \n",
    "\n",
    "Las secuencias (`seq`) son otro tipo de colecciones que ofrece F#, y se utilizan habitualmente cuando uno tiene una gran cantidad de datos. En efecto, a diferencia de las listas, los elementos de una secuencia se computan a medida que son requeridos. Por otra parte, las secuencias se asocian al tipo ` IEnumerable<T>` del ecosistema .NET, con lo cual son adecuadas para ocasiones en las que uno tiene que interactuar con bibliotecas o interfaces escritas en otros lenguajes, como C# o VB.\n",
    "\n",
    "Para construir una secuencia, usamos (ejem...) un constructor `for... in ...do`, como se ve en los siguientes ejemplos:"
   ]
  },
  {
   "cell_type": "code",
   "execution_count": 1,
   "metadata": {
    "dotnet_interactive": {
     "language": "fsharp"
    },
    "polyglot_notebook": {
     "kernelName": "fsharp"
    },
    "vscode": {
     "languageId": "polyglot-notebook"
    }
   },
   "outputs": [
    {
     "data": {
      "text/html": [
       "<div class=\"dni-plaintext\"><pre>[ 1, 2, 3, 4, 5 ]</pre></div><style>\r\n",
       ".dni-code-hint {\r\n",
       "    font-style: italic;\r\n",
       "    overflow: hidden;\r\n",
       "    white-space: nowrap;\r\n",
       "}\r\n",
       ".dni-treeview {\r\n",
       "    white-space: nowrap;\r\n",
       "}\r\n",
       ".dni-treeview td {\r\n",
       "    vertical-align: top;\r\n",
       "    text-align: start;\r\n",
       "}\r\n",
       "details.dni-treeview {\r\n",
       "    padding-left: 1em;\r\n",
       "}\r\n",
       "table td {\r\n",
       "    text-align: start;\r\n",
       "}\r\n",
       "table tr { \r\n",
       "    vertical-align: top; \r\n",
       "    margin: 0em 0px;\r\n",
       "}\r\n",
       "table tr td pre \r\n",
       "{ \r\n",
       "    vertical-align: top !important; \r\n",
       "    margin: 0em 0px !important;\r\n",
       "} \r\n",
       "table th {\r\n",
       "    text-align: start;\r\n",
       "}\r\n",
       "</style>"
      ]
     },
     "metadata": {},
     "output_type": "display_data"
    }
   ],
   "source": [
    "let l = seq { for x in 1..5 -> x }\n",
    "l"
   ]
  },
  {
   "cell_type": "code",
   "execution_count": 2,
   "metadata": {
    "dotnet_interactive": {
     "language": "fsharp"
    },
    "polyglot_notebook": {
     "kernelName": "fsharp"
    },
    "vscode": {
     "languageId": "polyglot-notebook"
    }
   },
   "outputs": [
    {
     "data": {
      "text/html": [
       "<div class=\"dni-plaintext\"><pre>[ 1, 4, 9, 16, 25 ]</pre></div><style>\r\n",
       ".dni-code-hint {\r\n",
       "    font-style: italic;\r\n",
       "    overflow: hidden;\r\n",
       "    white-space: nowrap;\r\n",
       "}\r\n",
       ".dni-treeview {\r\n",
       "    white-space: nowrap;\r\n",
       "}\r\n",
       ".dni-treeview td {\r\n",
       "    vertical-align: top;\r\n",
       "    text-align: start;\r\n",
       "}\r\n",
       "details.dni-treeview {\r\n",
       "    padding-left: 1em;\r\n",
       "}\r\n",
       "table td {\r\n",
       "    text-align: start;\r\n",
       "}\r\n",
       "table tr { \r\n",
       "    vertical-align: top; \r\n",
       "    margin: 0em 0px;\r\n",
       "}\r\n",
       "table tr td pre \r\n",
       "{ \r\n",
       "    vertical-align: top !important; \r\n",
       "    margin: 0em 0px !important;\r\n",
       "} \r\n",
       "table th {\r\n",
       "    text-align: start;\r\n",
       "}\r\n",
       "</style>"
      ]
     },
     "metadata": {},
     "output_type": "display_data"
    }
   ],
   "source": [
    "let sq =  seq {for x in 1..5 -> x*x }\n",
    "sq"
   ]
  },
  {
   "attachments": {},
   "cell_type": "markdown",
   "metadata": {},
   "source": [
    "El uso de la flecha `->` es un edulcorante sintáctico que se usa cuando la expresión que evalua cada elemento de la secuencia es simple. Sino, se utiliza el constructor `do...yield`"
   ]
  },
  {
   "cell_type": "code",
   "execution_count": 3,
   "metadata": {
    "dotnet_interactive": {
     "language": "fsharp"
    },
    "polyglot_notebook": {
     "kernelName": "fsharp"
    },
    "vscode": {
     "languageId": "polyglot-notebook"
    }
   },
   "outputs": [
    {
     "data": {
      "text/html": [
       "<div class=\"dni-plaintext\"><pre>[ 0, 6, 12, 18, 24, 30 ]</pre></div><style>\r\n",
       ".dni-code-hint {\r\n",
       "    font-style: italic;\r\n",
       "    overflow: hidden;\r\n",
       "    white-space: nowrap;\r\n",
       "}\r\n",
       ".dni-treeview {\r\n",
       "    white-space: nowrap;\r\n",
       "}\r\n",
       ".dni-treeview td {\r\n",
       "    vertical-align: top;\r\n",
       "    text-align: start;\r\n",
       "}\r\n",
       "details.dni-treeview {\r\n",
       "    padding-left: 1em;\r\n",
       "}\r\n",
       "table td {\r\n",
       "    text-align: start;\r\n",
       "}\r\n",
       "table tr { \r\n",
       "    vertical-align: top; \r\n",
       "    margin: 0em 0px;\r\n",
       "}\r\n",
       "table tr td pre \r\n",
       "{ \r\n",
       "    vertical-align: top !important; \r\n",
       "    margin: 0em 0px !important;\r\n",
       "} \r\n",
       "table th {\r\n",
       "    text-align: start;\r\n",
       "}\r\n",
       "</style>"
      ]
     },
     "metadata": {},
     "output_type": "display_data"
    }
   ],
   "source": [
    "let even = seq {for x in 0..3..30 do\n",
    "                if (x % 2 = 0) then \n",
    "                    yield x}\n",
    "even                   "
   ]
  },
  {
   "attachments": {},
   "cell_type": "markdown",
   "metadata": {},
   "source": [
    "Una diferencia importante respecto de las listas es que no es posible acceder a los elementos de una secuencia usando el índice en forma habitual, como por ejemplo `even[3]`"
   ]
  },
  {
   "cell_type": "code",
   "execution_count": 4,
   "metadata": {
    "dotnet_interactive": {
     "language": "fsharp"
    },
    "polyglot_notebook": {
     "kernelName": "fsharp"
    },
    "vscode": {
     "languageId": "polyglot-notebook"
    }
   },
   "outputs": [
    {
     "ename": "Error",
     "evalue": "input.fsx (1,1)-(1,8) typecheck error The type 'IEnumerable<_>' does not define the field, constructor or member 'Item'.",
     "output_type": "error",
     "traceback": [
      "input.fsx (1,1)-(1,8) typecheck error The type 'IEnumerable<_>' does not define the field, constructor or member 'Item'."
     ]
    }
   ],
   "source": [
    "even[3]"
   ]
  },
  {
   "attachments": {},
   "cell_type": "markdown",
   "metadata": {},
   "source": [
    "Sino que se debe utilizar el método `Seq.item` o su equivalente `Seq.nth`:"
   ]
  },
  {
   "cell_type": "code",
   "execution_count": 5,
   "metadata": {
    "dotnet_interactive": {
     "language": "fsharp"
    },
    "polyglot_notebook": {
     "kernelName": "fsharp"
    },
    "vscode": {
     "languageId": "polyglot-notebook"
    }
   },
   "outputs": [
    {
     "data": {
      "text/html": [
       "<div class=\"dni-plaintext\"><pre>18</pre></div><style>\r\n",
       ".dni-code-hint {\r\n",
       "    font-style: italic;\r\n",
       "    overflow: hidden;\r\n",
       "    white-space: nowrap;\r\n",
       "}\r\n",
       ".dni-treeview {\r\n",
       "    white-space: nowrap;\r\n",
       "}\r\n",
       ".dni-treeview td {\r\n",
       "    vertical-align: top;\r\n",
       "    text-align: start;\r\n",
       "}\r\n",
       "details.dni-treeview {\r\n",
       "    padding-left: 1em;\r\n",
       "}\r\n",
       "table td {\r\n",
       "    text-align: start;\r\n",
       "}\r\n",
       "table tr { \r\n",
       "    vertical-align: top; \r\n",
       "    margin: 0em 0px;\r\n",
       "}\r\n",
       "table tr td pre \r\n",
       "{ \r\n",
       "    vertical-align: top !important; \r\n",
       "    margin: 0em 0px !important;\r\n",
       "} \r\n",
       "table th {\r\n",
       "    text-align: start;\r\n",
       "}\r\n",
       "</style>"
      ]
     },
     "metadata": {},
     "output_type": "display_data"
    }
   ],
   "source": [
    "Seq.item 3 even"
   ]
  },
  {
   "cell_type": "code",
   "execution_count": 6,
   "metadata": {
    "dotnet_interactive": {
     "language": "fsharp"
    },
    "polyglot_notebook": {
     "kernelName": "fsharp"
    },
    "vscode": {
     "languageId": "polyglot-notebook"
    }
   },
   "outputs": [
    {
     "data": {
      "text/html": [
       "<div class=\"dni-plaintext\"><pre>0</pre></div><style>\r\n",
       ".dni-code-hint {\r\n",
       "    font-style: italic;\r\n",
       "    overflow: hidden;\r\n",
       "    white-space: nowrap;\r\n",
       "}\r\n",
       ".dni-treeview {\r\n",
       "    white-space: nowrap;\r\n",
       "}\r\n",
       ".dni-treeview td {\r\n",
       "    vertical-align: top;\r\n",
       "    text-align: start;\r\n",
       "}\r\n",
       "details.dni-treeview {\r\n",
       "    padding-left: 1em;\r\n",
       "}\r\n",
       "table td {\r\n",
       "    text-align: start;\r\n",
       "}\r\n",
       "table tr { \r\n",
       "    vertical-align: top; \r\n",
       "    margin: 0em 0px;\r\n",
       "}\r\n",
       "table tr td pre \r\n",
       "{ \r\n",
       "    vertical-align: top !important; \r\n",
       "    margin: 0em 0px !important;\r\n",
       "} \r\n",
       "table th {\r\n",
       "    text-align: start;\r\n",
       "}\r\n",
       "</style>"
      ]
     },
     "metadata": {},
     "output_type": "display_data"
    }
   ],
   "source": [
    "Seq.nth 0 even"
   ]
  },
  {
   "cell_type": "code",
   "execution_count": 7,
   "metadata": {
    "dotnet_interactive": {
     "language": "fsharp"
    },
    "polyglot_notebook": {
     "kernelName": "fsharp"
    },
    "vscode": {
     "languageId": "polyglot-notebook"
    }
   },
   "outputs": [
    {
     "ename": "Error",
     "evalue": "System.ArgumentException: The input sequence has an insufficient number of elements.\nseq was short by 9 elements (Parameter 'index')\n   at Microsoft.FSharp.Collections.Internal.IEnumerator.nth[T](Int32 index, IEnumerator`1 e) in D:\\a\\_work\\1\\s\\src\\FSharp.Core\\seq.fs:line 43\n   at Microsoft.FSharp.Collections.SeqModule.Item[T](Int32 index, IEnumerable`1 source) in D:\\a\\_work\\1\\s\\src\\FSharp.Core\\seq.fs:line 613\n   at <StartupCode$FSI_0012>.$FSI_0012.main@()\n   at System.RuntimeMethodHandle.InvokeMethod(Object target, Void** arguments, Signature sig, Boolean isConstructor)\n   at System.Reflection.MethodInvoker.Invoke(Object obj, IntPtr* args, BindingFlags invokeAttr)",
     "output_type": "error",
     "traceback": [
      "System.ArgumentException: The input sequence has an insufficient number of elements.\n",
      "seq was short by 9 elements (Parameter 'index')\n",
      "   at Microsoft.FSharp.Collections.Internal.IEnumerator.nth[T](Int32 index, IEnumerator`1 e) in D:\\a\\_work\\1\\s\\src\\FSharp.Core\\seq.fs:line 43\n",
      "   at Microsoft.FSharp.Collections.SeqModule.Item[T](Int32 index, IEnumerable`1 source) in D:\\a\\_work\\1\\s\\src\\FSharp.Core\\seq.fs:line 613\n",
      "   at <StartupCode$FSI_0012>.$FSI_0012.main@()\n",
      "   at System.RuntimeMethodHandle.InvokeMethod(Object target, Void** arguments, Signature sig, Boolean isConstructor)\n",
      "   at System.Reflection.MethodInvoker.Invoke(Object obj, IntPtr* args, BindingFlags invokeAttr)"
     ]
    }
   ],
   "source": [
    "Seq.nth 14 even"
   ]
  },
  {
   "attachments": {},
   "cell_type": "markdown",
   "metadata": {},
   "source": [
    "Se pueden construir secuencias complejas con cualquiera de los tipos de datos de F#:"
   ]
  },
  {
   "cell_type": "code",
   "execution_count": 8,
   "metadata": {
    "dotnet_interactive": {
     "language": "fsharp"
    },
    "polyglot_notebook": {
     "kernelName": "fsharp"
    },
    "vscode": {
     "languageId": "polyglot-notebook"
    }
   },
   "outputs": [],
   "source": [
    "type Person = { Name: string; Age: int }"
   ]
  },
  {
   "cell_type": "code",
   "execution_count": 49,
   "metadata": {
    "dotnet_interactive": {
     "language": "fsharp"
    },
    "polyglot_notebook": {
     "kernelName": "fsharp"
    },
    "vscode": {
     "languageId": "polyglot-notebook"
    }
   },
   "outputs": [
    {
     "name": "stdout",
     "output_type": "stream",
     "text": [
      "seq [\"Alice\"; \"Bob\"; \"Charlie\"]\n"
     ]
    }
   ],
   "source": [
    "let people = seq {\n",
    "    { Name = \"Alice\"; Age = 25 }; { Name = \"Bob\"; Age = 30 }; { Name = \"Charlie\"; Age = 35 }}\n",
    "let names = seq {\n",
    "                    for person in people -> person.Name\n",
    "                    }\n",
    "printfn \"%A\" names "
   ]
  },
  {
   "attachments": {},
   "cell_type": "markdown",
   "metadata": {},
   "source": [
    "Y usar el constructor `for` en un estilo imperativo para, por ejemplo, filtrar una secuencia: "
   ]
  },
  {
   "cell_type": "code",
   "execution_count": 50,
   "metadata": {
    "dotnet_interactive": {
     "language": "fsharp"
    },
    "polyglot_notebook": {
     "kernelName": "fsharp"
    },
    "vscode": {
     "languageId": "polyglot-notebook"
    }
   },
   "outputs": [
    {
     "data": {
      "text/html": [
       "<div class=\"dni-plaintext\"><pre>[ Alice, Bob ]</pre></div><style>\r\n",
       ".dni-code-hint {\r\n",
       "    font-style: italic;\r\n",
       "    overflow: hidden;\r\n",
       "    white-space: nowrap;\r\n",
       "}\r\n",
       ".dni-treeview {\r\n",
       "    white-space: nowrap;\r\n",
       "}\r\n",
       ".dni-treeview td {\r\n",
       "    vertical-align: top;\r\n",
       "    text-align: start;\r\n",
       "}\r\n",
       "details.dni-treeview {\r\n",
       "    padding-left: 1em;\r\n",
       "}\r\n",
       "table td {\r\n",
       "    text-align: start;\r\n",
       "}\r\n",
       "table tr { \r\n",
       "    vertical-align: top; \r\n",
       "    margin: 0em 0px;\r\n",
       "}\r\n",
       "table tr td pre \r\n",
       "{ \r\n",
       "    vertical-align: top !important; \r\n",
       "    margin: 0em 0px !important;\r\n",
       "} \r\n",
       "table th {\r\n",
       "    text-align: start;\r\n",
       "}\r\n",
       "</style>"
      ]
     },
     "metadata": {},
     "output_type": "display_data"
    }
   ],
   "source": [
    "seq {for person in people do \n",
    "        if (person.Age < 33) then yield person.Name}"
   ]
  },
  {
   "attachments": {},
   "cell_type": "markdown",
   "metadata": {},
   "source": [
    "El constructor `yield` agrega un elemento a la secuencia, pero cuando queremos agregar varios elementos, utilizamos `yield!`. En el ejemplo siguiente, concatenamos dos secuencias en una tercera"
   ]
  },
  {
   "cell_type": "code",
   "execution_count": 51,
   "metadata": {
    "dotnet_interactive": {
     "language": "fsharp"
    },
    "polyglot_notebook": {
     "kernelName": "fsharp"
    },
    "vscode": {
     "languageId": "polyglot-notebook"
    }
   },
   "outputs": [
    {
     "name": "stdout",
     "output_type": "stream",
     "text": [
      "l: seq [1; 2; 3; 4; ...]\n",
      "sq: seq [1; 4; 9; 16; ...]\n",
      "joined: seq [1; 2; 3; 4; ...]\n"
     ]
    }
   ],
   "source": [
    "let joined = \n",
    "    seq {\n",
    "        yield! l\n",
    "        yield! sq\n",
    "    }\n",
    "\n",
    "printfn $\"l: %A{l}\"\n",
    "printfn $\"sq: %A{sq}\"\n",
    "printfn $\"joined: %A{joined}\""
   ]
  },
  {
   "attachments": {},
   "cell_type": "markdown",
   "metadata": {},
   "source": [
    "> Nótese el uso del descriptor de formato %A en la cadena de caracteres interpolada. "
   ]
  },
  {
   "cell_type": "code",
   "execution_count": 52,
   "metadata": {
    "dotnet_interactive": {
     "language": "fsharp"
    },
    "polyglot_notebook": {
     "kernelName": "fsharp"
    },
    "vscode": {
     "languageId": "polyglot-notebook"
    }
   },
   "outputs": [
    {
     "data": {
      "text/html": [
       "<div class=\"dni-plaintext\"><pre>[ 1, 2, 3, 4, 5, 6, 7, 8, 9, 10 ]</pre></div><style>\r\n",
       ".dni-code-hint {\r\n",
       "    font-style: italic;\r\n",
       "    overflow: hidden;\r\n",
       "    white-space: nowrap;\r\n",
       "}\r\n",
       ".dni-treeview {\r\n",
       "    white-space: nowrap;\r\n",
       "}\r\n",
       ".dni-treeview td {\r\n",
       "    vertical-align: top;\r\n",
       "    text-align: start;\r\n",
       "}\r\n",
       "details.dni-treeview {\r\n",
       "    padding-left: 1em;\r\n",
       "}\r\n",
       "table td {\r\n",
       "    text-align: start;\r\n",
       "}\r\n",
       "table tr { \r\n",
       "    vertical-align: top; \r\n",
       "    margin: 0em 0px;\r\n",
       "}\r\n",
       "table tr td pre \r\n",
       "{ \r\n",
       "    vertical-align: top !important; \r\n",
       "    margin: 0em 0px !important;\r\n",
       "} \r\n",
       "table th {\r\n",
       "    text-align: start;\r\n",
       "}\r\n",
       "</style>"
      ]
     },
     "metadata": {},
     "output_type": "display_data"
    }
   ],
   "source": [
    "let anotherJoined = \n",
    "    seq {\n",
    "        yield! l\n",
    "        for x in 6..10 do x \n",
    "    }\n",
    "\n",
    "anotherJoined"
   ]
  },
  {
   "attachments": {},
   "cell_type": "markdown",
   "metadata": {},
   "source": [
    "#### Un poco de manejo de `strings`\n",
    "\n",
    "Empecemos a utilizar toda la potencia de las bibliotecas de .NET:\n",
    "\n",
    "- `System.IO.Path` que maneja todo aquello que tiene que ver con _paths_, es decir, nombres completos de archivos. \n",
    "- `System.String` que contiene métodos para trabajar con `strings`"
   ]
  },
  {
   "cell_type": "code",
   "execution_count": 53,
   "metadata": {
    "dotnet_interactive": {
     "language": "fsharp"
    },
    "polyglot_notebook": {
     "kernelName": "fsharp"
    },
    "vscode": {
     "languageId": "polyglot-notebook"
    }
   },
   "outputs": [
    {
     "name": "stdout",
     "output_type": "stream",
     "text": [
      "seq [\"txt\"; \"exe\"; \"doc\"; \"pdf\"]\n"
     ]
    }
   ],
   "source": [
    "let filepaths = seq { \"file1.txt\"; \"file2.exe\"; \"file3.txt\"; \"file4.doc\"; \"file5.pdf\" }\n",
    "\n",
    "let extensions =\n",
    "    seq {\n",
    "        for filepath in filepaths do\n",
    "            let extension = Path.GetExtension(filepath)\n",
    "            if not (String.IsNullOrEmpty(extension)) then\n",
    "                yield extension.Substring(1) // Grabs substring beginning at char index 1 \n",
    "    }\n",
    "    |> Seq.distinct\n",
    "\n",
    "printfn \"%A\" extensions "
   ]
  },
  {
   "attachments": {},
   "cell_type": "markdown",
   "metadata": {},
   "source": [
    "El método `.Substring(n)` de un objeto tipo `string` permite obtener la cadena de caracteres incluída en dicho objeto que comienza en caracter n-ésimo"
   ]
  },
  {
   "cell_type": "code",
   "execution_count": 54,
   "metadata": {
    "dotnet_interactive": {
     "language": "fsharp"
    },
    "polyglot_notebook": {
     "kernelName": "fsharp"
    },
    "vscode": {
     "languageId": "polyglot-notebook"
    }
   },
   "outputs": [
    {
     "name": "stdout",
     "output_type": "stream",
     "text": [
      "La bella y graciosa moza marchóse a lavar la ropa\n",
      "bella y graciosa moza marchóse a lavar la ropa\n"
     ]
    }
   ],
   "source": [
    "let titulo = \"La bella y graciosa moza marchóse a lavar la ropa\"\n",
    "\n",
    "printfn $\"{titulo}\"\n",
    "printfn $\"{titulo.Substring(3)}\""
   ]
  },
  {
   "attachments": {},
   "cell_type": "markdown",
   "metadata": {},
   "source": [
    "#### Lazy evaluation\n",
    "\n",
    "Como se mencionó arriba, los elementos de las secuencias se van construyendo a medida que se necesitan, en un proceso característico de muchos lenguajes funcionales que se denomina _lazy evaluation_ (evaluación ... perezosa?): "
   ]
  },
  {
   "cell_type": "code",
   "execution_count": 12,
   "metadata": {
    "dotnet_interactive": {
     "language": "fsharp"
    },
    "polyglot_notebook": {
     "kernelName": "fsharp"
    },
    "vscode": {
     "languageId": "polyglot-notebook"
    }
   },
   "outputs": [
    {
     "name": "stdout",
     "output_type": "stream",
     "text": [
      "intSeq: 1\n",
      "intSeq: 2\n",
      "intSeq: 3\n",
      "intSeq: 4\n",
      "intSeq: 1\n",
      "intSeq: 2\n",
      "intSeq: 3\n",
      "intSeq: 4\n",
      "intSeq: 5\n",
      "intSeq: 6\n"
     ]
    },
    {
     "data": {
      "text/html": [
       "<div class=\"dni-plaintext\"><pre>6</pre></div><style>\r\n",
       ".dni-code-hint {\r\n",
       "    font-style: italic;\r\n",
       "    overflow: hidden;\r\n",
       "    white-space: nowrap;\r\n",
       "}\r\n",
       ".dni-treeview {\r\n",
       "    white-space: nowrap;\r\n",
       "}\r\n",
       ".dni-treeview td {\r\n",
       "    vertical-align: top;\r\n",
       "    text-align: start;\r\n",
       "}\r\n",
       "details.dni-treeview {\r\n",
       "    padding-left: 1em;\r\n",
       "}\r\n",
       "table td {\r\n",
       "    text-align: start;\r\n",
       "}\r\n",
       "table tr { \r\n",
       "    vertical-align: top; \r\n",
       "    margin: 0em 0px;\r\n",
       "}\r\n",
       "table tr td pre \r\n",
       "{ \r\n",
       "    vertical-align: top !important; \r\n",
       "    margin: 0em 0px !important;\r\n",
       "} \r\n",
       "table th {\r\n",
       "    text-align: start;\r\n",
       "}\r\n",
       "</style>"
      ]
     },
     "metadata": {},
     "output_type": "display_data"
    }
   ],
   "source": [
    "let intSeq =\n",
    "    seq { for n in 1 .. 10 do\n",
    "            printfn \"intSeq: %i\" n\n",
    "            yield n }\n",
    "            \n",
    "Seq.nth 3 intSeq\n",
    "Seq.nth 5 intSeq\n",
    "            "
   ]
  },
  {
   "cell_type": "code",
   "execution_count": 10,
   "metadata": {
    "dotnet_interactive": {
     "language": "fsharp"
    },
    "polyglot_notebook": {
     "kernelName": "fsharp"
    },
    "vscode": {
     "languageId": "polyglot-notebook"
    }
   },
   "outputs": [
    {
     "name": "stdout",
     "output_type": "stream",
     "text": [
      "intSeq: 1\n",
      "intSeq: 2\n",
      "intSeq: 3\n",
      "intSeq: 4\n",
      "intSeq: 5\n",
      "intSeq: 6\n"
     ]
    },
    {
     "data": {
      "text/html": [
       "<div class=\"dni-plaintext\"><pre>6</pre></div><style>\r\n",
       ".dni-code-hint {\r\n",
       "    font-style: italic;\r\n",
       "    overflow: hidden;\r\n",
       "    white-space: nowrap;\r\n",
       "}\r\n",
       ".dni-treeview {\r\n",
       "    white-space: nowrap;\r\n",
       "}\r\n",
       ".dni-treeview td {\r\n",
       "    vertical-align: top;\r\n",
       "    text-align: start;\r\n",
       "}\r\n",
       "details.dni-treeview {\r\n",
       "    padding-left: 1em;\r\n",
       "}\r\n",
       "table td {\r\n",
       "    text-align: start;\r\n",
       "}\r\n",
       "table tr { \r\n",
       "    vertical-align: top; \r\n",
       "    margin: 0em 0px;\r\n",
       "}\r\n",
       "table tr td pre \r\n",
       "{ \r\n",
       "    vertical-align: top !important; \r\n",
       "    margin: 0em 0px !important;\r\n",
       "} \r\n",
       "table th {\r\n",
       "    text-align: start;\r\n",
       "}\r\n",
       "</style>"
      ]
     },
     "metadata": {},
     "output_type": "display_data"
    }
   ],
   "source": [
    "Seq.nth 5 intSeq\n"
   ]
  },
  {
   "attachments": {},
   "cell_type": "markdown",
   "metadata": {},
   "source": [
    "Esta característica permite que existan métodos como el siguiente, que \"evalua\" una secuencia infinita:"
   ]
  },
  {
   "cell_type": "code",
   "execution_count": 14,
   "metadata": {
    "dotnet_interactive": {
     "language": "fsharp"
    },
    "polyglot_notebook": {
     "kernelName": "fsharp"
    },
    "vscode": {
     "languageId": "polyglot-notebook"
    }
   },
   "outputs": [],
   "source": [
    "let allNumbers = Seq.initInfinite (fun i -> i * 2)"
   ]
  },
  {
   "attachments": {},
   "cell_type": "markdown",
   "metadata": {},
   "source": [
    "Sobre la cual puedo tomar una determinada cantidad de elementos con el método `Seq.take`"
   ]
  },
  {
   "cell_type": "code",
   "execution_count": 15,
   "metadata": {
    "dotnet_interactive": {
     "language": "fsharp"
    },
    "polyglot_notebook": {
     "kernelName": "fsharp"
    },
    "vscode": {
     "languageId": "polyglot-notebook"
    }
   },
   "outputs": [
    {
     "name": "stdout",
     "output_type": "stream",
     "text": [
      "seq [0; 2; 4; 6; ...]\n",
      "20\n",
      "seq [0; 2; 4; 6; ...]\n",
      "30\n"
     ]
    }
   ],
   "source": [
    "printfn \"%A\" (allNumbers |> Seq.take 20)\n",
    "printfn \"%A\" (allNumbers |> Seq.take 20 |> Seq.length)\n",
    "printfn \"%A\" (allNumbers |> Seq.take 30)\n",
    "printfn \"%A\" (allNumbers |> Seq.take 30 |> Seq.length)"
   ]
  },
  {
   "attachments": {},
   "cell_type": "markdown",
   "metadata": {},
   "source": [
    "Pero hay que tener precaución al hacer este tipo de cosas:"
   ]
  },
  {
   "cell_type": "code",
   "execution_count": 16,
   "metadata": {
    "dotnet_interactive": {
     "language": "fsharp"
    },
    "polyglot_notebook": {
     "kernelName": "fsharp"
    },
    "vscode": {
     "languageId": "polyglot-notebook"
    }
   },
   "outputs": [
    {
     "ename": "Error",
     "evalue": "System.InvalidOperationException: Enumeration based on System.Int32 exceeded System.Int32.MaxValue.\n   at Microsoft.FSharp.Collections.Internal.IEnumerator.upto@323.System.Collections.IEnumerator.MoveNext() in D:\\a\\_work\\1\\s\\src\\FSharp.Core\\seq.fs:line 336\n   at Microsoft.FSharp.Collections.SeqModule.Length[T](IEnumerable`1 source) in D:\\a\\_work\\1\\s\\src\\FSharp.Core\\seq.fs:line 870\n   at <StartupCode$FSI_0024>.$FSI_0024.main@()\n   at System.RuntimeMethodHandle.InvokeMethod(Object target, Void** arguments, Signature sig, Boolean isConstructor)\n   at System.Reflection.MethodInvoker.Invoke(Object obj, IntPtr* args, BindingFlags invokeAttr)",
     "output_type": "error",
     "traceback": [
      "System.InvalidOperationException: Enumeration based on System.Int32 exceeded System.Int32.MaxValue.\n",
      "   at Microsoft.FSharp.Collections.Internal.IEnumerator.upto@323.System.Collections.IEnumerator.MoveNext() in D:\\a\\_work\\1\\s\\src\\FSharp.Core\\seq.fs:line 336\n",
      "   at Microsoft.FSharp.Collections.SeqModule.Length[T](IEnumerable`1 source) in D:\\a\\_work\\1\\s\\src\\FSharp.Core\\seq.fs:line 870\n",
      "   at <StartupCode$FSI_0024>.$FSI_0024.main@()\n",
      "   at System.RuntimeMethodHandle.InvokeMethod(Object target, Void** arguments, Signature sig, Boolean isConstructor)\n",
      "   at System.Reflection.MethodInvoker.Invoke(Object obj, IntPtr* args, BindingFlags invokeAttr)"
     ]
    }
   ],
   "source": [
    "printfn \"%A\" (allNumbers |> Seq.length) // Ojo!!!!"
   ]
  },
  {
   "attachments": {},
   "cell_type": "markdown",
   "metadata": {},
   "source": [
    "El tipo `seq` es compatible con el tipo `IEnumerable<'T>` del ecosistema .NET. Por lo tanto, cualquier uso de una biblioteca de .NET que nos devuelva un `IEnumerable<'T>`, se usa directamente como una secuencia:"
   ]
  },
  {
   "cell_type": "code",
   "execution_count": 19,
   "metadata": {
    "dotnet_interactive": {
     "language": "fsharp"
    },
    "polyglot_notebook": {
     "kernelName": "fsharp"
    },
    "vscode": {
     "languageId": "polyglot-notebook"
    }
   },
   "outputs": [
    {
     "name": "stdout",
     "output_type": "stream",
     "text": [
      "/Users/flavioc/Library/Mobile Documents/com~apple~CloudDocs/Documents/Blog/es\n",
      "IntroToTypes_es.ipynb created at 4/13/2023 10:15:44 AM\n",
      "DiscriminatedUnions_es.ipynb created at 4/17/2023 9:39:43 AM\n",
      "Fundamentals_es.ipynb created at 4/13/2023 1:51:14 PM\n",
      "Results.ipynb created at 4/27/2023 2:27:32 PM\n",
      "Exceptions.ipynb created at 4/25/2023 9:39:00 AM\n",
      "YetAnotherTakeOnCollections.ipynb created at 5/1/2023 5:02:39 PM\n",
      "IO.ipynb created at 5/2/2023 10:41:05 AM\n",
      "OnCollections.ipynb created at 4/25/2023 9:39:00 AM\n",
      "DUs.ipynb created at 4/17/2023 9:39:43 AM\n",
      "ControlFlow.ipynb created at 4/13/2023 1:51:14 PM\n",
      "Tuples.ipynb created at 4/19/2023 9:06:42 AM\n",
      "MoreOnCollections.ipynb created at 4/25/2023 9:39:00 AM\n",
      "Introduccion.md created at 11/3/2022 4:54:54 PM\n",
      "Maps.ipynb created at 4/25/2023 9:39:00 AM\n",
      "Records_es.ipynb created at 4/13/2023 10:16:13 AM\n",
      "TypeExercises.ipynb created at 4/13/2023 11:11:06 AM\n",
      "MasSobreFunciones.ipynb created at 4/13/2023 1:51:14 PM\n",
      "Functions_es.ipynb created at 4/13/2023 1:51:14 PM\n",
      "Units.ipynb created at 4/27/2023 2:27:32 PM\n"
     ]
    },
    {
     "data": {
      "text/html": [
       "<table><thead><tr><th><i>index</i></th><th>value</th></tr></thead><tbody><tr><td>0</td><td><details class=\"dni-treeview\"><summary><span class=\"dni-code-hint\"><code>(IntroToTypes_es.ipynb, 4/13/2023 10:15:44 AM)</code></span></summary><div><table><thead><tr></tr></thead><tbody><tr><td>Item1</td><td>IntroToTypes_es.ipynb</td></tr><tr><td>Item2</td><td><span>2023-04-13 10:15:44Z</span></td></tr></tbody></table></div></details></td></tr><tr><td>1</td><td><details class=\"dni-treeview\"><summary><span class=\"dni-code-hint\"><code>(DiscriminatedUnions_es.ipynb, 4/17/2023 9:39:43 AM)</code></span></summary><div><table><thead><tr></tr></thead><tbody><tr><td>Item1</td><td>DiscriminatedUnions_es.ipynb</td></tr><tr><td>Item2</td><td><span>2023-04-17 09:39:43Z</span></td></tr></tbody></table></div></details></td></tr><tr><td>2</td><td><details class=\"dni-treeview\"><summary><span class=\"dni-code-hint\"><code>(Fundamentals_es.ipynb, 4/13/2023 1:51:14 PM)</code></span></summary><div><table><thead><tr></tr></thead><tbody><tr><td>Item1</td><td>Fundamentals_es.ipynb</td></tr><tr><td>Item2</td><td><span>2023-04-13 13:51:14Z</span></td></tr></tbody></table></div></details></td></tr><tr><td>3</td><td><details class=\"dni-treeview\"><summary><span class=\"dni-code-hint\"><code>(Results.ipynb, 4/27/2023 2:27:32 PM)</code></span></summary><div><table><thead><tr></tr></thead><tbody><tr><td>Item1</td><td>Results.ipynb</td></tr><tr><td>Item2</td><td><span>2023-04-27 14:27:32Z</span></td></tr></tbody></table></div></details></td></tr><tr><td>4</td><td><details class=\"dni-treeview\"><summary><span class=\"dni-code-hint\"><code>(Exceptions.ipynb, 4/25/2023 9:39:00 AM)</code></span></summary><div><table><thead><tr></tr></thead><tbody><tr><td>Item1</td><td>Exceptions.ipynb</td></tr><tr><td>Item2</td><td><span>2023-04-25 09:39:00Z</span></td></tr></tbody></table></div></details></td></tr><tr><td>5</td><td><details class=\"dni-treeview\"><summary><span class=\"dni-code-hint\"><code>(YetAnotherTakeOnCollections.ipynb, 5/1/2023 5:02:39 PM)</code></span></summary><div><table><thead><tr></tr></thead><tbody><tr><td>Item1</td><td>YetAnotherTakeOnCollections.ipynb</td></tr><tr><td>Item2</td><td><span>2023-05-01 17:02:39Z</span></td></tr></tbody></table></div></details></td></tr><tr><td>6</td><td><details class=\"dni-treeview\"><summary><span class=\"dni-code-hint\"><code>(IO.ipynb, 5/2/2023 10:41:05 AM)</code></span></summary><div><table><thead><tr></tr></thead><tbody><tr><td>Item1</td><td>IO.ipynb</td></tr><tr><td>Item2</td><td><span>2023-05-02 10:41:05Z</span></td></tr></tbody></table></div></details></td></tr><tr><td>7</td><td><details class=\"dni-treeview\"><summary><span class=\"dni-code-hint\"><code>(OnCollections.ipynb, 4/25/2023 9:39:00 AM)</code></span></summary><div><table><thead><tr></tr></thead><tbody><tr><td>Item1</td><td>OnCollections.ipynb</td></tr><tr><td>Item2</td><td><span>2023-04-25 09:39:00Z</span></td></tr></tbody></table></div></details></td></tr><tr><td>8</td><td><details class=\"dni-treeview\"><summary><span class=\"dni-code-hint\"><code>(DUs.ipynb, 4/17/2023 9:39:43 AM)</code></span></summary><div><table><thead><tr></tr></thead><tbody><tr><td>Item1</td><td>DUs.ipynb</td></tr><tr><td>Item2</td><td><span>2023-04-17 09:39:43Z</span></td></tr></tbody></table></div></details></td></tr><tr><td>9</td><td><details class=\"dni-treeview\"><summary><span class=\"dni-code-hint\"><code>(ControlFlow.ipynb, 4/13/2023 1:51:14 PM)</code></span></summary><div><table><thead><tr></tr></thead><tbody><tr><td>Item1</td><td>ControlFlow.ipynb</td></tr><tr><td>Item2</td><td><span>2023-04-13 13:51:14Z</span></td></tr></tbody></table></div></details></td></tr><tr><td>10</td><td><details class=\"dni-treeview\"><summary><span class=\"dni-code-hint\"><code>(Tuples.ipynb, 4/19/2023 9:06:42 AM)</code></span></summary><div><table><thead><tr></tr></thead><tbody><tr><td>Item1</td><td>Tuples.ipynb</td></tr><tr><td>Item2</td><td><span>2023-04-19 09:06:42Z</span></td></tr></tbody></table></div></details></td></tr><tr><td>11</td><td><details class=\"dni-treeview\"><summary><span class=\"dni-code-hint\"><code>(MoreOnCollections.ipynb, 4/25/2023 9:39:00 AM)</code></span></summary><div><table><thead><tr></tr></thead><tbody><tr><td>Item1</td><td>MoreOnCollections.ipynb</td></tr><tr><td>Item2</td><td><span>2023-04-25 09:39:00Z</span></td></tr></tbody></table></div></details></td></tr><tr><td>12</td><td><details class=\"dni-treeview\"><summary><span class=\"dni-code-hint\"><code>(Introduccion.md, 11/3/2022 4:54:54 PM)</code></span></summary><div><table><thead><tr></tr></thead><tbody><tr><td>Item1</td><td>Introduccion.md</td></tr><tr><td>Item2</td><td><span>2022-11-03 16:54:54Z</span></td></tr></tbody></table></div></details></td></tr><tr><td>13</td><td><details class=\"dni-treeview\"><summary><span class=\"dni-code-hint\"><code>(Maps.ipynb, 4/25/2023 9:39:00 AM)</code></span></summary><div><table><thead><tr></tr></thead><tbody><tr><td>Item1</td><td>Maps.ipynb</td></tr><tr><td>Item2</td><td><span>2023-04-25 09:39:00Z</span></td></tr></tbody></table></div></details></td></tr><tr><td>14</td><td><details class=\"dni-treeview\"><summary><span class=\"dni-code-hint\"><code>(Records_es.ipynb, 4/13/2023 10:16:13 AM)</code></span></summary><div><table><thead><tr></tr></thead><tbody><tr><td>Item1</td><td>Records_es.ipynb</td></tr><tr><td>Item2</td><td><span>2023-04-13 10:16:13Z</span></td></tr></tbody></table></div></details></td></tr><tr><td>15</td><td><details class=\"dni-treeview\"><summary><span class=\"dni-code-hint\"><code>(TypeExercises.ipynb, 4/13/2023 11:11:06 AM)</code></span></summary><div><table><thead><tr></tr></thead><tbody><tr><td>Item1</td><td>TypeExercises.ipynb</td></tr><tr><td>Item2</td><td><span>2023-04-13 11:11:06Z</span></td></tr></tbody></table></div></details></td></tr><tr><td>16</td><td><details class=\"dni-treeview\"><summary><span class=\"dni-code-hint\"><code>(MasSobreFunciones.ipynb, 4/13/2023 1:51:14 PM)</code></span></summary><div><table><thead><tr></tr></thead><tbody><tr><td>Item1</td><td>MasSobreFunciones.ipynb</td></tr><tr><td>Item2</td><td><span>2023-04-13 13:51:14Z</span></td></tr></tbody></table></div></details></td></tr><tr><td>17</td><td><details class=\"dni-treeview\"><summary><span class=\"dni-code-hint\"><code>(Functions_es.ipynb, 4/13/2023 1:51:14 PM)</code></span></summary><div><table><thead><tr></tr></thead><tbody><tr><td>Item1</td><td>Functions_es.ipynb</td></tr><tr><td>Item2</td><td><span>2023-04-13 13:51:14Z</span></td></tr></tbody></table></div></details></td></tr><tr><td>18</td><td><details class=\"dni-treeview\"><summary><span class=\"dni-code-hint\"><code>(Units.ipynb, 4/27/2023 2:27:32 PM)</code></span></summary><div><table><thead><tr></tr></thead><tbody><tr><td>Item1</td><td>Units.ipynb</td></tr><tr><td>Item2</td><td><span>2023-04-27 14:27:32Z</span></td></tr></tbody></table></div></details></td></tr></tbody></table><style>\r\n",
       ".dni-code-hint {\r\n",
       "    font-style: italic;\r\n",
       "    overflow: hidden;\r\n",
       "    white-space: nowrap;\r\n",
       "}\r\n",
       ".dni-treeview {\r\n",
       "    white-space: nowrap;\r\n",
       "}\r\n",
       ".dni-treeview td {\r\n",
       "    vertical-align: top;\r\n",
       "    text-align: start;\r\n",
       "}\r\n",
       "details.dni-treeview {\r\n",
       "    padding-left: 1em;\r\n",
       "}\r\n",
       "table td {\r\n",
       "    text-align: start;\r\n",
       "}\r\n",
       "table tr { \r\n",
       "    vertical-align: top; \r\n",
       "    margin: 0em 0px;\r\n",
       "}\r\n",
       "table tr td pre \r\n",
       "{ \r\n",
       "    vertical-align: top !important; \r\n",
       "    margin: 0em 0px !important;\r\n",
       "} \r\n",
       "table th {\r\n",
       "    text-align: start;\r\n",
       "}\r\n",
       "</style>"
      ]
     },
     "metadata": {},
     "output_type": "display_data"
    }
   ],
   "source": [
    "\n",
    "let cwd = System.IO.Directory.GetCurrentDirectory()\n",
    "printfn \"%s\" cwd\n",
    "\n",
    "let files =\n",
    "        System.IO.Directory.EnumerateFiles(cwd)\n",
    "        |> Seq.map(fun f -> (System.IO.Path.GetFileName(f),File.GetCreationTime(f)))\n",
    "        \n",
    "\n",
    "files \n",
    "|> Seq.iter(fun (name,date) -> printfn $\"{name} created at {date}\") \n",
    "\n",
    "files\n",
    "|> Seq.toList        "
   ]
  },
  {
   "attachments": {},
   "cell_type": "markdown",
   "metadata": {},
   "source": [
    "Aquí utilizamos los módulos de .NET\n",
    "\n",
    "- `System.IO.Directory` que maneja todo aquello que tiene que ver con directorios, es decir, nombres completos de archivos. \n",
    "- `System.IO.File` que contiene métodos para trabajar con archivos.\n",
    "\n",
    "y los métodos `Seq.map` y `Seq.iter` similares a los que se utilizan con listas."
   ]
  },
  {
   "attachments": {},
   "cell_type": "markdown",
   "metadata": {},
   "source": [
    "### Lists comprehension\n",
    "\n",
    "En forma similar a la de los párrafos precedentes, donde usamos la construcción `[for x in collection do ... yield expr]` para recrear secuencias; y al igual que otros lenguajes como [Python](https://www.w3schools.com/python/python_lists_comprehension.asp) o [Haskell](https://wiki.haskell.org/List_comprehension), se lo puede utilizar en F# para realizar _compresiones de listas_, esto es, una forma imperativa de construir una lista. "
   ]
  },
  {
   "cell_type": "code",
   "execution_count": 60,
   "metadata": {
    "dotnet_interactive": {
     "language": "fsharp"
    },
    "polyglot_notebook": {
     "kernelName": "fsharp"
    },
    "vscode": {
     "languageId": "polyglot-notebook"
    }
   },
   "outputs": [
    {
     "data": {
      "text/html": [
       "<div class=\"dni-plaintext\"><pre>1</pre></div><style>\r\n",
       ".dni-code-hint {\r\n",
       "    font-style: italic;\r\n",
       "    overflow: hidden;\r\n",
       "    white-space: nowrap;\r\n",
       "}\r\n",
       ".dni-treeview {\r\n",
       "    white-space: nowrap;\r\n",
       "}\r\n",
       ".dni-treeview td {\r\n",
       "    vertical-align: top;\r\n",
       "    text-align: start;\r\n",
       "}\r\n",
       "details.dni-treeview {\r\n",
       "    padding-left: 1em;\r\n",
       "}\r\n",
       "table td {\r\n",
       "    text-align: start;\r\n",
       "}\r\n",
       "table tr { \r\n",
       "    vertical-align: top; \r\n",
       "    margin: 0em 0px;\r\n",
       "}\r\n",
       "table tr td pre \r\n",
       "{ \r\n",
       "    vertical-align: top !important; \r\n",
       "    margin: 0em 0px !important;\r\n",
       "} \r\n",
       "table th {\r\n",
       "    text-align: start;\r\n",
       "}\r\n",
       "</style>"
      ]
     },
     "metadata": {},
     "output_type": "display_data"
    }
   ],
   "source": [
    "let l = [for x in 1..5 -> x ]\n",
    "l.Head"
   ]
  },
  {
   "cell_type": "code",
   "execution_count": 61,
   "metadata": {
    "dotnet_interactive": {
     "language": "fsharp"
    },
    "polyglot_notebook": {
     "kernelName": "fsharp"
    },
    "vscode": {
     "languageId": "polyglot-notebook"
    }
   },
   "outputs": [
    {
     "data": {
      "text/html": [
       "<div class=\"dni-plaintext\"><pre>[ 1, 4, 9, 16, 25 ]</pre></div><style>\r\n",
       ".dni-code-hint {\r\n",
       "    font-style: italic;\r\n",
       "    overflow: hidden;\r\n",
       "    white-space: nowrap;\r\n",
       "}\r\n",
       ".dni-treeview {\r\n",
       "    white-space: nowrap;\r\n",
       "}\r\n",
       ".dni-treeview td {\r\n",
       "    vertical-align: top;\r\n",
       "    text-align: start;\r\n",
       "}\r\n",
       "details.dni-treeview {\r\n",
       "    padding-left: 1em;\r\n",
       "}\r\n",
       "table td {\r\n",
       "    text-align: start;\r\n",
       "}\r\n",
       "table tr { \r\n",
       "    vertical-align: top; \r\n",
       "    margin: 0em 0px;\r\n",
       "}\r\n",
       "table tr td pre \r\n",
       "{ \r\n",
       "    vertical-align: top !important; \r\n",
       "    margin: 0em 0px !important;\r\n",
       "} \r\n",
       "table th {\r\n",
       "    text-align: start;\r\n",
       "}\r\n",
       "</style>"
      ]
     },
     "metadata": {},
     "output_type": "display_data"
    }
   ],
   "source": [
    "let sq =  [for x in 1..5 -> x*x ]\n",
    "sq"
   ]
  },
  {
   "cell_type": "code",
   "execution_count": 62,
   "metadata": {
    "dotnet_interactive": {
     "language": "fsharp"
    },
    "polyglot_notebook": {
     "kernelName": "fsharp"
    },
    "vscode": {
     "languageId": "polyglot-notebook"
    }
   },
   "outputs": [
    {
     "data": {
      "text/html": [
       "<div class=\"dni-plaintext\"><pre>[ 0, 6, 12, 18, 24, 30 ]</pre></div><style>\r\n",
       ".dni-code-hint {\r\n",
       "    font-style: italic;\r\n",
       "    overflow: hidden;\r\n",
       "    white-space: nowrap;\r\n",
       "}\r\n",
       ".dni-treeview {\r\n",
       "    white-space: nowrap;\r\n",
       "}\r\n",
       ".dni-treeview td {\r\n",
       "    vertical-align: top;\r\n",
       "    text-align: start;\r\n",
       "}\r\n",
       "details.dni-treeview {\r\n",
       "    padding-left: 1em;\r\n",
       "}\r\n",
       "table td {\r\n",
       "    text-align: start;\r\n",
       "}\r\n",
       "table tr { \r\n",
       "    vertical-align: top; \r\n",
       "    margin: 0em 0px;\r\n",
       "}\r\n",
       "table tr td pre \r\n",
       "{ \r\n",
       "    vertical-align: top !important; \r\n",
       "    margin: 0em 0px !important;\r\n",
       "} \r\n",
       "table th {\r\n",
       "    text-align: start;\r\n",
       "}\r\n",
       "</style>"
      ]
     },
     "metadata": {},
     "output_type": "display_data"
    }
   ],
   "source": [
    "let even = [for x in 0..3..30 do\n",
    "                if (x % 2 = 0) then \n",
    "                    yield x]\n",
    "even                     "
   ]
  },
  {
   "cell_type": "code",
   "execution_count": 63,
   "metadata": {
    "dotnet_interactive": {
     "language": "fsharp"
    },
    "polyglot_notebook": {
     "kernelName": "fsharp"
    },
    "vscode": {
     "languageId": "polyglot-notebook"
    }
   },
   "outputs": [],
   "source": [
    "type Person = { Name: string; Age: int }"
   ]
  },
  {
   "cell_type": "code",
   "execution_count": 64,
   "metadata": {
    "dotnet_interactive": {
     "language": "fsharp"
    },
    "polyglot_notebook": {
     "kernelName": "fsharp"
    },
    "vscode": {
     "languageId": "polyglot-notebook"
    }
   },
   "outputs": [
    {
     "name": "stdout",
     "output_type": "stream",
     "text": [
      "[\"Alice\"; \"Bob\"; \"Charlie\"]\n"
     ]
    }
   ],
   "source": [
    "let people = [{ Name = \"Alice\"; Age = 25 }; { Name = \"Bob\"; Age = 30 }; { Name = \"Charlie\"; Age = 35 }]\n",
    "let names = [for person in people -> person.Name]\n",
    "printfn \"%A\" names "
   ]
  },
  {
   "cell_type": "code",
   "execution_count": 65,
   "metadata": {
    "dotnet_interactive": {
     "language": "fsharp"
    },
    "polyglot_notebook": {
     "kernelName": "fsharp"
    },
    "vscode": {
     "languageId": "polyglot-notebook"
    }
   },
   "outputs": [
    {
     "data": {
      "text/html": [
       "<div class=\"dni-plaintext\"><pre>[ Alice, Bob ]</pre></div><style>\r\n",
       ".dni-code-hint {\r\n",
       "    font-style: italic;\r\n",
       "    overflow: hidden;\r\n",
       "    white-space: nowrap;\r\n",
       "}\r\n",
       ".dni-treeview {\r\n",
       "    white-space: nowrap;\r\n",
       "}\r\n",
       ".dni-treeview td {\r\n",
       "    vertical-align: top;\r\n",
       "    text-align: start;\r\n",
       "}\r\n",
       "details.dni-treeview {\r\n",
       "    padding-left: 1em;\r\n",
       "}\r\n",
       "table td {\r\n",
       "    text-align: start;\r\n",
       "}\r\n",
       "table tr { \r\n",
       "    vertical-align: top; \r\n",
       "    margin: 0em 0px;\r\n",
       "}\r\n",
       "table tr td pre \r\n",
       "{ \r\n",
       "    vertical-align: top !important; \r\n",
       "    margin: 0em 0px !important;\r\n",
       "} \r\n",
       "table th {\r\n",
       "    text-align: start;\r\n",
       "}\r\n",
       "</style>"
      ]
     },
     "metadata": {},
     "output_type": "display_data"
    }
   ],
   "source": [
    "[for person in people do \n",
    "    if (person.Age < 33) then yield person.Name]"
   ]
  },
  {
   "attachments": {},
   "cell_type": "markdown",
   "metadata": {},
   "source": [
    "Nótese que las listas no se evalúan en forma perezosa:"
   ]
  },
  {
   "cell_type": "code",
   "execution_count": 66,
   "metadata": {
    "dotnet_interactive": {
     "language": "fsharp"
    },
    "polyglot_notebook": {
     "kernelName": "fsharp"
    },
    "vscode": {
     "languageId": "polyglot-notebook"
    }
   },
   "outputs": [
    {
     "name": "stdout",
     "output_type": "stream",
     "text": [
      "intLst: 1\n",
      "intLst: 2\n",
      "intLst: 3\n",
      "intLst: 4\n",
      "intLst: 5\n",
      "intLst: 6\n",
      "intLst: 7\n",
      "intLst: 8\n",
      "intLst: 9\n",
      "intLst: 10\n"
     ]
    }
   ],
   "source": [
    "let intLst =\n",
    "    [ for a in 1 .. 10 do\n",
    "        printfn \"intLst: %i\" a\n",
    "        yield a ]"
   ]
  }
 ],
 "metadata": {
  "language_info": {
   "name": "python"
  },
  "orig_nbformat": 4
 },
 "nbformat": 4,
 "nbformat_minor": 2
}
