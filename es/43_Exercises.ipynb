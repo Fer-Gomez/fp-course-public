{
  "cells": [
    {
      "cell_type": "markdown",
      "metadata": {},
      "source": [
        "## Ejercicios"
      ]
    },
    {
      "cell_type": "markdown",
      "metadata": {},
      "source": [
        "### Manejando ventanas\n",
        "\n",
        "En cualquier sistema operativo con interface gráfica existe el concepto de _ventanas_. Una ventana es un rectángulo de un dado ancho y un \n",
        "dado alto, medidos en pixeles, que se posiciona en algún lugar de la ventana principal que brinda el sistema, comunmente denominada _escritorio_. \n",
        "El escritorio tiene un tamaño dado también en píxeles, determinado por la resolución del monitor. Para fijar ideas, asumamos que esta \n",
        "resolución corresponde a _Full HD_, es decir, 1920 x 1080 pixeles. La esquina superior izquierda del escritorio es el origen de coordenadas,\n",
        "mientras que la esquina inferior derecha corresponde a x=1919, y=1079.\n",
        "La posición de la ventana se refiere a la coordenada (x,y) de su esquina superior izquierda, referida al origen de coordenadas del escritorio.\n",
        "\n",
        "- Defina un tipo de dato para representar una ventana, y su posición en el escritorio.\n",
        "- Escriba funciones para manejar las ventanas de los programas abiertos, esto es:\n",
        "  \n",
        "  - Crear una ventana al abrir un programa y agregarla a la colección actual de ventanas. \n",
        "  - Cerrar una ventana y removerla de la colección actual de ventanas.\n",
        "  - Maximizar una ventana.\n",
        "  - Minimizar una ventana.\n",
        "\n",
        "- Las ventanas pueden estar superpuestas unas con otras, de modo tal que es necesario saber cuál ventana está más arriba que otra. Agregue\n",
        "este requerimiento a los tipos de datos y funciones anteriores, modificando lo necesario.\n",
        "\n",
        "- Para mejorar el funcionamiento, el sistema operativo no dibuja aquellas partes de las ventanas que se encuentran ocultas. Escriba funciones\n",
        "  que le permitan al sistema operativo calcular la _oclusión_ entre dos ventanas, esto es, determinar el área superpuesta entre esas dos\n",
        "  ventanas.\n"
      ]
    },
    {
      "cell_type": "markdown",
      "metadata": {},
      "source": [
        "### Trenes ingleses\n",
        "\n",
        "> Este es un dominio de verdad, tratado por [Kit Easton en su libro Stylish F#](https://doi.org/10.1007/978-1-4842-4000-7_2), cuya lectura recomiendo. En particular, el primer capítulo es de lectura imprescindible para comprender qué significa un estilo de programación, más allá\n",
        "del lenguaje usado.\n",
        "\n",
        "Los trenes británicos, antes de pasar al sistema decimal, usaban como medidas la milla y la yarda. Una milla tiene 1760 yardas, y una \n",
        "yarda es igual a 0.9144 metros. Como si esto fuera poco, el sistema que se utilizaba para escribir las distancias era un número decimal, \n",
        "donde la parte entera es el número de millas, _y la parte fraccional el número de yardas_... Entonces, una milla y media se escribe como \n",
        "1.0880, puesto que 880 es exactamente 1760 yardas dividido dos. La parte fraccionaria entonces toma valores desde 0.0 hasta 0.1759. Siguiendo\n",
        "a Easton, llamaremos a esta notación _millas.yardas_.\n",
        "\n",
        "- Escriba funciones para convertir de la notación millas.yardas a millas decimales, y viceversa.\n",
        "\n",
        "No contentos con esto, a veces no se utiliza las millas.yardas, sino que se usa la notación _millas y cadenas_, donde una cadena se define\n",
        "como 22 yardas. \n",
        "\n",
        "- Escriba las funciones para convertir esta nueva notación a las anteriores.\n"
      ]
    }
  ],
  "metadata": {
    "language_info": {
      "name": "python"
    },
    "orig_nbformat": 4
  },
  "nbformat": 4,
  "nbformat_minor": 2
}
