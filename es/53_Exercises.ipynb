{
  "cells": [
    {
      "cell_type": "markdown",
      "metadata": {
      },
      "source": [
        "### El _Kata_ del tenis\n\nEl propósito de este _kata_ es modelar el puntaje durante un partido de tenis. El puntaje se cuenta de la siguiente \nforma:\n\n- Un juego lo gana el primer jugador que ha ganado al menos cuatro puntos en total y al menos dos puntos más que el oponente.\n- La puntuación actual de cada juego se describe de una manera peculiar del tenis: las puntuaciones de cero a tres puntos se describen como \"cero\" (_love_), \"15\", \"30\" y \"40\", respectivamente.\n- Si cada jugador ha anotado al menos tres puntos y los puntajes son iguales, el puntaje es \"iguales\" (_deuce_).\n- Si cada lado ha anotado al menos tres puntos y un jugador tiene un punto más que su oponente, el puntaje del juego se dice que es \"ventaja\" (_advantage_) para el jugador que va en cabeza.\n\n\n"
      ]
    }
  ],
  "metadata": {
    "language_info": {
      "name": "python"
    },
    "orig_nbformat": 4
  },
  "nbformat": 4,
  "nbformat_minor": 2
}